{
 "cells": [
  {
   "cell_type": "markdown",
   "id": "9b130544",
   "metadata": {
    "slideshow": {
     "slide_type": "-"
    }
   },
   "source": [
    "# Cookie Cutter House"
   ]
  },
  {
   "cell_type": "markdown",
   "id": "927fffe1",
   "metadata": {},
   "source": [
    "Pair up with someone you have not partnered with before."
   ]
  },
  {
   "cell_type": "code",
   "execution_count": null,
   "id": "ef2c6b0b",
   "metadata": {},
   "outputs": [],
   "source": []
  }
 ],
 "metadata": {
  "celltoolbar": "Slideshow",
  "kernelspec": {
   "display_name": "Python 3 (ipykernel)",
   "language": "python",
   "name": "python3"
  },
  "language_info": {
   "codemirror_mode": {
    "name": "ipython",
    "version": 3
   },
   "file_extension": ".py",
   "mimetype": "text/x-python",
   "name": "python",
   "nbconvert_exporter": "python",
   "pygments_lexer": "ipython3",
   "version": "3.9.7"
  }
 },
 "nbformat": 4,
 "nbformat_minor": 5
}
