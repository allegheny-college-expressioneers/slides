{
 "cells": [
  {
   "cell_type": "markdown",
   "id": "dacb546c-b946-44f2-a449-19df6289ed99",
   "metadata": {
    "slideshow": {
     "slide_type": "slide"
    },
    "tags": []
   },
   "source": [
    "# Slide 1"
   ]
  },
  {
   "cell_type": "code",
   "execution_count": 4,
   "id": "8a4e74f4-69cf-4c3e-b1fa-a8f6e28b7cbe",
   "metadata": {
    "slideshow": {
     "slide_type": "subslide"
    }
   },
   "outputs": [
    {
     "name": "stdout",
     "output_type": "stream",
     "text": [
      "say hi\n"
     ]
    }
   ],
   "source": [
    "def hi():\n",
    "    print('say hi')\n",
    "hi()"
   ]
  },
  {
   "cell_type": "markdown",
   "id": "3f57fbff",
   "metadata": {
    "slideshow": {
     "slide_type": "slide"
    }
   },
   "source": [
    "# Slide 2"
   ]
  },
  {
   "cell_type": "code",
   "execution_count": null,
   "id": "c966804b",
   "metadata": {},
   "outputs": [],
   "source": []
  }
 ],
 "metadata": {
  "rise": {
   "autolaunch": true,
   "enable_chalkboard": true,
   "start_slideshow_at": "beginning",
   "transition": "zoom",
   "theme": "sky",
   "width": "90%",
   "height": "90%"
  },
  "celltoolbar": "Slideshow",
  "kernelspec": {
   "display_name": "Python 3 (ipykernel)",
   "language": "python",
   "name": "python3"
  },
  "language_info": {
   "codemirror_mode": {
    "name": "ipython",
    "version": 3
   },
   "file_extension": ".py",
   "mimetype": "text/x-python",
   "name": "python",
   "nbconvert_exporter": "python",
   "pygments_lexer": "ipython3",
   "version": "3.9.7"
  }
 },
 "nbformat": 4,
 "nbformat_minor": 5
}