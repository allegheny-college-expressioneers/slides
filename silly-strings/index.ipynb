{
 "cells": [
  {
   "cell_type": "markdown",
   "id": "2c3657fb",
   "metadata": {
    "slideshow": {
     "slide_type": "slide"
    },
    "tags": []
   },
   "source": [
    "# Silly Strings"
   ]
  },
  {
   "cell_type": "markdown",
   "id": "b75dbb0f",
   "metadata": {
    "slideshow": {
     "slide_type": "slide"
    }
   },
   "source": [
    "# What are strings?\n",
    "\n",
    "So far, we have used string, integer, float, and boolean values."
   ]
  },
  {
   "cell_type": "markdown",
   "id": "7d38a0bc",
   "metadata": {
    "slideshow": {
     "slide_type": "subslide"
    }
   },
   "source": [
    "```python\n",
    "bank_name = 'JSeaMorgan Chase & Co.'\n",
    "principal_amount = 1815\n",
    "introductory_bonus = 0\n",
    "annual_interest_rate = 2.9\n",
    "\n",
    "while True:\n",
    "    ...\n",
    "```"
   ]
  },
  {
   "cell_type": "markdown",
   "id": "3ee499a2",
   "metadata": {
    "slideshow": {
     "slide_type": "slide"
    }
   },
   "source": [
    "But, strings are not like integers, float, and booleans! Each integer, float, or boolean is one value. However, a string is a **sequence**, or ordered collection, of values--characters, to be precise!"
   ]
  },
  {
   "cell_type": "markdown",
   "id": "e13c38fe",
   "metadata": {
    "slideshow": {
     "slide_type": "slide"
    }
   },
   "source": [
    "Lists are also sequences. Essentially, strings are lists whose elements are characters.\n",
    "\n",
    "<div class=\"row\">\n",
    "    <img src=\"state-diagram-of-list.png\" alt=\"State diagram of list\" style=\"width: 50%\" class=\"column\">\n",
    "    <img src=\"state-diagram-of-string.png\" alt=\"State diagram of string\" style=\"width: 50%\" class=\"column\">\n",
    "</div>"
   ]
  },
  {
   "cell_type": "markdown",
   "id": "2e7bb9b1",
   "metadata": {
    "slideshow": {
     "slide_type": "slide"
    }
   },
   "source": [
    "## Strings represent textual data"
   ]
  },
  {
   "cell_type": "markdown",
   "id": "17d3248d",
   "metadata": {
    "slideshow": {
     "slide_type": "subslide"
    }
   },
   "source": [
    "## Web applications\n",
    "\n",
    "- Email\n",
    "- Password\n",
    "- Name\n",
    "- Posts\n",
    "- Comments"
   ]
  },
  {
   "cell_type": "markdown",
   "id": "7adc9199",
   "metadata": {
    "slideshow": {
     "slide_type": "subslide"
    }
   },
   "source": [
    "```python\n",
    "email = 'ykim@allegheny.edu'\n",
    "password = 'illnevertell'\n",
    "name = 'Maria'\n",
    "posts = [\n",
    "    'Today, I went biking.',\n",
    "    'Look at my salad!',\n",
    "    'Feeling cute, might delete later.'\n",
    "]\n",
    "comments = ['Good luck!', \"Let's catch up sometime :)\"]\n",
    "```"
   ]
  },
  {
   "cell_type": "markdown",
   "id": "4032fbf4",
   "metadata": {
    "slideshow": {
     "slide_type": "subslide"
    }
   },
   "source": [
    "## Computational biology\n",
    "\n",
    "Genomic sequence!\n",
    "\n",
    "```python\n",
    "normal = 'ATGGTGCACCTGACTCCTGAGGAGAAGTCTGCCGTTACT'\n",
    "sample = 'ATGGTGCACCTGACTCCTGTGGAGAAGTCTGCCGTTACT'\n",
    "```"
   ]
  },
  {
   "cell_type": "markdown",
   "id": "67480828",
   "metadata": {
    "slideshow": {
     "slide_type": "slide"
    }
   },
   "source": [
    "## How to create a string\n",
    "\n",
    "Surround text in quotes (single `'` or double `\"`--choose your own adventure!)."
   ]
  },
  {
   "cell_type": "code",
   "execution_count": 26,
   "id": "b0a4bf38",
   "metadata": {
    "scrolled": true,
    "slideshow": {
     "slide_type": "subslide"
    }
   },
   "outputs": [
    {
     "name": "stdout",
     "output_type": "stream",
     "text": [
      "I'm a lumberjack, and I'm okay.\n",
      "    I sleep all night and I work all day.\n"
     ]
    }
   ],
   "source": [
    "cheese = 'Cheddar'\n",
    "fruit = \"apple\"\n",
    "lyrics = '''I'm a lumberjack, and I'm okay.\n",
    "    I sleep all night and I work all day.''' # What am I?\n",
    "print(lyrics)"
   ]
  },
  {
   "cell_type": "markdown",
   "id": "1b14c667",
   "metadata": {
    "slideshow": {
     "slide_type": "slide"
    }
   },
   "source": [
    "## Sometimes, you want to insert dynamic values into static strings\n",
    "\n",
    "```python\n",
    "# Remember me?\n",
    "print(f'''\n",
    "Bank: {bank_name}\n",
    "Principal amount: ${principal_amount}\n",
    "Introductory bonus: ${introductory_bonus}\n",
    "Annual interest rate: {annual_interest_rate}%\n",
    "Time: {time} years\n",
    "Accrued amount: ${accrued_amount}\n",
    "''')\n",
    "```"
   ]
  },
  {
   "cell_type": "markdown",
   "id": "1171f8ba",
   "metadata": {
    "slideshow": {
     "slide_type": "subslide"
    }
   },
   "source": [
    "## How to create a format string\n",
    "\n",
    "1. Start the string with the letter `f`\n",
    "2. Then, create the string as usual\n",
    "4. Within the string, surround expressions that evaluate to the dynamic values you want to insert with curly braces `{}`"
   ]
  },
  {
   "cell_type": "code",
   "execution_count": 27,
   "id": "38e9a249",
   "metadata": {
    "slideshow": {
     "slide_type": "subslide"
    }
   },
   "outputs": [
    {
     "name": "stdout",
     "output_type": "stream",
     "text": [
      "I'm a programmer, and I'm okay.\n",
      "I sleep all night and I work all day.\n"
     ]
    }
   ],
   "source": [
    "profession = 'programmer'\n",
    "lyrics = f'''I'm a {profession}, and I'm okay.\n",
    "I sleep all night and I work all day.'''\n",
    "print(lyrics)"
   ]
  },
  {
   "cell_type": "markdown",
   "id": "4db459fb",
   "metadata": {
    "slideshow": {
     "slide_type": "slide"
    }
   },
   "source": [
    "# Accessing a character, or characters, in a string"
   ]
  },
  {
   "cell_type": "markdown",
   "id": "8adf925c",
   "metadata": {
    "slideshow": {
     "slide_type": "subslide"
    }
   },
   "source": [
    "Sometimes, you want to get a subsection, such as a character or characters, of a string, but not the whole string. A subsection of a string is called a **substring**."
   ]
  },
  {
   "cell_type": "markdown",
   "id": "bdd06db8",
   "metadata": {
    "slideshow": {
     "slide_type": "subslide"
    }
   },
   "source": [
    "## When would you want to access a substring?\n"
   ]
  },
  {
   "cell_type": "markdown",
   "id": "e68569a5",
   "metadata": {
    "slideshow": {
     "slide_type": "subslide"
    }
   },
   "source": [
    "To check for known point mutations:\n",
    "\n",
    "![Sickle cell anemia mutation](sickle-cell-anemia-mutation.png)"
   ]
  },
  {
   "cell_type": "markdown",
   "id": "1f528f11",
   "metadata": {
    "slideshow": {
     "slide_type": "subslide"
    }
   },
   "source": [
    "## How to access a character in a string\n",
    "\n",
    "Use the bracket operator `[]` to specify the index of the character.\n",
    "\n",
    "The first character of a string is at index 0."
   ]
  },
  {
   "cell_type": "code",
   "execution_count": 28,
   "id": "9ab7bcbe",
   "metadata": {
    "slideshow": {
     "slide_type": "subslide"
    }
   },
   "outputs": [
    {
     "name": "stdout",
     "output_type": "stream",
     "text": [
      "The 20th nucleotide is A.\n"
     ]
    }
   ],
   "source": [
    "normal = 'ATGGTGCACCTGACTCCTGAGGAGAAGTCTGCCGTTACT'\n",
    "nucleotide = normal[19]\n",
    "print(f'The 20th nucleotide is {nucleotide}.') # Why 20th?"
   ]
  },
  {
   "cell_type": "code",
   "execution_count": 29,
   "id": "ab57c7f6",
   "metadata": {
    "slideshow": {
     "slide_type": "subslide"
    }
   },
   "outputs": [
    {
     "name": "stdout",
     "output_type": "stream",
     "text": [
      "Sickle-cell mutation found.\n"
     ]
    }
   ],
   "source": [
    "normal = 'ATGGTGCACCTGACTCCTGAGGAGAAGTCTGCCGTTACT'\n",
    "sample = 'ATGGTGCACCTGACTCCTGTGGAGAAGTCTGCCGTTACT'\n",
    "\n",
    "# Does patient have sickle-cell anemia?\n",
    "\n",
    "mutation_location = 19\n",
    "if sample[mutation_location] != normal[mutation_location]: # Index can be any expression that evaluates to an integer\n",
    "    print('Sickle-cell mutation found.')"
   ]
  },
  {
   "cell_type": "markdown",
   "id": "33ce2bdc",
   "metadata": {
    "slideshow": {
     "slide_type": "slide"
    }
   },
   "source": [
    "## How to access characters in a string\n",
    "\n",
    "You can access multiple characters at once by using the slice operator--`[n:m]`.\n",
    "\n",
    "The slice operator will return characters from index `n` to `m - 1`."
   ]
  },
  {
   "cell_type": "code",
   "execution_count": 30,
   "id": "4b5a89f5",
   "metadata": {
    "slideshow": {
     "slide_type": "subslide"
    }
   },
   "outputs": [
    {
     "name": "stdout",
     "output_type": "stream",
     "text": [
      "Monty\n",
      "Python\n"
     ]
    }
   ],
   "source": [
    "title = \"Monty Python\"\n",
    "print(title[0:5])\n",
    "print(title[6:12])"
   ]
  },
  {
   "cell_type": "markdown",
   "id": "ea6d5cb7",
   "metadata": {
    "slideshow": {
     "slide_type": "slide"
    }
   },
   "source": [
    "# Getting the length of a string\n"
   ]
  },
  {
   "cell_type": "markdown",
   "id": "325e093a",
   "metadata": {
    "slideshow": {
     "slide_type": "subslide"
    }
   },
   "source": [
    "## When do you need the length of a string?"
   ]
  },
  {
   "cell_type": "markdown",
   "id": "61cd20f7",
   "metadata": {
    "slideshow": {
     "slide_type": "subslide"
    }
   },
   "source": [
    "Password validation!\n",
    "\n",
    "![Password validation](password-validation.png)"
   ]
  },
  {
   "cell_type": "markdown",
   "id": "5bbeb3f2",
   "metadata": {
    "slideshow": {
     "slide_type": "subslide"
    }
   },
   "source": [
    "## How to get the length of a string\n",
    "\n",
    "Use the `len` function."
   ]
  },
  {
   "cell_type": "code",
   "execution_count": null,
   "id": "62b83322",
   "metadata": {
    "slideshow": {
     "slide_type": "subslide"
    }
   },
   "outputs": [],
   "source": [
    "password = input('Enter a password: ')\n",
    "if len(password) < 8:\n",
    "    print('Password must be at least 8 characters long.')\n",
    "else:\n",
    "    print('Password is valid!')"
   ]
  },
  {
   "cell_type": "markdown",
   "id": "255e8048",
   "metadata": {
    "slideshow": {
     "slide_type": "slide"
    }
   },
   "source": [
    "# Traversing a string"
   ]
  }
 ],
 "metadata": {
  "celltoolbar": "Slideshow",
  "kernelspec": {
   "display_name": "Python 3 (ipykernel)",
   "language": "python",
   "name": "python3"
  },
  "language_info": {
   "codemirror_mode": {
    "name": "ipython",
    "version": 3
   },
   "file_extension": ".py",
   "mimetype": "text/x-python",
   "name": "python",
   "nbconvert_exporter": "python",
   "pygments_lexer": "ipython3",
   "version": "3.9.7"
  },
  "rise": {
   "autolaunch": true,
   "enable_chalkboard": true
  }
 },
 "nbformat": 4,
 "nbformat_minor": 5
}
