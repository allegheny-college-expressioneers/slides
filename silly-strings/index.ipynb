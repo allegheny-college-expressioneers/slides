{
 "cells": [
  {
   "cell_type": "markdown",
   "id": "b796edc0",
   "metadata": {
    "slideshow": {
     "slide_type": "slide"
    },
    "tags": []
   },
   "source": [
    "# Silly Strings\n",
    "\n",
    "Hit **Space** to move forward and **Shift + Space** to move backward"
   ]
  },
  {
   "cell_type": "markdown",
   "id": "533bc249",
   "metadata": {
    "slideshow": {
     "slide_type": "slide"
    }
   },
   "source": [
    "# What are strings?\n",
    "\n",
    "So far, we have used string, integer, float, and boolean values."
   ]
  },
  {
   "cell_type": "markdown",
   "id": "b8dca330",
   "metadata": {
    "slideshow": {
     "slide_type": "subslide"
    }
   },
   "source": [
    "```python\n",
    "bank_name = 'JSeaMorgan Chase & Co.'\n",
    "principal_amount = 1815\n",
    "introductory_bonus = 0\n",
    "annual_interest_rate = 2.9\n",
    "\n",
    "while True:\n",
    "    ...\n",
    "```"
   ]
  },
  {
   "cell_type": "markdown",
   "id": "f05f47a5",
   "metadata": {
    "slideshow": {
     "slide_type": "slide"
    }
   },
   "source": [
    "But, strings are not like integers, float, and booleans! Each integer, float, or boolean is one value. However, a string is a **sequence**, or ordered collection, of values—characters, to be precise!"
   ]
  },
  {
   "cell_type": "markdown",
   "id": "5d97ae14",
   "metadata": {
    "slideshow": {
     "slide_type": "slide"
    }
   },
   "source": [
    "Lists are also sequences. Essentially, strings are lists whose elements are characters.\n",
    "\n",
    "<div class=\"row\">\n",
    "    <img src=\"state-diagram-of-list.png\" alt=\"State diagram of list\" style=\"width: 50%\" class=\"column\">\n",
    "    <img src=\"state-diagram-of-string.png\" alt=\"State diagram of string\" style=\"width: 50%\" class=\"column\">\n",
    "</div>"
   ]
  },
  {
   "cell_type": "markdown",
   "id": "9747e8fc",
   "metadata": {
    "slideshow": {
     "slide_type": "slide"
    }
   },
   "source": [
    "## Strings represent textual data"
   ]
  },
  {
   "cell_type": "markdown",
   "id": "74f22747",
   "metadata": {
    "slideshow": {
     "slide_type": "subslide"
    }
   },
   "source": [
    "## Web applications\n",
    "\n",
    "- Email\n",
    "- Password\n",
    "- Name\n",
    "- Posts\n",
    "- Comments"
   ]
  },
  {
   "cell_type": "markdown",
   "id": "61b27960",
   "metadata": {
    "slideshow": {
     "slide_type": "subslide"
    }
   },
   "source": [
    "```python\n",
    "email = 'ykim@allegheny.edu'\n",
    "password = 'illnevertell'\n",
    "name = 'Maria'\n",
    "posts = [\n",
    "    'Today, I went biking.',\n",
    "    'Look at my salad!',\n",
    "    'Feeling cute, might delete later.'\n",
    "]\n",
    "comments = ['Good luck!', \"Let's catch up sometime :)\"]\n",
    "```"
   ]
  },
  {
   "cell_type": "markdown",
   "id": "afa85f20",
   "metadata": {
    "slideshow": {
     "slide_type": "subslide"
    }
   },
   "source": [
    "## Computational biology\n",
    "\n",
    "Genomic sequence!\n",
    "\n",
    "```python\n",
    "normal = 'ATGGTGCACCTGACTCCTGAGGAGAAGTCTGCCGTTACT'\n",
    "sample = 'ATGGTGCACCTGACTCCTGTGGAGAAGTCTGCCGTTACT'\n",
    "```"
   ]
  },
  {
   "cell_type": "markdown",
   "id": "634b5b83",
   "metadata": {
    "slideshow": {
     "slide_type": "slide"
    }
   },
   "source": [
    "## How to create a string\n",
    "\n",
    "Surround text in quotes (single `'` or double `\"`--choose your own adventure!)."
   ]
  },
  {
   "cell_type": "code",
   "execution_count": null,
   "id": "02cdd5b0",
   "metadata": {
    "scrolled": true,
    "slideshow": {
     "slide_type": "subslide"
    }
   },
   "outputs": [],
   "source": [
    "cheese = 'Cheddar'\n",
    "fruit = \"apple\"\n",
    "lyrics = '''I'm a lumberjack, and I'm okay.\n",
    "    I sleep all night and I work all day.''' # What am I?\n",
    "print(lyrics)"
   ]
  },
  {
   "cell_type": "markdown",
   "id": "1fb81cda",
   "metadata": {
    "slideshow": {
     "slide_type": "slide"
    }
   },
   "source": [
    "## Sometimes, you want to insert dynamic values into static strings\n",
    "\n",
    "```python\n",
    "# Remember me?\n",
    "print(f'''\n",
    "Bank: {bank_name}\n",
    "Principal amount: ${principal_amount}\n",
    "Introductory bonus: ${introductory_bonus}\n",
    "Annual interest rate: {annual_interest_rate}%\n",
    "Time: {time} years\n",
    "Accrued amount: ${accrued_amount}\n",
    "''')\n",
    "```"
   ]
  },
  {
   "cell_type": "markdown",
   "id": "98c03dac",
   "metadata": {
    "slideshow": {
     "slide_type": "subslide"
    }
   },
   "source": [
    "## How to create a format string\n",
    "\n",
    "1. Start the string with the letter `f`\n",
    "2. Then, create the string as usual\n",
    "4. Within the string, surround expressions that evaluate to the dynamic values you want to insert with curly braces `{}`"
   ]
  },
  {
   "cell_type": "code",
   "execution_count": null,
   "id": "7ffdf092",
   "metadata": {
    "slideshow": {
     "slide_type": "subslide"
    }
   },
   "outputs": [],
   "source": [
    "profession = 'programmer'\n",
    "lyrics = f'''I'm a {profession}, and I'm okay.\n",
    "I sleep all night and I work all day.'''\n",
    "print(lyrics)"
   ]
  },
  {
   "cell_type": "markdown",
   "id": "58a891d0",
   "metadata": {
    "slideshow": {
     "slide_type": "slide"
    }
   },
   "source": [
    "# Accessing a character, or characters, in a string"
   ]
  },
  {
   "cell_type": "markdown",
   "id": "b51665f1",
   "metadata": {
    "slideshow": {
     "slide_type": "subslide"
    }
   },
   "source": [
    "Sometimes, you want to get a subsection, such as a character or characters, of a string, but not the whole string. A subsection of a string is called a **substring**."
   ]
  },
  {
   "cell_type": "markdown",
   "id": "b34307c2",
   "metadata": {
    "slideshow": {
     "slide_type": "slide"
    }
   },
   "source": [
    "## When would you want to access a substring?\n"
   ]
  },
  {
   "cell_type": "markdown",
   "id": "3858ee3c",
   "metadata": {
    "slideshow": {
     "slide_type": "subslide"
    }
   },
   "source": [
    "To check for known point mutations:\n",
    "\n",
    "![Sickle cell anemia mutation](sickle-cell-anemia-mutation.png)"
   ]
  },
  {
   "cell_type": "markdown",
   "id": "c14f0aed",
   "metadata": {
    "slideshow": {
     "slide_type": "slide"
    }
   },
   "source": [
    "## How to access a character in a string\n",
    "\n",
    "Use the bracket operator `[]` to specify the index of the character.\n",
    "\n",
    "The first character of a string is at index 0."
   ]
  },
  {
   "cell_type": "code",
   "execution_count": null,
   "id": "4fb52aee",
   "metadata": {
    "slideshow": {
     "slide_type": "subslide"
    }
   },
   "outputs": [],
   "source": [
    "normal = 'ATGGTGCACCTGACTCCTGAGGAGAAGTCTGCCGTTACT'\n",
    "nucleotide = normal[19]\n",
    "print(f'The 20th nucleotide is {nucleotide}.') # Why 20th?"
   ]
  },
  {
   "cell_type": "code",
   "execution_count": null,
   "id": "6e5fd360",
   "metadata": {
    "slideshow": {
     "slide_type": "subslide"
    }
   },
   "outputs": [],
   "source": [
    "normal = 'ATGGTGCACCTGACTCCTGAGGAGAAGTCTGCCGTTACT'\n",
    "sample = 'ATGGTGCACCTGACTCCTGTGGAGAAGTCTGCCGTTACT'\n",
    "\n",
    "# Does patient have sickle-cell anemia?\n",
    "\n",
    "mutation_location = 19\n",
    "if sample[mutation_location] != normal[mutation_location]: # Index can be any expression that evaluates to an integer\n",
    "    print('Sickle-cell mutation found.')"
   ]
  },
  {
   "cell_type": "markdown",
   "id": "6d5fb8b6",
   "metadata": {
    "slideshow": {
     "slide_type": "slide"
    }
   },
   "source": [
    "## How to access characters in a string\n",
    "\n",
    "You can access multiple characters at once by using the slice operator—`[n:m]`.\n",
    "\n",
    "The slice operator will return characters from index `n` to `m - 1`."
   ]
  },
  {
   "cell_type": "code",
   "execution_count": null,
   "id": "1f2aa794",
   "metadata": {
    "slideshow": {
     "slide_type": "subslide"
    }
   },
   "outputs": [],
   "source": [
    "title = \"Monty Python\"\n",
    "print(title[0:5])\n",
    "print(title[6:12])"
   ]
  },
  {
   "cell_type": "markdown",
   "id": "f3cb80f6",
   "metadata": {
    "slideshow": {
     "slide_type": "slide"
    }
   },
   "source": [
    "# Strings are immutable"
   ]
  },
  {
   "cell_type": "markdown",
   "id": "735098a0",
   "metadata": {
    "slideshow": {
     "slide_type": "subslide"
    }
   },
   "source": [
    "In the Love It or List It module, we learned that you can assign an element, or elements, in a list using bracket notation:"
   ]
  },
  {
   "cell_type": "code",
   "execution_count": null,
   "id": "d3776d7a",
   "metadata": {},
   "outputs": [],
   "source": [
    "maria_lucky_numbers = [7, 128, 23]\n",
    "print(maria_lucky_numbers)\n",
    "maria_lucky_numbers[0] = 17\n",
    "print(maria_lucky_numbers)"
   ]
  },
  {
   "cell_type": "markdown",
   "id": "d0fc525d",
   "metadata": {
    "slideshow": {
     "slide_type": "subslide"
    }
   },
   "source": [
    "So, can we assign a character in a string using bracket notation?"
   ]
  },
  {
   "cell_type": "code",
   "execution_count": null,
   "id": "e617b3d1",
   "metadata": {},
   "outputs": [],
   "source": [
    "fruit = 'apple'\n",
    "print(fruit)\n",
    "fruit[0] = 'y'\n",
    "print(fruit)"
   ]
  },
  {
   "cell_type": "markdown",
   "id": "2fb9a784",
   "metadata": {
    "slideshow": {
     "slide_type": "subslide"
    }
   },
   "source": [
    "No! This is because strings are **immutable**--they cannot be mutated.\n",
    "\n",
    "<img src=\"immutable-string.png\" width=\"600\" class=\"center\">"
   ]
  },
  {
   "cell_type": "markdown",
   "id": "d3736525",
   "metadata": {
    "slideshow": {
     "slide_type": "subslide"
    }
   },
   "source": [
    "So, what are we to do to get a string with the value `'ypple'`? We simply have to create a new one."
   ]
  },
  {
   "cell_type": "code",
   "execution_count": null,
   "id": "28ebb617",
   "metadata": {
    "slideshow": {
     "slide_type": "subslide"
    }
   },
   "outputs": [],
   "source": [
    "fruit = 'apple'\n",
    "print(fruit)\n",
    "fruit = 'y' + fruit[1:] # Slice makes a copy\n",
    "print(fruit)"
   ]
  },
  {
   "cell_type": "markdown",
   "id": "21f1c554",
   "metadata": {
    "slideshow": {
     "slide_type": "subslide"
    }
   },
   "source": [
    "<img src=\"immutable-string-solution.png\" width=\"600\" class=\"center\">\n"
   ]
  },
  {
   "cell_type": "markdown",
   "id": "323e3c8d",
   "metadata": {
    "slideshow": {
     "slide_type": "slide"
    }
   },
   "source": [
    "## But... why?\n",
    "\n",
    "- Performance: You know (most of) the storage requirements at construction time (during interpretation)"
   ]
  },
  {
   "cell_type": "markdown",
   "id": "d8b9fbcb",
   "metadata": {
    "slideshow": {
     "slide_type": "subslide"
    }
   },
   "source": [
    "- Performance: You can safely reuse string objects (because you know they won't change!)"
   ]
  },
  {
   "cell_type": "code",
   "execution_count": null,
   "id": "2d531019",
   "metadata": {},
   "outputs": [],
   "source": [
    "# Sharing is caring\n",
    "my_fruit = 'apple'\n",
    "your_fruit = 'apple'\n",
    "print(my_fruit is your_fruit)"
   ]
  },
  {
   "cell_type": "markdown",
   "id": "bb30628c",
   "metadata": {
    "slideshow": {
     "slide_type": "subslide"
    }
   },
   "source": [
    "- Philosophy: \"The other is that strings in Python are considered as \"elemental\" as numbers. No amount of activity will change the value 8 to anything else, and in Python, no amount of activity will change the string “eight” to anything else.\"\n",
    "- History: Because the creator of Python (Guido van Rossum) decided it so"
   ]
  },
  {
   "cell_type": "markdown",
   "id": "bc3bcee5",
   "metadata": {
    "slideshow": {
     "slide_type": "slide"
    }
   },
   "source": [
    "# Getting the length of a string\n"
   ]
  },
  {
   "cell_type": "markdown",
   "id": "f0448297",
   "metadata": {
    "slideshow": {
     "slide_type": "slide"
    }
   },
   "source": [
    "## When do you need the length of a string?"
   ]
  },
  {
   "cell_type": "markdown",
   "id": "ede40978",
   "metadata": {
    "slideshow": {
     "slide_type": "subslide"
    }
   },
   "source": [
    "Password validation!\n",
    "\n",
    "![Password validation](password-validation.png)"
   ]
  },
  {
   "cell_type": "markdown",
   "id": "add931a4",
   "metadata": {
    "slideshow": {
     "slide_type": "slide"
    }
   },
   "source": [
    "## How to get the length of a string\n",
    "\n",
    "Use the `len` function."
   ]
  },
  {
   "cell_type": "code",
   "execution_count": null,
   "id": "a74f43f2",
   "metadata": {
    "slideshow": {
     "slide_type": "subslide"
    }
   },
   "outputs": [],
   "source": [
    "password = input('Enter a password: ')\n",
    "if len(password) < 8:\n",
    "    print('Password must be at least 8 characters long.')\n",
    "else:\n",
    "    print('Password is valid!')"
   ]
  },
  {
   "cell_type": "markdown",
   "id": "f1842d5d",
   "metadata": {
    "slideshow": {
     "slide_type": "slide"
    }
   },
   "source": [
    "# Traversing a string"
   ]
  },
  {
   "cell_type": "markdown",
   "id": "75f52ef5",
   "metadata": {
    "slideshow": {
     "slide_type": "slide"
    }
   },
   "source": [
    "## When do you want to traverse a string?"
   ]
  },
  {
   "cell_type": "markdown",
   "id": "7ff530f0",
   "metadata": {
    "slideshow": {
     "slide_type": "subslide"
    }
   },
   "source": [
    "Search engines\n",
    "\n",
    "- Searching problem: Does a website's content contain the query? Return result\n",
    "- Counting problem: How many times does a website's content contain the query? Prioritize result"
   ]
  },
  {
   "cell_type": "markdown",
   "id": "090459b2",
   "metadata": {
    "slideshow": {
     "slide_type": "slide"
    }
   },
   "source": [
    "## How to traverse a string\n",
    "\n",
    "1. `while` loop\n",
    "2. `for` loop"
   ]
  },
  {
   "cell_type": "markdown",
   "id": "8ce0d385",
   "metadata": {
    "slideshow": {
     "slide_type": "slide"
    }
   },
   "source": [
    "### `while` loop"
   ]
  },
  {
   "cell_type": "code",
   "execution_count": null,
   "id": "de953ac5",
   "metadata": {
    "slideshow": {
     "slide_type": "subslide"
    }
   },
   "outputs": [],
   "source": [
    "query = 'p'\n",
    "content = '''A puppy is a juvenile dog.\n",
    "A puppy's coat color may change as the puppy grows older,\n",
    "as is commonly seen in breeds such as the Yorkshire Terrier.'''\n",
    "\n",
    "index = 0\n",
    "while index < len(content):\n",
    "    print(content[index])\n",
    "    if content[index] == query:\n",
    "        print('Found a match!')\n",
    "        break # Why is breaking efficient?\n",
    "    index += 1"
   ]
  },
  {
   "cell_type": "code",
   "execution_count": null,
   "id": "9e92f1e1",
   "metadata": {
    "slideshow": {
     "slide_type": "subslide"
    }
   },
   "outputs": [],
   "source": [
    "query = 'puppy'\n",
    "content = '''A puppy is a juvenile dog.\n",
    "A puppy's coat color may change as the puppy grows older,\n",
    "as is commonly seen in breeds such as the Yorkshire Terrier.'''\n",
    "\n",
    "index = 0\n",
    "while index < len(content) - len(query) + 1:\n",
    "    word = content[index:index + len(query)]\n",
    "    print(word)\n",
    "    if word == query:\n",
    "        print('Found a match!')\n",
    "        break\n",
    "    index += 1"
   ]
  },
  {
   "cell_type": "markdown",
   "id": "03d0cf39",
   "metadata": {
    "slideshow": {
     "slide_type": "slide"
    }
   },
   "source": [
    "### `for` loop"
   ]
  },
  {
   "cell_type": "code",
   "execution_count": null,
   "id": "3a535f06",
   "metadata": {
    "slideshow": {
     "slide_type": "subslide"
    }
   },
   "outputs": [],
   "source": [
    "query = 'puppy'\n",
    "content = '''A puppy is a juvenile dog.\n",
    "A puppy's coat color may change as the puppy grows older,\n",
    "as is commonly seen in breeds such as the Yorkshire Terrier.'''\n",
    "\n",
    "for index in range(len(content) - len(query) + 1):\n",
    "    word = content[index:index + len(query)]\n",
    "    print(word)\n",
    "    if word == query:\n",
    "        print('Found a match!')\n",
    "        break\n",
    "    index += 1"
   ]
  },
  {
   "cell_type": "markdown",
   "id": "493412ff",
   "metadata": {
    "slideshow": {
     "slide_type": "slide"
    }
   },
   "source": [
    "This pattern of traversing a string and returning (or breaking!) when we find what we are looking for is called a **search**."
   ]
  },
  {
   "cell_type": "markdown",
   "id": "57b6a997",
   "metadata": {
    "slideshow": {
     "slide_type": "slide"
    }
   },
   "source": [
    "The pattern of traversing a string and counting how many times we find what we are looking for is called a **count**."
   ]
  },
  {
   "cell_type": "code",
   "execution_count": null,
   "id": "9273abf2",
   "metadata": {
    "slideshow": {
     "slide_type": "subslide"
    }
   },
   "outputs": [],
   "source": [
    "query = 'puppy'\n",
    "content = '''A puppy is a juvenile dog.\n",
    "A puppy's coat color may change as the puppy grows older,\n",
    "as is commonly seen in breeds such as the Yorkshire Terrier.'''\n",
    "\n",
    "count = 0 # Initialize counter\n",
    "for index in range(len(content) - len(query) + 1):\n",
    "    word = content[index:index + len(query)]\n",
    "    if word == query:\n",
    "        print('Found a match!')\n",
    "        count += 1 # Increment counter\n",
    "    index += 1\n",
    "print(f'Number of matches: {count}')"
   ]
  },
  {
   "cell_type": "markdown",
   "id": "4881c5e8",
   "metadata": {
    "slideshow": {
     "slide_type": "slide"
    }
   },
   "source": [
    "# String methods"
   ]
  },
  {
   "cell_type": "markdown",
   "id": "8a7d8199",
   "metadata": {
    "slideshow": {
     "slide_type": "slide"
    }
   },
   "source": [
    "## What's the difference between methods and functions?"
   ]
  },
  {
   "cell_type": "markdown",
   "id": "ab10c7b0",
   "metadata": {
    "slideshow": {
     "slide_type": "subslide"
    }
   },
   "source": [
    "A method *is* a function!\n",
    "\n",
    "```python\n",
    "fruits = ['apple', 'banana', 'canteloupe']\n",
    "```\n",
    "\n",
    "- Called by naming it and following the name with parentheses: `fruits.append('peach')`\n",
    "- Can take input (arguments) and give output (return value): `fruits.pop() # Deletes and returns last element`"
   ]
  },
  {
   "cell_type": "markdown",
   "id": "2c674bd0",
   "metadata": {
    "slideshow": {
     "slide_type": "subslide"
    }
   },
   "source": [
    "Specifically, methods are functions that *belong* to objects.\n",
    "\n",
    "*Which* methods an object has depends on its type.\n",
    "\n",
    "`fruit` has methods `append` and `pop` because it is a `list`."
   ]
  },
  {
   "cell_type": "markdown",
   "id": "6bf0ed81",
   "metadata": {
    "slideshow": {
     "slide_type": "subslide"
    }
   },
   "source": [
    "A method is applied to the object it is called **on**.\n",
    "\n",
    "You call a method **on** an object with dot notation: `<object>.<method>`.\n",
    "\n",
    "`fruits.append('peach')` applies the `append` method on the `fruits` object, which is a list."
   ]
  },
  {
   "cell_type": "markdown",
   "id": "b51b692c",
   "metadata": {
    "slideshow": {
     "slide_type": "slide"
    }
   },
   "source": [
    "## `upper` method"
   ]
  },
  {
   "cell_type": "code",
   "execution_count": null,
   "id": "397ecd45",
   "metadata": {
    "slideshow": {
     "slide_type": "subslide"
    }
   },
   "outputs": [],
   "source": [
    "fruit = 'banana'\n",
    "louder_fruit = fruit.upper()\n",
    "print(louder_fruit)"
   ]
  },
  {
   "cell_type": "markdown",
   "id": "6ce3f06a",
   "metadata": {},
   "source": [
    "The `upper` method is called **on** the `fruit` object, which is a string. It returns the string with all characters in uppercase.\n",
    "\n",
    "We know that `fruit` has a `upper` method because it is a string."
   ]
  },
  {
   "cell_type": "markdown",
   "id": "1d1dbdce",
   "metadata": {
    "slideshow": {
     "slide_type": "slide"
    }
   },
   "source": [
    "## `find` method"
   ]
  },
  {
   "cell_type": "code",
   "execution_count": null,
   "id": "f69328ae",
   "metadata": {
    "slideshow": {
     "slide_type": "subslide"
    }
   },
   "outputs": [],
   "source": [
    "fruit = 'banana'\n",
    "index = fruit.find('a')\n",
    "print(index)"
   ]
  },
  {
   "cell_type": "markdown",
   "id": "3c722f1e",
   "metadata": {},
   "source": [
    "The `find` method is called **on** the `fruit` object, which is a string. It searches for the substring (`'a'`) within the string and returns the index of the first match.\n",
    "\n",
    "We know that `fruit` has a `finds` method because it is a string."
   ]
  },
  {
   "cell_type": "markdown",
   "id": "e3f154a8",
   "metadata": {
    "slideshow": {
     "slide_type": "slide"
    }
   },
   "source": [
    "You can find the complete list of string methods in the Python documentation: http://docs.python.org/3/library/stdtypes.html#string-methods."
   ]
  },
  {
   "cell_type": "markdown",
   "id": "7459cb96",
   "metadata": {
    "slideshow": {
     "slide_type": "slide"
    }
   },
   "source": [
    "# The `in` operator"
   ]
  },
  {
   "cell_type": "markdown",
   "id": "8fbc1f31",
   "metadata": {
    "slideshow": {
     "slide_type": "subslide"
    }
   },
   "source": [
    "Just as with lists, the `in` operator takes two strings and returns `True` if the first is a substring of the second."
   ]
  },
  {
   "cell_type": "code",
   "execution_count": null,
   "id": "5979e2d1",
   "metadata": {},
   "outputs": [],
   "source": [
    "print('a' in 'banana')"
   ]
  },
  {
   "cell_type": "code",
   "execution_count": null,
   "id": "cbf12c54",
   "metadata": {},
   "outputs": [],
   "source": [
    "query = 'puppy'\n",
    "content = '''A puppy is a juvenile dog.\n",
    "A puppy's coat color may change as the puppy grows older,\n",
    "as is commonly seen in breeds such as the Yorkshire Terrier.'''\n",
    "print(query in content)"
   ]
  },
  {
   "cell_type": "markdown",
   "id": "ea50cb50",
   "metadata": {
    "slideshow": {
     "slide_type": "slide"
    }
   },
   "source": [
    "## So, why go through all the trouble of traversing a string?"
   ]
  },
  {
   "cell_type": "code",
   "execution_count": null,
   "id": "d82ff5e6",
   "metadata": {
    "slideshow": {
     "slide_type": "subslide"
    }
   },
   "outputs": [],
   "source": [
    "query = 'puppy'\n",
    "content = '''A puppy is a juvenile dog.\n",
    "A puppy's coat color may change as the puppy grows older,\n",
    "as is commonly seen in breeds such as the Yorkshire Terrier.'''\n",
    "\n",
    "print(f'Using in operator: {query in content}')\n",
    "\n",
    "for index in range(len(content) - len(query) + 1):\n",
    "    word = content[index:index + len(query)]\n",
    "    if word == query:\n",
    "        print('Using for loop: True')\n",
    "        break\n",
    "    index += 1"
   ]
  },
  {
   "cell_type": "markdown",
   "id": "cc119cf0",
   "metadata": {
    "slideshow": {
     "slide_type": "subslide"
    }
   },
   "source": [
    "What if you want to require two matches?\n",
    "\n",
    "Cannot use `in` operator! Traversal to the rescue!"
   ]
  },
  {
   "cell_type": "code",
   "execution_count": null,
   "id": "542348c9",
   "metadata": {
    "slideshow": {
     "slide_type": "subslide"
    }
   },
   "outputs": [],
   "source": [
    "query = 'puppy'\n",
    "content = '''A puppy is a juvenile dog.\n",
    "A puppy's coat color may change as the puppy grows older,\n",
    "as is commonly seen in breeds such as the Yorkshire Terrier.'''\n",
    "\n",
    "count = 0\n",
    "for index in range(len(content) - len(query) + 1):\n",
    "    word = content[index:index + len(query)]\n",
    "    if word == query:\n",
    "        count += 1\n",
    "        if count == 2:\n",
    "            print('Found two matches!')\n",
    "            break\n",
    "    index += 1"
   ]
  },
  {
   "cell_type": "markdown",
   "id": "92a64206",
   "metadata": {
    "slideshow": {
     "slide_type": "slide"
    }
   },
   "source": [
    "# String comparison"
   ]
  },
  {
   "cell_type": "markdown",
   "id": "982e6196",
   "metadata": {
    "slideshow": {
     "slide_type": "slide"
    }
   },
   "source": [
    "Relational operators (e.g. `==`, `<`, `>`) work on strings as well!"
   ]
  },
  {
   "cell_type": "code",
   "execution_count": null,
   "id": "0d283ce5",
   "metadata": {
    "slideshow": {
     "slide_type": "subslide"
    }
   },
   "outputs": [],
   "source": [
    "ans = input('Answer \"yes\" or \"no\": ')\n",
    "if ans == 'yes':\n",
    "    print('Answered \"yes\"!')\n",
    "elif ans == 'no':\n",
    "    print('Answered \"no\"!')"
   ]
  },
  {
   "cell_type": "markdown",
   "id": "e07eff6c",
   "metadata": {
    "slideshow": {
     "slide_type": "slide"
    }
   },
   "source": [
    "## Sorting strings\n",
    "\n",
    "<div>\n",
    "    <img src=\"contacts.jpeg\" class=\"center\" width=\"300\">\n",
    "</div>"
   ]
  },
  {
   "cell_type": "code",
   "execution_count": null,
   "id": "18d84023",
   "metadata": {
    "scrolled": false,
    "slideshow": {
     "slide_type": "slide"
    }
   },
   "outputs": [],
   "source": [
    "first_name = input('Enter first name: '), last_name = input('Enter last name: ')\n",
    "name = ' '.join([first_name, last_name])\n",
    "contact_first_name = 'Julia', contact_last_name = 'Fillory'\n",
    "contact_name = ' '.join([first_name, last_name])\n",
    "\n",
    "if last_name < contact_last_name:\n",
    "    print(f'{name} comes before {contact}')\n",
    "elif last_name > contact_last_name:\n",
    "    print(f'{name} comes after {contact}')\n",
    "else:\n",
    "    if first_name < contact_first_name:\n",
    "        print(f'{name} comes before {contact}')\n",
    "    elif first_name > contact_first_name:\n",
    "        print(f'{name} comes after {contact}')"
   ]
  },
  {
   "cell_type": "markdown",
   "id": "c4118b3c",
   "metadata": {
    "slideshow": {
     "slide_type": "subslide"
    }
   },
   "source": [
    "Be aware of case when sorting!"
   ]
  },
  {
   "cell_type": "markdown",
   "id": "6aa6e99d",
   "metadata": {
    "slideshow": {
     "slide_type": "slide"
    }
   },
   "source": [
    "# Summary"
   ]
  },
  {
   "cell_type": "markdown",
   "id": "54f76848",
   "metadata": {
    "slideshow": {
     "slide_type": "subslide"
    }
   },
   "source": [
    "- What strings are used for and how to create them\n",
    "- How to access character(s) in a string\n",
    "- Why strings are immutable\n",
    "- How to get length of a string\n",
    "- How to traverse a string with `while` and `for` loops\n",
    "- How to use string methods\n",
    "- How to use the `in` operator\n",
    "- How to compare strings"
   ]
  },
  {
   "cell_type": "markdown",
   "id": "afadcae1",
   "metadata": {
    "slideshow": {
     "slide_type": "slide"
    }
   },
   "source": [
    "# Office Hours\n",
    "\n",
    "**M** 11:30 AM - 12:30 PM; 2:00 - 4:00 PM\n",
    "\n",
    "**Tu** 10:00 AM - 1:00 PM\n",
    "\n",
    "**W** 11:30 AM - 12:30 PM\n",
    "\n",
    "**F** 11:30 AM - 12:30 PM; 3:00 - 4:00 PM"
   ]
  }
 ],
 "metadata": {
  "celltoolbar": "Slideshow",
  "kernelspec": {
   "display_name": "Python 3 (ipykernel)",
   "language": "python",
   "name": "python3"
  },
  "language_info": {
   "codemirror_mode": {
    "name": "ipython",
    "version": 3
   },
   "file_extension": ".py",
   "mimetype": "text/x-python",
   "name": "python",
   "nbconvert_exporter": "python",
   "pygments_lexer": "ipython3",
   "version": "3.9.7"
  },
  "rise": {
   "autolaunch": true,
   "enable_chalkboard": true
  }
 },
 "nbformat": 4,
 "nbformat_minor": 5
}
