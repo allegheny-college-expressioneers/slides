{
 "cells": [
  {
   "cell_type": "markdown",
   "source": [
    "# Silly Strings\n",
    "\n",
    "Hit **Space** to move forward and **Shift + Space** to move backward"
   ],
   "metadata": {
    "slideshow": {
     "slide_type": "slide"
    },
    "tags": []
   }
  },
  {
   "cell_type": "markdown",
   "source": [
    "# What are strings?\n",
    "\n",
    "So far, we have used string, integer, float, and boolean values."
   ],
   "metadata": {
    "slideshow": {
     "slide_type": "slide"
    }
   }
  },
  {
   "cell_type": "markdown",
   "source": [
    "```python\n",
    "bank_name = 'JSeaMorgan Chase & Co.'\n",
    "principal_amount = 1815\n",
    "introductory_bonus = 0\n",
    "annual_interest_rate = 2.9\n",
    "\n",
    "while True:\n",
    "    ...\n",
    "```"
   ],
   "metadata": {
    "slideshow": {
     "slide_type": "subslide"
    }
   }
  },
  {
   "cell_type": "markdown",
   "source": [
    "But, strings are not like integers, float, and booleans! Each integer, float, or boolean is one value. However, a string is a **sequence**, or ordered collection, of values—characters, to be precise!"
   ],
   "metadata": {
    "slideshow": {
     "slide_type": "slide"
    }
   }
  },
  {
   "cell_type": "markdown",
   "source": [
    "Lists are also sequences. Essentially, strings are lists whose elements are characters.\n",
    "\n",
    "<div class=\"row\">\n",
    "    <img src=\"state-diagram-of-list.png\" alt=\"State diagram of list\" style=\"width: 50%\" class=\"column\">\n",
    "    <img src=\"state-diagram-of-string.png\" alt=\"State diagram of string\" style=\"width: 50%\" class=\"column\">\n",
    "</div>"
   ],
   "metadata": {
    "slideshow": {
     "slide_type": "slide"
    }
   }
  },
  {
   "cell_type": "markdown",
   "source": [
    "## Strings represent textual data"
   ],
   "metadata": {
    "slideshow": {
     "slide_type": "slide"
    }
   }
  },
  {
   "cell_type": "markdown",
   "source": [
    "## Web applications\n",
    "\n",
    "- Email\n",
    "- Password\n",
    "- Name\n",
    "- Posts\n",
    "- Comments"
   ],
   "metadata": {
    "slideshow": {
     "slide_type": "subslide"
    }
   }
  },
  {
   "cell_type": "markdown",
   "source": [
    "```python\n",
    "email = 'ykim@allegheny.edu'\n",
    "password = 'illnevertell'\n",
    "name = 'Maria'\n",
    "posts = [\n",
    "    'Today, I went biking.',\n",
    "    'Look at my salad!',\n",
    "    'Feeling cute, might delete later.'\n",
    "]\n",
    "comments = ['Good luck!', \"Let's catch up sometime :)\"]\n",
    "```"
   ],
   "metadata": {
    "slideshow": {
     "slide_type": "subslide"
    }
   }
  },
  {
   "cell_type": "markdown",
   "source": [
    "## Computational biology\n",
    "\n",
    "Genomic sequence!\n",
    "\n",
    "```python\n",
    "normal = 'ATGGTGCACCTGACTCCTGAGGAGAAGTCTGCCGTTACT'\n",
    "sample = 'ATGGTGCACCTGACTCCTGTGGAGAAGTCTGCCGTTACT'\n",
    "```"
   ],
   "metadata": {
    "slideshow": {
     "slide_type": "subslide"
    }
   }
  },
  {
   "cell_type": "markdown",
   "source": [
    "## How to create a string\n",
    "\n",
    "Surround text in quotes (single `'` or double `\"`--choose your own adventure!)."
   ],
   "metadata": {
    "slideshow": {
     "slide_type": "slide"
    }
   }
  },
  {
   "cell_type": "code",
   "execution_count": null,
   "source": [
    "cheese = 'Cheddar'\n",
    "fruit = \"apple\"\n",
    "lyrics = '''I'm a lumberjack, and I'm okay.\n",
    "    I sleep all night and I work all day.''' # What am I?\n",
    "print(lyrics)"
   ],
   "outputs": [],
   "metadata": {
    "scrolled": true,
    "slideshow": {
     "slide_type": "subslide"
    }
   }
  },
  {
   "cell_type": "markdown",
   "source": [
    "## Sometimes, you want to insert dynamic values into static strings\n",
    "\n",
    "```python\n",
    "# Remember me?\n",
    "print(f'''\n",
    "Bank: {bank_name}\n",
    "Principal amount: ${principal_amount}\n",
    "Introductory bonus: ${introductory_bonus}\n",
    "Annual interest rate: {annual_interest_rate}%\n",
    "Time: {time} years\n",
    "Accrued amount: ${accrued_amount}\n",
    "''')\n",
    "```"
   ],
   "metadata": {
    "slideshow": {
     "slide_type": "slide"
    }
   }
  },
  {
   "cell_type": "markdown",
   "source": [
    "## How to create a format string\n",
    "\n",
    "1. Start the string with the letter `f`\n",
    "2. Then, create the string as usual\n",
    "4. Within the string, surround expressions that evaluate to the dynamic values you want to insert with curly braces `{}`"
   ],
   "metadata": {
    "slideshow": {
     "slide_type": "subslide"
    }
   }
  },
  {
   "cell_type": "code",
   "execution_count": null,
   "source": [
    "profession = 'programmer'\n",
    "lyrics = f'''I'm a {profession}, and I'm okay.\n",
    "I sleep all night and I work all day.'''\n",
    "print(lyrics)"
   ],
   "outputs": [],
   "metadata": {
    "slideshow": {
     "slide_type": "subslide"
    }
   }
  },
  {
   "cell_type": "markdown",
   "source": [
    "# Accessing a character, or characters, in a string"
   ],
   "metadata": {
    "slideshow": {
     "slide_type": "slide"
    }
   }
  },
  {
   "cell_type": "markdown",
   "source": [
    "Sometimes, you want to get a subsection, such as a character or characters, of a string, but not the whole string. A subsection of a string is called a **substring**."
   ],
   "metadata": {
    "slideshow": {
     "slide_type": "subslide"
    }
   }
  },
  {
   "cell_type": "markdown",
   "source": [
    "## When would you want to access a substring?\n"
   ],
   "metadata": {
    "slideshow": {
     "slide_type": "slide"
    }
   }
  },
  {
   "cell_type": "markdown",
   "source": [
    "To check for known point mutations:\n",
    "\n",
    "![Sickle cell anemia mutation](sickle-cell-anemia-mutation.png)"
   ],
   "metadata": {
    "slideshow": {
     "slide_type": "subslide"
    }
   }
  },
  {
   "cell_type": "markdown",
   "source": [
    "## How to access a character in a string\n",
    "\n",
    "Use the bracket operator `[]` to specify the index of the character.\n",
    "\n",
    "The first character of a string is at index 0."
   ],
   "metadata": {
    "slideshow": {
     "slide_type": "slide"
    }
   }
  },
  {
   "cell_type": "code",
   "execution_count": null,
   "source": [
    "normal = 'ATGGTGCACCTGACTCCTGAGGAGAAGTCTGCCGTTACT'\n",
    "nucleotide = normal[19]\n",
    "print(f'The 20th nucleotide is {nucleotide}.') # Why 20th?"
   ],
   "outputs": [],
   "metadata": {
    "slideshow": {
     "slide_type": "subslide"
    }
   }
  },
  {
   "cell_type": "code",
   "execution_count": null,
   "source": [
    "normal = 'ATGGTGCACCTGACTCCTGAGGAGAAGTCTGCCGTTACT'\n",
    "sample = 'ATGGTGCACCTGACTCCTGTGGAGAAGTCTGCCGTTACT'\n",
    "\n",
    "# Does patient have sickle-cell anemia?\n",
    "\n",
    "mutation_location = 19\n",
    "if sample[mutation_location] != normal[mutation_location]: # Index can be any expression that evaluates to an integer\n",
    "    print('Sickle-cell mutation found.')"
   ],
   "outputs": [],
   "metadata": {
    "slideshow": {
     "slide_type": "subslide"
    }
   }
  },
  {
   "cell_type": "markdown",
   "source": [
    "## How to access characters in a string\n",
    "\n",
    "You can access multiple characters at once by using the slice operator—`[n:m]`.\n",
    "\n",
    "The slice operator will return characters from index `n` to `m - 1`."
   ],
   "metadata": {
    "slideshow": {
     "slide_type": "slide"
    }
   }
  },
  {
   "cell_type": "code",
   "execution_count": null,
   "source": [
    "title = \"Monty Python\"\n",
    "print(title[0:5])\n",
    "print(title[6:12])"
   ],
   "outputs": [],
   "metadata": {
    "slideshow": {
     "slide_type": "subslide"
    }
   }
  },
  {
   "cell_type": "markdown",
   "source": [
    "# Strings are immutable"
   ],
   "metadata": {
    "slideshow": {
     "slide_type": "slide"
    }
   }
  },
  {
   "cell_type": "markdown",
   "source": [
    "In the Love It or List It module, we learned that you can assign an element, or elements, in a list using bracket notation:"
   ],
   "metadata": {
    "slideshow": {
     "slide_type": "subslide"
    }
   }
  },
  {
   "cell_type": "code",
   "execution_count": null,
   "source": [
    "maria_lucky_numbers = [7, 128, 23]\n",
    "print(maria_lucky_numbers)\n",
    "maria_lucky_numbers[0] = 17\n",
    "print(maria_lucky_numbers)"
   ],
   "outputs": [],
   "metadata": {}
  },
  {
   "cell_type": "markdown",
   "source": [
    "So, can we assign a character in a string using bracket notation?"
   ],
   "metadata": {
    "slideshow": {
     "slide_type": "subslide"
    }
   }
  },
  {
   "cell_type": "code",
   "execution_count": null,
   "source": [
    "fruit = 'apple'\n",
    "print(fruit)\n",
    "fruit[0] = 'y'\n",
    "print(fruit)"
   ],
   "outputs": [],
   "metadata": {}
  },
  {
   "cell_type": "markdown",
   "source": [
    "No! This is because strings are **immutable**--they cannot be mutated.\n",
    "\n",
    "<img src=\"immutable-string.png\" width=\"600\" class=\"center\">"
   ],
   "metadata": {
    "slideshow": {
     "slide_type": "subslide"
    }
   }
  },
  {
   "cell_type": "markdown",
   "source": [
    "So, what are we to do to get a string with the value `'ypple'`? We simply have to create a new one."
   ],
   "metadata": {
    "slideshow": {
     "slide_type": "subslide"
    }
   }
  },
  {
   "cell_type": "code",
   "execution_count": null,
   "source": [
    "fruit = 'apple'\n",
    "print(fruit)\n",
    "fruit = 'y' + fruit[1:] # Slice makes a copy\n",
    "print(fruit)"
   ],
   "outputs": [],
   "metadata": {
    "slideshow": {
     "slide_type": "subslide"
    }
   }
  },
  {
   "cell_type": "markdown",
   "source": [
    "<img src=\"immutable-string-solution.png\" width=\"600\" class=\"center\">\n"
   ],
   "metadata": {
    "slideshow": {
     "slide_type": "subslide"
    }
   }
  },
  {
   "cell_type": "markdown",
   "source": [
    "## But... why?\n",
    "\n",
    "- Performance: You know (most of) the storage requirements at construction time (during interpretation)"
   ],
   "metadata": {
    "slideshow": {
     "slide_type": "slide"
    }
   }
  },
  {
   "cell_type": "markdown",
   "source": [
    "- Performance: You can safely reuse string objects (because you know they won't change!)"
   ],
   "metadata": {
    "slideshow": {
     "slide_type": "subslide"
    }
   }
  },
  {
   "cell_type": "code",
   "execution_count": null,
   "source": [
    "# Sharing is caring\n",
    "my_fruit = 'apple'\n",
    "your_fruit = 'apple'\n",
    "print(my_fruit is your_fruit)"
   ],
   "outputs": [],
   "metadata": {}
  },
  {
   "cell_type": "markdown",
   "source": [
    "- Philosophy: \"The other is that strings in Python are considered as \"elemental\" as numbers. No amount of activity will change the value 8 to anything else, and in Python, no amount of activity will change the string “eight” to anything else.\"\n",
    "- History: Because the creator of Python (Guido van Rossum) decided it so"
   ],
   "metadata": {
    "slideshow": {
     "slide_type": "subslide"
    }
   }
  },
  {
   "cell_type": "markdown",
   "source": [
    "# Getting the length of a string\n"
   ],
   "metadata": {
    "slideshow": {
     "slide_type": "slide"
    }
   }
  },
  {
   "cell_type": "markdown",
   "source": [
    "## When do you need the length of a string?"
   ],
   "metadata": {
    "slideshow": {
     "slide_type": "slide"
    }
   }
  },
  {
   "cell_type": "markdown",
   "source": [
    "Password validation!\n",
    "\n",
    "![Password validation](password-validation.png)"
   ],
   "metadata": {
    "slideshow": {
     "slide_type": "subslide"
    }
   }
  },
  {
   "cell_type": "markdown",
   "source": [
    "## How to get the length of a string\n",
    "\n",
    "Use the `len` function."
   ],
   "metadata": {
    "slideshow": {
     "slide_type": "slide"
    }
   }
  },
  {
   "cell_type": "code",
   "execution_count": null,
   "source": [
    "password = input('Enter a password: ')\n",
    "if len(password) < 8:\n",
    "    print('Password must be at least 8 characters long.')\n",
    "else:\n",
    "    print('Password is valid!')"
   ],
   "outputs": [],
   "metadata": {
    "slideshow": {
     "slide_type": "subslide"
    }
   }
  },
  {
   "cell_type": "markdown",
   "source": [
    "# Traversing a string"
   ],
   "metadata": {
    "slideshow": {
     "slide_type": "slide"
    }
   }
  },
  {
   "cell_type": "markdown",
   "source": [
    "## When do you want to traverse a string?"
   ],
   "metadata": {
    "slideshow": {
     "slide_type": "slide"
    }
   }
  },
  {
   "cell_type": "markdown",
   "source": [
    "Search engines\n",
    "\n",
    "- Searching problem: Does a website's content contain the query? Return result\n",
    "- Counting problem: How many times does a website's content contain the query? Prioritize result"
   ],
   "metadata": {
    "slideshow": {
     "slide_type": "subslide"
    }
   }
  },
  {
   "cell_type": "markdown",
   "source": [
    "## How to traverse a string\n",
    "\n",
    "1. `while` loop\n",
    "2. `for` loop"
   ],
   "metadata": {
    "slideshow": {
     "slide_type": "slide"
    }
   }
  },
  {
   "cell_type": "markdown",
   "source": [
    "### `while` loop"
   ],
   "metadata": {
    "slideshow": {
     "slide_type": "slide"
    }
   }
  },
  {
   "cell_type": "code",
   "execution_count": null,
   "source": [
    "query = 'p'\n",
    "content = '''A puppy is a juvenile dog.\n",
    "A puppy's coat color may change as the puppy grows older,\n",
    "as is commonly seen in breeds such as the Yorkshire Terrier.'''\n",
    "\n",
    "index = 0\n",
    "while index < len(content):\n",
    "    print(content[index])\n",
    "    if content[index] == query:\n",
    "        print('Found a match!')\n",
    "        break # Why is breaking efficient?\n",
    "    index += 1"
   ],
   "outputs": [],
   "metadata": {
    "slideshow": {
     "slide_type": "subslide"
    }
   }
  },
  {
   "cell_type": "code",
   "execution_count": null,
   "source": [
    "query = 'puppy'\n",
    "content = '''A puppy is a juvenile dog.\n",
    "A puppy's coat color may change as the puppy grows older,\n",
    "as is commonly seen in breeds such as the Yorkshire Terrier.'''\n",
    "\n",
    "index = 0\n",
    "while index < len(content) - len(query) + 1:\n",
    "    word = content[index:index + len(query)]\n",
    "    print(word)\n",
    "    if word == query:\n",
    "        print('Found a match!')\n",
    "        break\n",
    "    index += 1"
   ],
   "outputs": [],
   "metadata": {
    "slideshow": {
     "slide_type": "subslide"
    }
   }
  },
  {
   "cell_type": "markdown",
   "source": [
    "### `for` loop"
   ],
   "metadata": {
    "slideshow": {
     "slide_type": "slide"
    }
   }
  },
  {
   "cell_type": "code",
   "execution_count": null,
   "source": [
    "query = 'puppy'\n",
    "content = '''A puppy is a juvenile dog.\n",
    "A puppy's coat color may change as the puppy grows older,\n",
    "as is commonly seen in breeds such as the Yorkshire Terrier.'''\n",
    "\n",
    "for index in range(len(content) - len(query) + 1):\n",
    "    word = content[index:index + len(query)]\n",
    "    print(word)\n",
    "    if word == query:\n",
    "        print('Found a match!')\n",
    "        break\n",
    "    index += 1"
   ],
   "outputs": [],
   "metadata": {
    "slideshow": {
     "slide_type": "subslide"
    }
   }
  },
  {
   "cell_type": "markdown",
   "source": [
    "This pattern of traversing a string and returning (or breaking!) when we find what we are looking for is called a **search**."
   ],
   "metadata": {
    "slideshow": {
     "slide_type": "slide"
    }
   }
  },
  {
   "cell_type": "markdown",
   "source": [
    "The pattern of traversing a string and counting how many times we find what we are looking for is called a **count**."
   ],
   "metadata": {
    "slideshow": {
     "slide_type": "slide"
    }
   }
  },
  {
   "cell_type": "code",
   "execution_count": null,
   "source": [
    "query = 'puppy'\n",
    "content = '''A puppy is a juvenile dog.\n",
    "A puppy's coat color may change as the puppy grows older,\n",
    "as is commonly seen in breeds such as the Yorkshire Terrier.'''\n",
    "\n",
    "count = 0 # Initialize counter\n",
    "for index in range(len(content) - len(query) + 1):\n",
    "    word = content[index:index + len(query)]\n",
    "    if word == query:\n",
    "        print('Found a match!')\n",
    "        count += 1 # Increment counter\n",
    "    index += 1\n",
    "print(f'Number of matches: {count}')"
   ],
   "outputs": [],
   "metadata": {
    "slideshow": {
     "slide_type": "subslide"
    }
   }
  },
  {
   "cell_type": "markdown",
   "source": [
    "# String methods"
   ],
   "metadata": {
    "slideshow": {
     "slide_type": "slide"
    }
   }
  },
  {
   "cell_type": "markdown",
   "source": [
    "## What's the difference between methods and functions?"
   ],
   "metadata": {
    "slideshow": {
     "slide_type": "slide"
    }
   }
  },
  {
   "cell_type": "markdown",
   "source": [
    "A method *is* a function!\n",
    "\n",
    "```python\n",
    "fruits = ['apple', 'banana', 'canteloupe']\n",
    "```\n",
    "\n",
    "- Called by naming it and following the name with parentheses: `fruits.append('peach')`\n",
    "- Can take input (arguments) and give output (return value): `fruits.pop() # Deletes and returns last element`"
   ],
   "metadata": {
    "slideshow": {
     "slide_type": "subslide"
    }
   }
  },
  {
   "cell_type": "markdown",
   "source": [
    "Specifically, methods are functions that *belong* to objects.\n",
    "\n",
    "*Which* methods an object has depends on its type.\n",
    "\n",
    "`fruit` has methods `append` and `pop` because it is a `list`."
   ],
   "metadata": {
    "slideshow": {
     "slide_type": "subslide"
    }
   }
  },
  {
   "cell_type": "markdown",
   "source": [
    "A method is applied to the object it is called **on**.\n",
    "\n",
    "You call a method **on** an object with dot notation: `<object>.<method>`.\n",
    "\n",
    "`fruits.append('peach')` applies the `append` method on the `fruits` object, which is a list."
   ],
   "metadata": {
    "slideshow": {
     "slide_type": "subslide"
    }
   }
  },
  {
   "cell_type": "markdown",
   "source": [
    "## `upper` method"
   ],
   "metadata": {
    "slideshow": {
     "slide_type": "slide"
    }
   }
  },
  {
   "cell_type": "code",
   "execution_count": null,
   "source": [
    "fruit = 'banana'\n",
    "louder_fruit = fruit.upper()\n",
    "print(louder_fruit)"
   ],
   "outputs": [],
   "metadata": {
    "slideshow": {
     "slide_type": "subslide"
    }
   }
  },
  {
   "cell_type": "markdown",
   "source": [
    "The `upper` method was called **on** the `fruit` object, which is a string. It returns the string with all characters in uppercase.\n",
    "\n",
    "We know that `fruit` has a `upper` method because it is a string."
   ],
   "metadata": {}
  },
  {
   "cell_type": "code",
   "execution_count": null,
   "source": [
    "## `find` method\n",
    "\n",
    "fruit = 'banana'\n",
    "index = fruit.find('a')\n",
    "print(index)"
   ],
   "outputs": [],
   "metadata": {
    "slideshow": {
     "slide_type": "slide"
    }
   }
  },
  {
   "cell_type": "markdown",
   "source": [
    "The `find` method was called **on** the `fruit` object, which is a string. It searches for the substring (`'a'`) within the string and returns the index of the first match.\n",
    "\n",
    "We know that `fruit` has a `finds` method because it is a string."
   ],
   "metadata": {}
  },
  {
   "cell_type": "markdown",
   "source": [
    "You can find the complete list of string methods in the Python documentation: http://docs.python.org/3/library/stdtypes.html#string-methods."
   ],
   "metadata": {
    "slideshow": {
     "slide_type": "slide"
    }
   }
  },
  {
   "cell_type": "markdown",
   "source": [
    "# The `in` operator"
   ],
   "metadata": {
    "slideshow": {
     "slide_type": "slide"
    }
   }
  },
  {
   "cell_type": "markdown",
   "source": [
    "Just as with lists, the `in` operator takes two strings and returns `True` if the first is a substring of the second."
   ],
   "metadata": {
    "slideshow": {
     "slide_type": "subslide"
    }
   }
  },
  {
   "cell_type": "code",
   "execution_count": null,
   "source": [
    "print('a' in 'banana')"
   ],
   "outputs": [],
   "metadata": {}
  },
  {
   "cell_type": "code",
   "execution_count": null,
   "source": [
    "query = 'puppy'\n",
    "content = '''A puppy is a juvenile dog.\n",
    "A puppy's coat color may change as the puppy grows older,\n",
    "as is commonly seen in breeds such as the Yorkshire Terrier.'''\n",
    "print(query in content)"
   ],
   "outputs": [],
   "metadata": {}
  },
  {
   "cell_type": "markdown",
   "source": [
    "## So, why go through all the trouble of traversing a string?"
   ],
   "metadata": {
    "slideshow": {
     "slide_type": "slide"
    }
   }
  },
  {
   "cell_type": "code",
   "execution_count": null,
   "source": [
    "query = 'puppy'\n",
    "content = '''A puppy is a juvenile dog.\n",
    "A puppy's coat color may change as the puppy grows older,\n",
    "as is commonly seen in breeds such as the Yorkshire Terrier.'''\n",
    "\n",
    "print(f'Using in operator: {query in content}')\n",
    "\n",
    "for index in range(len(content) - len(query) + 1):\n",
    "    word = content[index:index + len(query)]\n",
    "    if word == query:\n",
    "        print('Using for loop: True')\n",
    "        break\n",
    "    index += 1"
   ],
   "outputs": [],
   "metadata": {
    "slideshow": {
     "slide_type": "subslide"
    }
   }
  },
  {
   "cell_type": "markdown",
   "source": [
    "What if you want to require two matches?\n",
    "\n",
    "Cannot use `in` operator! Traversal to the rescue!"
   ],
   "metadata": {
    "slideshow": {
     "slide_type": "subslide"
    }
   }
  },
  {
   "cell_type": "code",
   "execution_count": null,
   "source": [
    "query = 'puppy'\n",
    "content = '''A puppy is a juvenile dog.\n",
    "A puppy's coat color may change as the puppy grows older,\n",
    "as is commonly seen in breeds such as the Yorkshire Terrier.'''\n",
    "\n",
    "count = 0\n",
    "for index in range(len(content) - len(query) + 1):\n",
    "    word = content[index:index + len(query)]\n",
    "    if word == query:\n",
    "        count += 1\n",
    "        if count == 2:\n",
    "            print('Found two matches!')\n",
    "            break\n",
    "    index += 1"
   ],
   "outputs": [],
   "metadata": {
    "slideshow": {
     "slide_type": "subslide"
    }
   }
  },
  {
   "cell_type": "markdown",
   "source": [
    "# String comparison"
   ],
   "metadata": {
    "slideshow": {
     "slide_type": "slide"
    }
   }
  },
  {
   "cell_type": "markdown",
   "source": [
    "Relational operators (e.g. `==`, `<`, `>`) work on strings as well!"
   ],
   "metadata": {
    "slideshow": {
     "slide_type": "slide"
    }
   }
  },
  {
   "cell_type": "code",
   "execution_count": null,
   "source": [
    "ans = input('Answer \"yes\" or \"no\": ')\n",
    "if ans == 'yes':\n",
    "    print('Answered \"yes\"!')\n",
    "elif ans == 'no':\n",
    "    print('Answered \"no\"!')"
   ],
   "outputs": [],
   "metadata": {
    "slideshow": {
     "slide_type": "subslide"
    }
   }
  },
  {
   "cell_type": "markdown",
   "source": [
    "## Sorting strings\n",
    "\n",
    "<div>\n",
    "    <img src=\"contacts.jpeg\" class=\"center\" width=\"300\">\n",
    "</div>"
   ],
   "metadata": {
    "slideshow": {
     "slide_type": "slide"
    }
   }
  },
  {
   "cell_type": "code",
   "execution_count": null,
   "source": [
    "first_name = input('Enter first name: '), last_name = input('Enter last name: ')\n",
    "name = ' '.join([first_name, last_name])\n",
    "contact_first_name = 'Julia', contact_last_name = 'Fillory'\n",
    "contact_name = ' '.join([first_name, last_name])\n",
    "\n",
    "if last_name < contact_last_name:\n",
    "    print(f'{name} comes before {contact}')\n",
    "elif last_name > contact_last_name:\n",
    "    print(f'{name} comes after {contact}')\n",
    "else:\n",
    "    if first_name < contact_first_name:\n",
    "        print(f'{name} comes before {contact}')\n",
    "    elif first_name > contact_first_name:\n",
    "        print(f'{name} comes after {contact}')"
   ],
   "outputs": [],
   "metadata": {
    "scrolled": false,
    "slideshow": {
     "slide_type": "slide"
    }
   }
  },
  {
   "cell_type": "markdown",
   "source": [
    "Be aware of case when sorting!"
   ],
   "metadata": {
    "slideshow": {
     "slide_type": "subslide"
    }
   }
  }
 ],
 "metadata": {
  "celltoolbar": "Slideshow",
  "kernelspec": {
   "display_name": "Python 3 (ipykernel)",
   "language": "python",
   "name": "python3"
  },
  "language_info": {
   "codemirror_mode": {
    "name": "ipython",
    "version": 3
   },
   "file_extension": ".py",
   "mimetype": "text/x-python",
   "name": "python",
   "nbconvert_exporter": "python",
   "pygments_lexer": "ipython3",
   "version": "3.9.7"
  },
  "rise": {
   "autolaunch": true,
   "enable_chalkboard": true
  }
 },
 "nbformat": 4,
 "nbformat_minor": 5
}