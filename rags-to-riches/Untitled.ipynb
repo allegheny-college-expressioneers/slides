{
 "cells": [
  {
   "cell_type": "markdown",
   "id": "d7c0a729",
   "metadata": {
    "slideshow": {
     "slide_type": "slide"
    }
   },
   "source": [
    "# Rags to Riches\n",
    "\n",
    "## (Using modules written by others)"
   ]
  },
  {
   "cell_type": "markdown",
   "id": "eedb91d0",
   "metadata": {
    "slideshow": {
     "slide_type": "slide"
    }
   },
   "source": [
    "In the past, you have written several of your own modules...\n",
    "\n",
    "- `caesar_cipher.py` ➡️ `import caesar_cipher`\n",
    "- `validator.py` ➡️ `import validator`\n",
    "- `text_mod.py` ➡️ `import text_mod`"
   ]
  },
  {
   "cell_type": "markdown",
   "id": "546034fb",
   "metadata": {
    "slideshow": {
     "slide_type": "slide"
    }
   },
   "source": [
    "There are two key benefits of writing your own modules:\n",
    "    \n",
    "1. Modules help you to organize code.\n",
    "2. Modules allow you to reuse code.\n",
    "\n",
    "These become more evident the larger your system gets!"
   ]
  },
  {
   "cell_type": "markdown",
   "id": "7039b872",
   "metadata": {
    "slideshow": {
     "slide_type": "slide"
    }
   },
   "source": [
    "Navigate to **github.com/GatorEducator/gatorgrader**\n",
    "\n",
    "1. What would `gatorgrader.py` look like without the use of modules?\n",
    "2. In the `gator` folder, what is one module that is reused across different files?"
   ]
  },
  {
   "cell_type": "markdown",
   "id": "4ee73a9d",
   "metadata": {
    "slideshow": {
     "slide_type": "slide"
    }
   },
   "source": [
    "In the past, you have also imported modules that you did not write yourself...\n",
    "\n",
    "- `import random`\n",
    "- `import sys`"
   ]
  },
  {
   "cell_type": "markdown",
   "id": "66c2dca6",
   "metadata": {
    "slideshow": {
     "slide_type": "subslide"
    }
   },
   "source": [
    "These modules added additional functionalities to your programs...\n",
    "\n",
    "- `import random`: Used to generate random numbers (e.g. `random.random()`)\n",
    "- `import sys`: Used to access the command-line arguments (e.g. `sys.argv[1]`)"
   ]
  },
  {
   "cell_type": "markdown",
   "id": "1609bc54",
   "metadata": {
    "slideshow": {
     "slide_type": "slide"
    }
   },
   "source": [
    "But, where do these come from?\n",
    "\n",
    "Navigate to **github.com/python/cpython**"
   ]
  },
  {
   "cell_type": "markdown",
   "id": "ec01e990",
   "metadata": {
    "slideshow": {
     "slide_type": "slide"
    }
   },
   "source": [
    "When you type the command `python` (e.g. `python todo_list.py`), you are *actually* running a program that executes Python code.\n",
    "\n",
    "The repository you are looking at contains the source code of this program. This is an example of open-source software."
   ]
  },
  {
   "cell_type": "markdown",
   "id": "5b4178e3",
   "metadata": {
    "slideshow": {
     "slide_type": "slide"
    }
   },
   "source": [
    "What is **open-source software**?"
   ]
  },
  {
   "cell_type": "markdown",
   "id": "b9c71b58",
   "metadata": {
    "slideshow": {
     "slide_type": "slide"
    }
   },
   "source": [
    "What can you do with open-source software?\n",
    "\n",
    "Well, it depends... Look at the **Copyright and License Information** section."
   ]
  },
  {
   "cell_type": "markdown",
   "id": "7b05e1e4",
   "metadata": {
    "slideshow": {
     "slide_type": "subslide"
    }
   },
   "source": [
    "Most open-source licenses allow you to...\n",
    "\n",
    "- Import the program into your program\n",
    "- Copy parts of the code into your program\n",
    "- Take the entire program and improve it as your own program"
   ]
  },
  {
   "cell_type": "markdown",
   "id": "b6625228",
   "metadata": {
    "slideshow": {
     "slide_type": "slide"
    }
   },
   "source": [
    "Open-source software powers the world!\n",
    "\n",
    "- Websites\n",
    "- Operating systems (JupyterLab!)\n",
    "- Programming languages\n"
   ]
  },
  {
   "cell_type": "markdown",
   "id": "ebe82fc3",
   "metadata": {
    "slideshow": {
     "slide_type": "slide"
    }
   },
   "source": [
    "The `python` program ships with several modules.\n",
    "\n",
    "Look in the `Modules` folder. Which file contains the `random` module?"
   ]
  },
  {
   "cell_type": "markdown",
   "id": "e15b1496",
   "metadata": {
    "slideshow": {
     "slide_type": "slide"
    }
   },
   "source": [
    "# `random`\n",
    "\n",
    "Used to generate randomness.\n",
    "\n",
    "Some `random` functions you have seen (and one new function)... "
   ]
  },
  {
   "cell_type": "markdown",
   "id": "fc5e18b3",
   "metadata": {
    "slideshow": {
     "slide_type": "subslide"
    }
   },
   "source": [
    "|                  | Input                     | Output                                                                                              |\n",
    "|------------------|---------------------------|-----------------------------------------------------------------------------------------------------|\n",
    "| `.randint(a, b)` | Two integers, *a* and *b* | A random integer between the two integers--*a* and *b* are inclusive                                |\n",
    "| `.random()`      | None                      | A random floating-point number in the range [0.0, 1.0)                                              |\n",
    "| `.choice(seq)`   | A sequence (e.g. list)    | A randomly selected item from the given sequence                                                    |\n",
    "| `.shuffle(seq)`  | A sequence (e.g. list)    | None--it randomly shuffles the items in the given list (Note that this will change the given list!) |"
   ]
  },
  {
   "cell_type": "markdown",
   "id": "7fec3514",
   "metadata": {
    "slideshow": {
     "slide_type": "subslide"
    }
   },
   "source": [
    "|                  | Input                     | Output                                                                                              | Use Case                                          |\n",
    "|------------------|---------------------------|-----------------------------------------------------------------------------------------------------|---------------------------------------------------|\n",
    "| `.randint(a, b)` | Two integers, *a* and *b* | A random integer between the two integers--*a* and *b* are inclusive                                | Generate integers                                 |\n",
    "| `.random()`      | None                      | A random floating-point number in the range [0.0, 1.0)                                              |    |\n",
    "| `.choice(seq)`   | A sequence (e.g. list)    | A randomly selected item from the given sequence                                                    |                                         |\n",
    "| `.shuffle(seq)`  | A sequence (e.g. list)    | None--it randomly shuffles the items in the given list (Note that this will change the given list!) |  |"
   ]
  },
  {
   "cell_type": "markdown",
   "id": "0f2a0089",
   "metadata": {
    "slideshow": {
     "slide_type": "subslide"
    }
   },
   "source": [
    "|                  | Input                     | Output                                                                                              | Use Case                                          |\n",
    "|------------------|---------------------------|-----------------------------------------------------------------------------------------------------|---------------------------------------------------|\n",
    "| `.randint(a, b)` | Two integers, *a* and *b* | A random integer between the two integers--*a* and *b* are inclusive                                | Generate integers                                 |\n",
    "| `.random()`      | None                      | A random floating-point number in the range [0.0, 1.0)                                              | Generate fractional numbers (e.g. percentages)   |\n",
    "| `.choice(seq)`   | A sequence (e.g. list)    | A randomly selected item from the given sequence                                                    |                                         |\n",
    "| `.shuffle(seq)`  | A sequence (e.g. list)    | None--it randomly shuffles the items in the given list (Note that this will change the given list!) | |"
   ]
  },
  {
   "cell_type": "markdown",
   "id": "1ab041cf",
   "metadata": {
    "slideshow": {
     "slide_type": "subslide"
    }
   },
   "source": [
    "|                  | Input                     | Output                                                                                              | Use Case                                          |\n",
    "|------------------|---------------------------|-----------------------------------------------------------------------------------------------------|---------------------------------------------------|\n",
    "| `.randint(a, b)` | Two integers, *a* and *b* | A random integer between the two integers--*a* and *b* are inclusive                                | Generate integers                                 |\n",
    "| `.random()`      | None                      | A random floating-point number in the range [0.0, 1.0)                                              | Generate fractional numbers (e.g. percentages)   |\n",
    "| `.choice(seq)`   | A sequence (e.g. list)    | A randomly selected item from the given sequence                                                    | Choose one                                        |\n",
    "| `.shuffle(seq)`  | A sequence (e.g. list)    | None--it randomly shuffles the items in the given list (Note that this will change the given list!) |  |"
   ]
  },
  {
   "cell_type": "markdown",
   "id": "c144e5b9",
   "metadata": {
    "slideshow": {
     "slide_type": "subslide"
    }
   },
   "source": [
    "|                  | Input                     | Output                                                                                              | Use Case                                          |\n",
    "|------------------|---------------------------|-----------------------------------------------------------------------------------------------------|---------------------------------------------------|\n",
    "| `.randint(a, b)` | Two integers, *a* and *b* | A random integer between the two integers--*a* and *b* are inclusive                                | Generate integers                                 |\n",
    "| `.random()`      | None                      | A random floating-point number in the range [0.0, 1.0)                                              | Generate fractional numbers (e.g. percentages)   |\n",
    "| `.choice(seq)`   | A sequence (e.g. list)    | A randomly selected item from the given sequence                                                    | Choose one                                        |\n",
    "| `.shuffle(seq)`  | A sequence (e.g. list)    | None--it randomly shuffles the items in the given list (Note that this will change the given list!) | Randomize data (e.g. to choose distinct multiple) |"
   ]
  },
  {
   "cell_type": "markdown",
   "id": "22d77a90",
   "metadata": {
    "slideshow": {
     "slide_type": "slide"
    }
   },
   "source": [
    "Make sure to write your partner's name in the `README.md` and commit and push your work!"
   ]
  }
 ],
 "metadata": {
  "celltoolbar": "Slideshow",
  "kernelspec": {
   "display_name": "Python 3 (ipykernel)",
   "language": "python",
   "name": "python3"
  },
  "language_info": {
   "codemirror_mode": {
    "name": "ipython",
    "version": 3
   },
   "file_extension": ".py",
   "mimetype": "text/x-python",
   "name": "python",
   "nbconvert_exporter": "python",
   "pygments_lexer": "ipython3",
   "version": "3.9.7"
  },
  "rise": {
   "autolaunch": true,
   "enable_chalkboard": true
  }
 },
 "nbformat": 4,
 "nbformat_minor": 5
}
