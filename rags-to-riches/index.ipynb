{
 "cells": [
  {
   "cell_type": "markdown",
   "id": "d7c0a729",
   "metadata": {
    "slideshow": {
     "slide_type": "slide"
    }
   },
   "source": [
    "# Rags to Riches\n",
    "\n",
    "## (Using modules written by others)"
   ]
  },
  {
   "cell_type": "markdown",
   "id": "eedb91d0",
   "metadata": {
    "slideshow": {
     "slide_type": "slide"
    }
   },
   "source": [
    "In the past, you have written several of your own modules...\n",
    "\n",
    "- `caesar_cipher.py` ➡️ `import caesar_cipher`\n",
    "- `validator.py` ➡️ `import validator`\n",
    "- `text_mod.py` ➡️ `import text_mod`"
   ]
  },
  {
   "cell_type": "markdown",
   "id": "546034fb",
   "metadata": {
    "slideshow": {
     "slide_type": "slide"
    }
   },
   "source": [
    "There are two key benefits of writing your own modules:\n",
    "    \n",
    "1. Modules help you to organize code.\n",
    "2. Modules allow you to reuse code.\n",
    "\n",
    "These become more evident the larger your system gets!"
   ]
  },
  {
   "cell_type": "markdown",
   "id": "7039b872",
   "metadata": {
    "slideshow": {
     "slide_type": "slide"
    }
   },
   "source": [
    "Navigate to **github.com/GatorEducator/gatorgrader**\n",
    "\n",
    "1. What would `gatorgrader.py` look like without the use of modules?\n",
    "2. In the `gator` folder, what is one module that is reused across different files?"
   ]
  },
  {
   "cell_type": "markdown",
   "id": "4ee73a9d",
   "metadata": {
    "slideshow": {
     "slide_type": "slide"
    }
   },
   "source": [
    "In the past, you have also imported modules that you did not write yourself...\n",
    "\n",
    "- `import random`\n",
    "- `import sys`"
   ]
  },
  {
   "cell_type": "markdown",
   "id": "66c2dca6",
   "metadata": {
    "slideshow": {
     "slide_type": "subslide"
    }
   },
   "source": [
    "These modules added additional functionalities to your programs...\n",
    "\n",
    "- `import random`: Used to generate random numbers (e.g. `random.random()`)\n",
    "- `import sys`: Used to access the command-line arguments (e.g. `sys.argv[1]`)"
   ]
  },
  {
   "cell_type": "markdown",
   "id": "1609bc54",
   "metadata": {
    "slideshow": {
     "slide_type": "slide"
    }
   },
   "source": [
    "But, where do these come from?\n",
    "\n",
    "Navigate to **github.com/python/cpython**"
   ]
  },
  {
   "cell_type": "markdown",
   "id": "ec01e990",
   "metadata": {
    "slideshow": {
     "slide_type": "slide"
    }
   },
   "source": [
    "When you type the command `python` (e.g. `python todo_list.py`), you are *actually* running a program that executes Python code.\n",
    "\n",
    "The repository you are looking at contains the source code of this program. This is an example of **open-source software**."
   ]
  },
  {
   "cell_type": "markdown",
   "id": "5b4178e3",
   "metadata": {
    "slideshow": {
     "slide_type": "slide"
    }
   },
   "source": [
    "Why is open-source software important?"
   ]
  },
  {
   "cell_type": "markdown",
   "id": "b9c71b58",
   "metadata": {
    "slideshow": {
     "slide_type": "slide"
    }
   },
   "source": [
    "What can you do with open-source software?\n",
    "\n",
    "Well, it depends... Look at the **Copyright and License Information** section."
   ]
  },
  {
   "cell_type": "markdown",
   "id": "7b05e1e4",
   "metadata": {
    "slideshow": {
     "slide_type": "subslide"
    }
   },
   "source": [
    "Most open-source licenses allow you to...\n",
    "\n",
    "- Import the program into your program\n",
    "- Copy parts of the code into your program\n",
    "- Take the entire program and improve it as your own program"
   ]
  },
  {
   "cell_type": "markdown",
   "id": "b6625228",
   "metadata": {
    "slideshow": {
     "slide_type": "slide"
    }
   },
   "source": [
    "Open-source software powers the world!\n",
    "\n",
    "- Websites\n",
    "- Operating systems (JupyterLab!)\n",
    "- Programming languages\n",
    "- Git\n"
   ]
  },
  {
   "cell_type": "markdown",
   "id": "ebe82fc3",
   "metadata": {
    "slideshow": {
     "slide_type": "slide"
    }
   },
   "source": [
    "The `python` program ships with several modules.\n",
    "\n",
    "Look in the `Modules` folder. Which file contains the `random` module?"
   ]
  },
  {
   "cell_type": "markdown",
   "id": "e15b1496",
   "metadata": {
    "slideshow": {
     "slide_type": "slide"
    }
   },
   "source": [
    "# `random`\n",
    "\n",
    "Used to generate randomness.\n",
    "\n",
    "Some `random` functions you have seen (and one new function)... "
   ]
  },
  {
   "cell_type": "markdown",
   "id": "fc5e18b3",
   "metadata": {
    "slideshow": {
     "slide_type": "subslide"
    }
   },
   "source": [
    "|                  | Input                     | Output                                                                                              |\n",
    "|------------------|---------------------------|-----------------------------------------------------------------------------------------------------|\n",
    "| `.randint(a, b)` | Two integers, *a* and *b* | A random integer between the two integers--*a* and *b* are inclusive                                |\n",
    "| `.random()`      | None                      | A random floating-point number in the range [0.0, 1.0)                                              |\n",
    "| `.choice(seq)`   | A sequence (e.g. list)    | A randomly selected item from the given sequence                                                    |\n",
    "| `.shuffle(seq)`  | A sequence (e.g. list)    | None--it randomly shuffles the items in the given list (Note that this will change the given list!) |"
   ]
  },
  {
   "cell_type": "markdown",
   "id": "7fec3514",
   "metadata": {
    "slideshow": {
     "slide_type": "subslide"
    }
   },
   "source": [
    "|                  | Input                     | Output                                                                                              | Use Case                                          |\n",
    "|------------------|---------------------------|-----------------------------------------------------------------------------------------------------|---------------------------------------------------|\n",
    "| `.randint(a, b)` | Two integers, *a* and *b* | A random integer between the two integers--*a* and *b* are inclusive                                | Generate integers                                 |\n",
    "| `.random()`      | None                      | A random floating-point number in the range [0.0, 1.0)                                              |    |\n",
    "| `.choice(seq)`   | A sequence (e.g. list)    | A randomly selected item from the given sequence                                                    |                                         |\n",
    "| `.shuffle(seq)`  | A sequence (e.g. list)    | None--it randomly shuffles the items in the given list (Note that this will change the given list!) |  |"
   ]
  },
  {
   "cell_type": "markdown",
   "id": "0f2a0089",
   "metadata": {
    "slideshow": {
     "slide_type": "subslide"
    }
   },
   "source": [
    "|                  | Input                     | Output                                                                                              | Use Case                                          |\n",
    "|------------------|---------------------------|-----------------------------------------------------------------------------------------------------|---------------------------------------------------|\n",
    "| `.randint(a, b)` | Two integers, *a* and *b* | A random integer between the two integers--*a* and *b* are inclusive                                | Generate integers                                 |\n",
    "| `.random()`      | None                      | A random floating-point number in the range [0.0, 1.0)                                              | Generate fractional numbers (e.g. percentages)   |\n",
    "| `.choice(seq)`   | A sequence (e.g. list)    | A randomly selected item from the given sequence                                                    |                                         |\n",
    "| `.shuffle(seq)`  | A sequence (e.g. list)    | None--it randomly shuffles the items in the given list (Note that this will change the given list!) | |"
   ]
  },
  {
   "cell_type": "markdown",
   "id": "1ab041cf",
   "metadata": {
    "slideshow": {
     "slide_type": "subslide"
    }
   },
   "source": [
    "|                  | Input                     | Output                                                                                              | Use Case                                          |\n",
    "|------------------|---------------------------|-----------------------------------------------------------------------------------------------------|---------------------------------------------------|\n",
    "| `.randint(a, b)` | Two integers, *a* and *b* | A random integer between the two integers--*a* and *b* are inclusive                                | Generate integers                                 |\n",
    "| `.random()`      | None                      | A random floating-point number in the range [0.0, 1.0)                                              | Generate fractional numbers (e.g. percentages)   |\n",
    "| `.choice(seq)`   | A sequence (e.g. list)    | A randomly selected item from the given sequence                                                    | Choose one                                        |\n",
    "| `.shuffle(seq)`  | A sequence (e.g. list)    | None--it randomly shuffles the items in the given list (Note that this will change the given list!) |  |"
   ]
  },
  {
   "cell_type": "markdown",
   "id": "c144e5b9",
   "metadata": {
    "slideshow": {
     "slide_type": "subslide"
    }
   },
   "source": [
    "|                  | Input                     | Output                                                                                              | Use Case                                          |\n",
    "|------------------|---------------------------|-----------------------------------------------------------------------------------------------------|---------------------------------------------------|\n",
    "| `.randint(a, b)` | Two integers, *a* and *b* | A random integer between the two integers--*a* and *b* are inclusive                                | Generate integers                                 |\n",
    "| `.random()`      | None                      | A random floating-point number in the range [0.0, 1.0)                                              | Generate fractional numbers (e.g. percentages)   |\n",
    "| `.choice(seq)`   | A sequence (e.g. list)    | A randomly selected item from the given sequence                                                    | Choose one                                        |\n",
    "| `.shuffle(seq)`  | A sequence (e.g. list)    | None--it randomly shuffles the items in the given list (Note that this will change the given list!) | Randomize data (e.g. to choose distinct multiple) |"
   ]
  },
  {
   "cell_type": "markdown",
   "id": "22d77a90",
   "metadata": {
    "slideshow": {
     "slide_type": "slide"
    }
   },
   "source": [
    "Make sure to write your partner's name in the `README.md` and commit and push your work!"
   ]
  },
  {
   "cell_type": "markdown",
   "id": "fc543375",
   "metadata": {
    "slideshow": {
     "slide_type": "slide"
    }
   },
   "source": [
    "# JavaScript Object Notation (JSON)"
   ]
  },
  {
   "cell_type": "markdown",
   "id": "1778cd1a",
   "metadata": {
    "slideshow": {
     "slide_type": "subslide"
    }
   },
   "source": [
    "Data power programs.\n",
    "\n",
    "![Post](post.png)\n"
   ]
  },
  {
   "cell_type": "markdown",
   "id": "9be70627",
   "metadata": {
    "slideshow": {
     "slide_type": "subslide"
    }
   },
   "source": [
    "![Bare post](post-bare.png)"
   ]
  },
  {
   "cell_type": "markdown",
   "id": "e28f6d84",
   "metadata": {
    "slideshow": {
     "slide_type": "subslide"
    }
   },
   "source": [
    "What is one program you use on a daily basis that relies on data?"
   ]
  },
  {
   "cell_type": "markdown",
   "id": "2f651baf",
   "metadata": {
    "slideshow": {
     "slide_type": "slide"
    }
   },
   "source": [
    "Textual data can be stored in many different ways...\n",
    "\n",
    "```text\n",
    "red,red,blue,orange,green,blue,blue,green,green,red,blue,blue,green,green,orange,green,blue,red,blue,blue,red,blue\n",
    "```\n",
    "\n",
    "E.g. Comma-separated values (CSV)"
   ]
  },
  {
   "cell_type": "markdown",
   "id": "d1f8f5c9",
   "metadata": {
    "slideshow": {
     "slide_type": "subslide"
    }
   },
   "source": [
    "![Post](post.png)\n",
    "\n",
    "```text\n",
    "\"Bruce Banner\",\"05/04/2012\",\"I'm always angry...\",\"Natasha Romanoff\",\"05/04/2021\",\"You killed it out there today, buddy!\"\n",
    "```\n",
    "\n",
    "We need to know what each value *is*!"
   ]
  },
  {
   "cell_type": "code",
   "execution_count": 3,
   "id": "a7ac84f9",
   "metadata": {
    "slideshow": {
     "slide_type": "subslide"
    }
   },
   "outputs": [
    {
     "name": "stdout",
     "output_type": "stream",
     "text": [
      "Bruce Banner\n"
     ]
    }
   ],
   "source": [
    "post = [\"Bruce Banner\", \"05/04/2012\", \"I'm always angry...\",\n",
    "        \"Natasha Romanoff\", \"05/04/2012\",\n",
    "        \"You killed it out there today, buddy!\"]\n",
    "post_author = post[0]\n",
    "print(post_author)"
   ]
  },
  {
   "cell_type": "code",
   "execution_count": 4,
   "id": "3328508e",
   "metadata": {
    "slideshow": {
     "slide_type": "subslide"
    }
   },
   "outputs": [
    {
     "name": "stdout",
     "output_type": "stream",
     "text": [
      "05/04/2012\n"
     ]
    }
   ],
   "source": [
    "post = [\"05/04/2012\", \"Bruce Banner\", \"I'm always angry...\",\n",
    "        \"Natasha Romanoff\", \"05/04/2012\",\n",
    "        \"You killed it out there today, buddy!\"]\n",
    "post_author = post[0]\n",
    "print(post_author)"
   ]
  },
  {
   "cell_type": "markdown",
   "id": "4ee2c9e8",
   "metadata": {
    "slideshow": {
     "slide_type": "subslide"
    }
   },
   "source": [
    "What are some things that could change the positions of items in a list?"
   ]
  },
  {
   "cell_type": "markdown",
   "id": "36c5e884",
   "metadata": {
    "slideshow": {
     "slide_type": "slide"
    }
   },
   "source": [
    "Two problems to using CSV:\n",
    "\n",
    "1. Don't know what each value *is*\n",
    "2. Position of value could change"
   ]
  },
  {
   "cell_type": "markdown",
   "id": "cdc522dd",
   "metadata": {
    "slideshow": {
     "slide_type": "slide"
    }
   },
   "source": [
    "JavaScript Object Notation (JSON) to the rescue!\n",
    "\n",
    "```json\n",
    "{\n",
    "    \"author\": \"Bruce Banner\",\n",
    "    \"date\": \"05/04/2012\",\n",
    "    \"text\": \"I'm always angry...\",\n",
    "    \"comments\": [\n",
    "        {\n",
    "            \"author\": \"Natasha Romanoff\",\n",
    "            \"date\": \"05/04/2021\",\n",
    "            \"text\": \"You killed it out there today, buddy!\"\n",
    "        }\n",
    "    ]\n",
    "}\n",
    "```"
   ]
  },
  {
   "cell_type": "markdown",
   "id": "7911c347",
   "metadata": {
    "slideshow": {
     "slide_type": "subslide"
    }
   },
   "source": [
    "Benefits of JSON:\n",
    "\n",
    "1. Encodes what each value *is*\n",
    "2. *Standardizes* data; every post will have the same keys--we can have expectations about the data that are unlikely to change (top-level `author` key will always map to post's author)"
   ]
  },
  {
   "cell_type": "markdown",
   "id": "17efffd1",
   "metadata": {
    "slideshow": {
     "slide_type": "slide"
    }
   },
   "source": [
    "```json\n",
    "{\n",
    "    \"author\": \"Bruce Banner\",\n",
    "    \"date\": \"05/04/2012\",\n",
    "    \"text\": \"I'm always angry...\",\n",
    "    \"comments\": [\n",
    "        {\n",
    "            \"author\": \"Natasha Romanoff\",\n",
    "            \"date\": \"05/04/2021\",\n",
    "            \"text\": \"You killed it out there today, buddy!\"\n",
    "        }\n",
    "    ]\n",
    "}\n",
    "```\n",
    "\n",
    "What data structure does JSON look most similar to?\n",
    "\n",
    "Does any part of the JSON look like another data structure?"
   ]
  },
  {
   "cell_type": "markdown",
   "id": "be510339",
   "metadata": {
    "slideshow": {
     "slide_type": "subslide"
    }
   },
   "source": [
    "Keep in mind that JSON is *not* a Python dictionary! It is simply text formatted *like* a dictionary, with keys and values. You can store it in a text file."
   ]
  },
  {
   "cell_type": "markdown",
   "id": "fcc80ec0",
   "metadata": {
    "slideshow": {
     "slide_type": "slide"
    }
   },
   "source": [
    "But, data is only useful if you actually *use* it.\n",
    "\n",
    "Because it looks most like a dictionary, it makes the most sense to interact with it as a dictionary.\n",
    "\n",
    "Let's load the JSON into a Python dictionary we can use.\n",
    "\n",
    "There's a module for that: `json`"
   ]
  },
  {
   "cell_type": "markdown",
   "id": "b235383d",
   "metadata": {
    "slideshow": {
     "slide_type": "subslide"
    }
   },
   "source": [
    "Two ways you might get JSON:\n",
    "\n",
    "1. As a string\n",
    "2. In a file\n",
    "\n",
    "Either way, need to `import json`"
   ]
  },
  {
   "cell_type": "markdown",
   "id": "d88cc6fc",
   "metadata": {
    "slideshow": {
     "slide_type": "slide"
    }
   },
   "source": [
    "What is meant by \"get\" JSON?\n",
    "\n",
    "![API](api.png)"
   ]
  },
  {
   "cell_type": "markdown",
   "id": "ca545a1f",
   "metadata": {
    "slideshow": {
     "slide_type": "subslide"
    }
   },
   "source": [
    "Navigate to **api.nasa.gov/index.html**\n",
    "\n",
    "1. Click on an API that interests you\n",
    "2. Copy an example query (if it has `GET`, don't include it!) and put into the URL bar\n",
    "3. Describe what you see\n",
    "    - What does the structure of the data look like?\n",
    "    - Does it contain any other links you can navigate to (e.g. images)?"
   ]
  },
  {
   "cell_type": "markdown",
   "id": "b3b7cf51",
   "metadata": {
    "slideshow": {
     "slide_type": "slide"
    }
   },
   "source": [
    "`json` module functions:\n",
    "\n",
    "1. As a string - `.loads(string)`\n",
    "2. In a file - `.load(file_object)`"
   ]
  },
  {
   "cell_type": "code",
   "execution_count": 9,
   "id": "214b5fdd",
   "metadata": {
    "slideshow": {
     "slide_type": "subslide"
    }
   },
   "outputs": [
    {
     "name": "stdout",
     "output_type": "stream",
     "text": [
      "{'author': 'Bruce Banner', 'date': '05/04/2012', 'text': \"I'm always angry...\", 'comments': [{'author': 'Natasha Romanoff', 'date': '05/04/2021', 'text': 'You killed it out there today, buddy!'}]}\n"
     ]
    }
   ],
   "source": [
    "import json\n",
    "\n",
    "post_string = '{\"author\":\"Bruce Banner\",\"date\":\"05/04/2012\",\"text\":\"I\\'m always angry...\",\"comments\":[{\"author\":\"Natasha Romanoff\",\"date\":\"05/04/2021\",\"text\":\"You killed it out there today, buddy!\"}]}'\n",
    "\n",
    "post = json.loads(post_string)\n",
    "\n",
    "print(post)"
   ]
  },
  {
   "cell_type": "markdown",
   "id": "04ee893c",
   "metadata": {
    "slideshow": {
     "slide_type": "subslide"
    }
   },
   "source": [
    "With the same JSON in `post.json` file..."
   ]
  },
  {
   "cell_type": "code",
   "execution_count": 13,
   "id": "caf60422",
   "metadata": {},
   "outputs": [
    {
     "name": "stdout",
     "output_type": "stream",
     "text": [
      "{'author': 'Bruce Banner', 'date': '05/04/2012', 'text': \"I'm always angry...\", 'comments': [{'author': 'Natasha Romanoff', 'date': '05/04/2021', 'text': 'You killed it out there today, buddy!'}]}\n"
     ]
    }
   ],
   "source": [
    "import json\n",
    "\n",
    "post_file = open('post.json')\n",
    "\n",
    "post = json.load(post_file)\n",
    "\n",
    "print(post)"
   ]
  },
  {
   "cell_type": "markdown",
   "id": "e8afdd74",
   "metadata": {
    "slideshow": {
     "slide_type": "slide"
    }
   },
   "source": [
    "`astronauts.py`\n",
    "\n",
    "![Astronauts](astronauts.jpeg)"
   ]
  },
  {
   "cell_type": "markdown",
   "id": "4d4af3cb",
   "metadata": {
    "slideshow": {
     "slide_type": "slide"
    }
   },
   "source": [
    "`movies.py`\n",
    "\n",
    "![Robin Williams](robin.jpeg)"
   ]
  }
 ],
 "metadata": {
  "celltoolbar": "Slideshow",
  "kernelspec": {
   "display_name": "Python 3 (ipykernel)",
   "language": "python",
   "name": "python3"
  },
  "language_info": {
   "codemirror_mode": {
    "name": "ipython",
    "version": 3
   },
   "file_extension": ".py",
   "mimetype": "text/x-python",
   "name": "python",
   "nbconvert_exporter": "python",
   "pygments_lexer": "ipython3",
   "version": "3.9.7"
  },
  "rise": {
   "autolaunch": true,
   "enable_chalkboard": true
  }
 },
 "nbformat": 4,
 "nbformat_minor": 5
}
