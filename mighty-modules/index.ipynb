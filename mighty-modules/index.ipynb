{
 "cells": [
  {
   "cell_type": "markdown",
   "id": "8616ef2b",
   "metadata": {
    "slideshow": {
     "slide_type": "slide"
    }
   },
   "source": [
    "# Mighty Modules"
   ]
  },
  {
   "cell_type": "markdown",
   "id": "0de6afc0",
   "metadata": {
    "slideshow": {
     "slide_type": "subslide"
    }
   },
   "source": [
    "## Learning objectives\n",
    "\n",
    "- What is a module?\n",
    "- How do you import a module?\n",
    "- How do you call a function in a module that you have imported?\n",
    "- What is the difference between running a program as a script versus using a program as a module?\n",
    "- How do you execute statements only when a module is run as a script (and *not* when it is used as a module)"
   ]
  },
  {
   "cell_type": "markdown",
   "id": "708d7ab4",
   "metadata": {
    "slideshow": {
     "slide_type": "slide"
    }
   },
   "source": [
    "# What is a module?"
   ]
  },
  {
   "cell_type": "markdown",
   "id": "c379cd48",
   "metadata": {
    "slideshow": {
     "slide_type": "subslide"
    }
   },
   "source": [
    "A file that contains a collection of related functions\n",
    "\n",
    "You can write your own modules (this week!) or use modules other people have written (next week!)"
   ]
  },
  {
   "cell_type": "markdown",
   "id": "122d83a7",
   "metadata": {
    "slideshow": {
     "slide_type": "subslide"
    }
   },
   "source": [
    "You wrote `caesar_cipher.py`:\n",
    "\n",
    "```python\n",
    "def encrypt(text, shift):\n",
    "    encrypted = ''\n",
    "    for character in text:\n",
    "        encrypted += chr(ord(character) + shift)\n",
    "    return encrypted\n",
    "\n",
    "def decrypt(text, shift):\n",
    "    return encrypt(text, -shift)\n",
    "```"
   ]
  },
  {
   "cell_type": "markdown",
   "id": "198dd54c",
   "metadata": {
    "slideshow": {
     "slide_type": "subslide"
    }
   },
   "source": [
    "Some other people wrote `math` ([`mathmodule.c`](https://github.com/python/cpython/blob/main/Modules/mathmodule.c))"
   ]
  },
  {
   "cell_type": "markdown",
   "id": "6441e7b5",
   "metadata": {
    "slideshow": {
     "slide_type": "slide"
    }
   },
   "source": [
    "# How do you import a module?"
   ]
  },
  {
   "cell_type": "markdown",
   "id": "316a9934",
   "metadata": {
    "slideshow": {
     "slide_type": "subslide"
    }
   },
   "source": [
    "Use an `import` statement: `import <NAME-OF-MODULE>`"
   ]
  },
  {
   "cell_type": "code",
   "execution_count": null,
   "id": "09c7f484",
   "metadata": {
    "scrolled": true,
    "slideshow": {
     "slide_type": "subslide"
    }
   },
   "outputs": [],
   "source": [
    "import caesar_cipher\n",
    "\n",
    "print(type(caesar_cipher))"
   ]
  },
  {
   "cell_type": "code",
   "execution_count": null,
   "id": "fa07750c",
   "metadata": {
    "scrolled": true
   },
   "outputs": [],
   "source": [
    "import math\n",
    "\n",
    "print(type(math))"
   ]
  },
  {
   "cell_type": "markdown",
   "id": "9e1798e2",
   "metadata": {
    "slideshow": {
     "slide_type": "slide"
    }
   },
   "source": [
    "# How do you call a function in a module that you have imported?"
   ]
  },
  {
   "cell_type": "markdown",
   "id": "eb851fd0",
   "metadata": {
    "slideshow": {
     "slide_type": "subslide"
    }
   },
   "source": [
    "Use dot notation--specify the name of the module and the name of the function, separated by a dot: `<NAME-OF-MODULE>.<NAME-OF-FUNCTION>`"
   ]
  },
  {
   "cell_type": "code",
   "execution_count": null,
   "id": "756b6fdf",
   "metadata": {
    "scrolled": true,
    "slideshow": {
     "slide_type": "subslide"
    }
   },
   "outputs": [],
   "source": [
    "import caesar_cipher\n",
    "\n",
    "print(caesar_cipher.encrypt('cheer', 7))\n",
    "print(caesar_cipher.decrypt('hal', -1))"
   ]
  },
  {
   "cell_type": "code",
   "execution_count": null,
   "id": "5dc02d6f",
   "metadata": {
    "slideshow": {
     "slide_type": "subslide"
    }
   },
   "outputs": [],
   "source": [
    "import math\n",
    "\n",
    "print(math.sqrt(64))\n",
    "print(math.factorial(3))"
   ]
  },
  {
   "cell_type": "markdown",
   "id": "81a6418b",
   "metadata": {
    "slideshow": {
     "slide_type": "slide"
    }
   },
   "source": [
    "# What is the difference between running a program as a script versus using a program as a module?"
   ]
  },
  {
   "cell_type": "markdown",
   "id": "754d6bad",
   "metadata": {},
   "source": [
    "1. Location--Where does this happen?\n",
    "2. Syntax--What do I need to type to make this happen?\n",
    "3. Value of `__name__`--What is the value of `__name__` within the program when this happens?"
   ]
  },
  {
   "cell_type": "markdown",
   "id": "5da68065",
   "metadata": {
    "slideshow": {
     "slide_type": "subslide"
    }
   },
   "source": [
    "![Script vs. module](script-vs-module.png)"
   ]
  },
  {
   "cell_type": "markdown",
   "id": "f3bcc991",
   "metadata": {
    "slideshow": {
     "slide_type": "subslide"
    }
   },
   "source": [
    "`caesar_cipher.py`\n",
    "\n",
    "```python\n",
    "def encrypt(text, shift):\n",
    "    encrypted = ''\n",
    "    for character in text:\n",
    "        encrypted += chr(ord(character) + shift)\n",
    "    return encrypted\n",
    "\n",
    "def decrypt(text, shift):\n",
    "    return encrypt(text, -shift)\n",
    "\n",
    "# Print value of __name__\n",
    "print(f'__name__: {__name__}')\n",
    "# Test encrypt and decrypt\n",
    "print(encrypt('cheer', 7)) # No dot notation needed--why?\n",
    "print(decrypt('hal', -1))\n",
    "```"
   ]
  },
  {
   "cell_type": "markdown",
   "id": "c7d4ce39",
   "metadata": {
    "slideshow": {
     "slide_type": "subslide"
    }
   },
   "source": [
    "Running `caesar_cipher.py` as script in terminal:\n",
    "\n",
    "```text\n",
    "mariakimheinert@jupyter-cs-allegheny-edu:~$ python caesar_cipher.py \n",
    "__name__: __main__\n",
    "jolly\n",
    "ibm\n",
    "```"
   ]
  },
  {
   "cell_type": "markdown",
   "id": "117d8802",
   "metadata": {
    "slideshow": {
     "slide_type": "subslide"
    }
   },
   "source": [
    "Using `caesar_cipher.py` as module in `secret_message.py`:\n",
    "\n",
    "```python\n",
    "import caesar_cipher\n",
    "\n",
    "secret_message = 'Hevr0$}sy$ger$vieh$qi$rs{%'\n",
    "shift = 4\n",
    "\n",
    "print(caesar_cipher.decrypt(secret_message, shift))\n",
    "```"
   ]
  },
  {
   "cell_type": "markdown",
   "id": "2ec69d73",
   "metadata": {
    "slideshow": {
     "slide_type": "subslide"
    }
   },
   "source": [
    "Running `secret_message.py` as script in terminal:\n",
    "\n",
    "```text\n",
    "mariakimheinert@jupyter-cs-allegheny-edu:~$ python secret_message.py \n",
    "__name__: caesar_cipher\n",
    "jolly\n",
    "ibm\n",
    "Darn, you can read me now!\n",
    "```\n",
    "\n",
    "But... we only had one print statement in `secret_message.py`!"
   ]
  },
  {
   "cell_type": "markdown",
   "id": "11e72824",
   "metadata": {
    "slideshow": {
     "slide_type": "subslide"
    }
   },
   "source": [
    "`caesar_cipher.py`\n",
    "\n",
    "```python\n",
    "...\n",
    "\n",
    "# Print value of __name__\n",
    "print(f'__name__: {__name__}')\n",
    "# Test encrypt and decrypt\n",
    "print(encrypt('cheer', 7))\n",
    "print(decrypt('hal', -1))\n",
    "```"
   ]
  },
  {
   "cell_type": "markdown",
   "id": "e178a482",
   "metadata": {
    "slideshow": {
     "slide_type": "subslide"
    }
   },
   "source": [
    "What if we don't want to see\n",
    "\n",
    "```text\n",
    "__name__: caesar_cipher\n",
    "jolly\n",
    "ibm\n",
    "```\n",
    "\n",
    "when we use `caesar_cipher` as a module?"
   ]
  },
  {
   "cell_type": "markdown",
   "id": "46db93be",
   "metadata": {
    "slideshow": {
     "slide_type": "slide"
    }
   },
   "source": [
    "# How do you execute statements only when a module is run as a script (and *not* when it is used as a module)?"
   ]
  },
  {
   "cell_type": "markdown",
   "id": "87d72bf9",
   "metadata": {},
   "source": [
    "Think about the value of `__name__` within `caesar_cipher.py` when it is run as a script versus used as a module.\n",
    "\n",
    "What statement could you add to `caesae_cipher.py` to run the print statements only when `__name__` has a certain value?"
   ]
  },
  {
   "cell_type": "markdown",
   "id": "fd4d98e2",
   "metadata": {
    "slideshow": {
     "slide_type": "subslide"
    }
   },
   "source": [
    "`caesar_cipher.py`\n",
    "\n",
    "```python\n",
    "...\n",
    "\n",
    "if __name__ == '__main__':\n",
    "    # Print value of __name__\n",
    "    print(f'__name__: {__name__}')\n",
    "    # Test encrypt and decrypt\n",
    "    print(encrypt('cheer', 7))\n",
    "    print(decrypt('hal', -1))\n",
    "```"
   ]
  },
  {
   "cell_type": "markdown",
   "id": "d3038073",
   "metadata": {
    "slideshow": {
     "slide_type": "subslide"
    }
   },
   "source": [
    "Running `caesar_cipher.py` as script in terminal:\n",
    "\n",
    "```text\n",
    "mariakimheinert@jupyter-cs-allegheny-edu:~$ python caesar_cipher.py \n",
    "__name__: __main__\n",
    "jolly\n",
    "ibm\n",
    "```"
   ]
  },
  {
   "cell_type": "markdown",
   "id": "00c1da4e",
   "metadata": {
    "slideshow": {
     "slide_type": "subslide"
    }
   },
   "source": [
    "Using `caesar_cipher.py` as module in `secret_message.py`:\n",
    "\n",
    "```python\n",
    "import caesar_cipher\n",
    "\n",
    "secret_message = 'Hevr0$}sy$ger$vieh$qi$rs{%'\n",
    "shift = 4\n",
    "\n",
    "print(caesar_cipher.decrypt(secret_message, shift))\n",
    "```"
   ]
  },
  {
   "cell_type": "markdown",
   "id": "b0262c09",
   "metadata": {
    "slideshow": {
     "slide_type": "subslide"
    }
   },
   "source": [
    "Running `secret_message.py` as script in terminal:\n",
    "\n",
    "```text\n",
    "mariakimheinert@jupyter-cs-allegheny-edu:~$ python secret_message.py \n",
    "Darn, you can read me now!\n",
    "```"
   ]
  }
 ],
 "metadata": {
  "celltoolbar": "Slideshow",
  "kernelspec": {
   "display_name": "Python 3 (ipykernel)",
   "language": "python",
   "name": "python3"
  },
  "language_info": {
   "codemirror_mode": {
    "name": "ipython",
    "version": 3
   },
   "file_extension": ".py",
   "mimetype": "text/x-python",
   "name": "python",
   "nbconvert_exporter": "python",
   "pygments_lexer": "ipython3",
   "version": "3.9.7"
  },
  "rise": {
   "autolaunch": true,
   "enable_chalkboard": true
  }
 },
 "nbformat": 4,
 "nbformat_minor": 5
}
