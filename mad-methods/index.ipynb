{
 "cells": [
  {
   "cell_type": "markdown",
   "id": "c6976ab3",
   "metadata": {
    "slideshow": {
     "slide_type": "slide"
    }
   },
   "source": [
    "# Mad Methods"
   ]
  },
  {
   "cell_type": "markdown",
   "id": "b9bfa235",
   "metadata": {
    "slideshow": {
     "slide_type": "slide"
    }
   },
   "source": [
    "Recall...\n",
    "\n",
    "```python\n",
    "numbers = [1, 2, 3]\n",
    "person = {\n",
    "    'name': 'Bee',\n",
    "    'age': 22\n",
    "}\n",
    "color = 'blue'\n",
    "height = 50\n",
    "```"
   ]
  },
  {
   "cell_type": "markdown",
   "id": "5d5ccb44",
   "metadata": {
    "slideshow": {
     "slide_type": "subslide"
    }
   },
   "source": [
    "![Objects](objects.png)"
   ]
  },
  {
   "cell_type": "markdown",
   "id": "e593b8a8",
   "metadata": {
    "slideshow": {
     "slide_type": "-"
    }
   },
   "source": [
    "Objects contain:\n",
    "\n",
    "1. Value(s)\n",
    "2. Things we can do to (or with) the value(s)--**methods**\n",
    "\n",
    "Both of these depend on the object's type."
   ]
  },
  {
   "cell_type": "markdown",
   "id": "89d725d7",
   "metadata": {
    "slideshow": {
     "slide_type": "subslide"
    }
   },
   "source": [
    "![Objects](objects.png)"
   ]
  },
  {
   "cell_type": "code",
   "execution_count": null,
   "id": "a823ec62",
   "metadata": {},
   "outputs": [],
   "source": [
    "numbers = [1, 2, 3]\n",
    "print(f'Initial: {numbers}')\n",
    "numbers.append(4)\n",
    "print(f'.append(4): {numbers}')\n",
    "numbers.pop(0)\n",
    "print(f'.pop(0): {numbers}')\n",
    "numbers.remove(2)\n",
    "print(f'.remove(2): {numbers}')"
   ]
  },
  {
   "cell_type": "markdown",
   "id": "183cae04",
   "metadata": {
    "slideshow": {
     "slide_type": "slide"
    }
   },
   "source": [
    "Methods are a subset of functions.\n",
    "\n",
    "Methods:\n",
    "\n",
    "```python\n",
    "numbers = [1, 2, 3]\n",
    "person = {\n",
    "    'name': 'Bee',\n",
    "    'age': 22\n",
    "}\n",
    "color = 'blue'\n",
    "\n",
    "numbers.append(4)\n",
    "person.values()\n",
    "color.upper()\n",
    "```\n",
    "\n",
    "Functions:\n",
    "\n",
    "```python\n",
    "input('Enter a number: ')\n",
    "print('Hello, world!')\n",
    "type(2)\n",
    "```\n",
    "\n",
    "**What is one similarity and one difference between methods and functions?**"
   ]
  },
  {
   "cell_type": "markdown",
   "id": "ce793c0f",
   "metadata": {
    "slideshow": {
     "slide_type": "subslide"
    }
   },
   "source": [
    "## Key similarities\n",
    "\n",
    "- Called using parentheses\n",
    "- Do something when they are called\n",
    "- Can take inputs\n",
    "- Can give outputs\n",
    "\n",
    "## Key difference\n",
    "\n",
    "Methods *belong* to an object and are always called *on* an object using dot notation.\n",
    "\n",
    "`color.upper()`: The `upper` method is being called *on* `color`, which is a `str` object."
   ]
  },
  {
   "cell_type": "markdown",
   "id": "aab3023a",
   "metadata": {
    "slideshow": {
     "slide_type": "slide"
    }
   },
   "source": [
    "When we call methods *on* an object, the method does something *to* or *with* the value(s) of that object.\n",
    "\n",
    "- `numbers.append(4)`: Adds the item `4` to the `numbers` list\n",
    "- `person.values()`: Returns all values in the `person` dictionary\n",
    "- `color.upper()`: Returns the `color` string in all uppercase letters\n",
    "\n",
    "**Using the Internet, describe two other methods you can call on any object of type `str`. Write down the search query you used and the link to the resource you found.**"
   ]
  },
  {
   "cell_type": "markdown",
   "id": "b7c2d91d",
   "metadata": {
    "slideshow": {
     "slide_type": "slide"
    }
   },
   "source": [
    "## Review\n",
    "\n",
    "Last week, we discussed how to define our own type and how to add attributes (i.e. values) that every object of that type would have."
   ]
  },
  {
   "cell_type": "code",
   "execution_count": null,
   "id": "1d5d62a9",
   "metadata": {},
   "outputs": [],
   "source": [
    "class House:\n",
    "    \"\"\"Represent a house.\"\"\"\n",
    "    def __init__(self, bedrooms, bathrooms):\n",
    "        self.bedrooms = bedrooms\n",
    "        self.bathrooms = bathrooms\n",
    "\n",
    "home = House(3, 2)\n",
    "print(home.bedrooms)\n",
    "print(home.bathrooms)\n",
    "vacation_home = House(4, 1)\n",
    "print(vacation_home.bedrooms)\n",
    "print(vacation_home.bathrooms)"
   ]
  },
  {
   "cell_type": "markdown",
   "id": "a0ac7360",
   "metadata": {
    "slideshow": {
     "slide_type": "subslide"
    }
   },
   "source": [
    "![Houses](houses.png)"
   ]
  },
  {
   "cell_type": "markdown",
   "id": "de5a090b",
   "metadata": {},
   "source": [
    "**Can we access `home.color`? Why or why not?**"
   ]
  },
  {
   "cell_type": "markdown",
   "id": "bec22876",
   "metadata": {
    "slideshow": {
     "slide_type": "subslide"
    }
   },
   "source": [
    "Nope--we never assigned the `self.color` attribute in the constructor method."
   ]
  },
  {
   "cell_type": "markdown",
   "id": "dccab3db",
   "metadata": {},
   "source": [
    "**Update the `__init__` method such that all objects of type `House` will have the attribute `color`, whose value will be passed as an argument to the constructor. Then, create a `House` object named `home`, passing in all of the required arguments.**"
   ]
  },
  {
   "cell_type": "markdown",
   "id": "b09c5123",
   "metadata": {
    "slideshow": {
     "slide_type": "slide"
    }
   },
   "source": [
    "```python\n",
    "class House:\n",
    "    \"\"\"Represent a house.\"\"\"\n",
    "    def __init__(self, bedrooms, bathrooms, color):\n",
    "        self.bedrooms = bedrooms\n",
    "        self.bathrooms = bathrooms\n",
    "        self.color = color\n",
    "    \n",
    "home = House(3, 2, 'red')\n",
    "```"
   ]
  },
  {
   "cell_type": "markdown",
   "id": "0fef6b4a",
   "metadata": {
    "slideshow": {
     "slide_type": "slide"
    }
   },
   "source": [
    "In our class definitions, we can also add **methods** that do something *to* or *with* the values of the object.\n",
    "\n",
    "Values of `House` objects:\n",
    "\n",
    "- Bedrooms\n",
    "- Bathrooms\n",
    "- Color\n",
    "\n",
    "Things we could do to these values:\n",
    "\n",
    "- Increment number of bedrooms (\"add a bedroom\")\n",
    "- Increment number of bathrooms (\"add a bathroom\")\n",
    "- Change the color (\"paint\")\n",
    "\n",
    "Something we could do with these values:\n",
    "\n",
    "- Generate a description of the house\n",
    "\n",
    "Remember that values and methods of objects often reflect the real world!"
   ]
  },
  {
   "cell_type": "markdown",
   "id": "87e44687",
   "metadata": {
    "slideshow": {
     "slide_type": "slide"
    }
   },
   "source": [
    "We already know how to add methods!"
   ]
  },
  {
   "cell_type": "code",
   "execution_count": null,
   "id": "b0251836",
   "metadata": {},
   "outputs": [],
   "source": [
    "class House:\n",
    "    \"\"\"Represent a house.\"\"\"\n",
    "    def __init__(self, bedrooms, bathrooms, color):\n",
    "        self.bedrooms = bedrooms\n",
    "        self.bathrooms = bathrooms\n",
    "        self.color = color\n",
    "\n",
    "    def __str__(self):\n",
    "        return r\"\"\"\n",
    "       _\n",
    "     _|=|__________\n",
    "    /              \\\n",
    "   /                \\\n",
    "  /__________________\\\n",
    "   ||  || /--\\ ||  ||\n",
    "   ||[]|| | .| ||[]||\n",
    " ()||__||_|__|_||__||()\n",
    "( )|-|-|-|====|-|-|-|( ) \n",
    "^^^^^^^^^^====^^^^^^^^^^^\n",
    "        \"\"\"\n",
    "\n",
    "home = House(3, 2, 'red')\n",
    "print(home)"
   ]
  },
  {
   "cell_type": "markdown",
   "id": "6a9bbc81",
   "metadata": {
    "slideshow": {
     "slide_type": "slide"
    }
   },
   "source": [
    "**ELI5: What does the `__str__` method do?**"
   ]
  },
  {
   "cell_type": "markdown",
   "id": "2a441bf4",
   "metadata": {
    "slideshow": {
     "slide_type": "subslide"
    }
   },
   "source": [
    "`__str__` should return the *string representation* of an object.\n",
    "\n",
    "Whenever `House` objects are converted to a string (e.g. when passed into `print`), the string will be whatever is returned by `__str__`."
   ]
  },
  {
   "cell_type": "markdown",
   "id": "900d3c2d",
   "metadata": {
    "slideshow": {
     "slide_type": "slide"
    }
   },
   "source": [
    "```python\n",
    "class House:\n",
    "    \"\"\"Represent a house.\"\"\"\n",
    "    def __init__(self, bedrooms, bathrooms):\n",
    "        self.bedrooms = bedrooms\n",
    "        self.bathrooms = bathrooms\n",
    "\n",
    "home = House(3, 2)\n",
    "```\n",
    "\n",
    "To add a method to a class definition:\n",
    "\n",
    "1. Indent under the class definition header.\n",
    "2. Write the keyword `def`, then the name of the method, then parentheses that contain parameters--just like functions!\n",
    "3. Start parameters with the `self` parameter, which stores a reference to the current object (i.e. the object the method is called on), followed by other parameters.\n",
    "4. Use `self` to access attributes of the current object.\n",
    "\n",
    "We call methods we add like any other method--*on* an object using dot notation."
   ]
  },
  {
   "cell_type": "code",
   "execution_count": null,
   "id": "77bd3aef",
   "metadata": {
    "slideshow": {
     "slide_type": "subslide"
    }
   },
   "outputs": [],
   "source": [
    "class House:\n",
    "    \"\"\"Represent a house.\"\"\"\n",
    "    def __init__(self, bedrooms, bathrooms, color):\n",
    "        self.bedrooms = bedrooms\n",
    "        self.bathrooms = bathrooms\n",
    "        self.color = color\n",
    "    \n",
    "    def add_bedroom(self):\n",
    "        self.bedrooms += 1\n",
    "        \n",
    "home = House(3, 2, 'red')\n",
    "print(home.bedrooms)\n",
    "home.add_bedroom() # Dot notation\n",
    "print(home.bedrooms)"
   ]
  },
  {
   "cell_type": "markdown",
   "id": "2f4b291c",
   "metadata": {
    "slideshow": {
     "slide_type": "slide"
    }
   },
   "source": [
    "How do we add a method that takes an argument?\n",
    "\n",
    "```python\n",
    "home.paint('white')\n",
    "```\n",
    "\n",
    "**Add a `paint` method that takes a color as an argument and updates the `color` attribute of the current object.** "
   ]
  },
  {
   "cell_type": "code",
   "execution_count": null,
   "id": "1afab4c4",
   "metadata": {
    "slideshow": {
     "slide_type": "subslide"
    }
   },
   "outputs": [],
   "source": [
    "class House:\n",
    "    \"\"\"Represent a house.\"\"\"\n",
    "    def __init__(self, bedrooms, bathrooms, color):\n",
    "        self.bedrooms = bedrooms\n",
    "        self.bathrooms = bathrooms\n",
    "        self.color = color\n",
    "    \n",
    "    def add_bedroom(self):\n",
    "        self.bedrooms += 1\n",
    "\n",
    "    def paint(self, new_color):\n",
    "        self.color = new_color\n",
    "\n",
    "home = House(3, 2, 'red')\n",
    "print(home.color)\n",
    "home.paint('white')\n",
    "print(home.color)"
   ]
  },
  {
   "cell_type": "markdown",
   "id": "a32ec36f",
   "metadata": {
    "slideshow": {
     "slide_type": "slide"
    }
   },
   "source": [
    "## Advantages of object-oriented programming"
   ]
  },
  {
   "cell_type": "markdown",
   "id": "845ef53f",
   "metadata": {
    "slideshow": {
     "slide_type": "slide"
    }
   },
   "source": [
    "Not using `House` | Using `House`\n",
    ":- | :- \n",
    "![Without House](without-house.png) | ![With House](with-house.png)"
   ]
  },
  {
   "cell_type": "markdown",
   "id": "9e34ccb6",
   "metadata": {},
   "source": [
    "**What is one advantage of using a `House` type to represent houses in our program?**"
   ]
  },
  {
   "cell_type": "markdown",
   "id": "ebcdb443",
   "metadata": {
    "slideshow": {
     "slide_type": "slide"
    }
   },
   "source": [
    "## Advantages of using classes\n",
    "\n",
    "1. They organize and enforce relationships between values\n",
    "\n",
    "```python\n",
    "home_bedrooms = 3\n",
    "home_bathrooms = 2\n",
    "home_color = 'red'\n",
    "print(home_bedrooms)\n",
    "print(home_bathrooms)\n",
    "print(home_color)\n",
    "```\n",
    "\n",
    "v.s.\n",
    "\n",
    "```python\n",
    "home = House(3, 2, 'red')\n",
    "print(home.bedrooms)\n",
    "print(home.bathrooms)\n",
    "print(home.color)\n",
    "```"
   ]
  },
  {
   "cell_type": "markdown",
   "id": "654ec974",
   "metadata": {
    "slideshow": {
     "slide_type": "subslide"
    }
   },
   "source": [
    "2. Methods give descriptions to actions on values\n",
    "\n",
    "```python\n",
    "home_color = 'red'\n",
    "home_color = 'white' # What real world action does this reflect?\n",
    "```\n",
    "\n",
    "v.s.\n",
    "```python\n",
    "home = House(3, 2, 'red')\n",
    "home.paint('white') # Ah, we are \"painting\" the house\n",
    "```"
   ]
  },
  {
   "cell_type": "markdown",
   "id": "9026f121",
   "metadata": {
    "slideshow": {
     "slide_type": "subslide"
    }
   },
   "source": [
    "3. Methods allow us to repeat logic for every action\n",
    "\n",
    "```python\n",
    "new_home_color = 'white'\n",
    "if new_home_color in ['red', 'blue', 'white', 'green']:\n",
    "    home_color = new_home_color\n",
    "else:\n",
    "    raise Exception('Invalid color.')\n",
    "new_vacation_home_color = 'green'\n",
    "if new_vacation_home_color in ['red', 'blue', 'white', 'green']:\n",
    "    vacation_home_color = new_vacation_home_color\n",
    "else:\n",
    "    raise Exception('Invalid color.')\n",
    "```\n",
    "\n",
    "v.s.\n",
    "\n",
    "```python\n",
    "def paint(self, new_color):\n",
    "    if new_color in ['red', 'blue', 'white', 'green']:\n",
    "        self.color = new_color\n",
    "    else:\n",
    "        raise Exception('Invalid color.')\n",
    "home.paint('white')\n",
    "vacation_home.paint('green')\n",
    "```"
   ]
  },
  {
   "cell_type": "markdown",
   "id": "db6eb267",
   "metadata": {
    "slideshow": {
     "slide_type": "slide"
    }
   },
   "source": [
    "## Let's take our method skills to the next level..."
   ]
  },
  {
   "cell_type": "markdown",
   "id": "4c004caf",
   "metadata": {
    "slideshow": {
     "slide_type": "slide"
    }
   },
   "source": [
    "## Making method arguments optional"
   ]
  },
  {
   "cell_type": "code",
   "execution_count": null,
   "id": "0b19a07c",
   "metadata": {
    "slideshow": {
     "slide_type": "slide"
    }
   },
   "outputs": [],
   "source": [
    "class House:\n",
    "    def __init__(self, bedrooms):\n",
    "        self.bedrooms = bedrooms\n",
    "    \n",
    "    def add_bedroom(self):\n",
    "        self.bedrooms += 1\n",
    "\n",
    "home = House(3)\n",
    "home.add_bedroom()\n",
    "print(home.bedrooms)"
   ]
  },
  {
   "cell_type": "markdown",
   "id": "2dc4e91b",
   "metadata": {
    "slideshow": {
     "slide_type": "slide"
    }
   },
   "source": [
    "What if we want the ability to specify the number of bedrooms to add?"
   ]
  },
  {
   "cell_type": "code",
   "execution_count": null,
   "id": "e49e85d9",
   "metadata": {
    "slideshow": {
     "slide_type": "-"
    }
   },
   "outputs": [],
   "source": [
    "class House:\n",
    "    def __init__(self, bedrooms):\n",
    "        self.bedrooms = bedrooms\n",
    "    \n",
    "    def add_bedroom(self, bedrooms):\n",
    "        self.bedrooms += bedrooms\n",
    "\n",
    "home = House(3)\n",
    "home.add_bedroom(2)\n",
    "print(home.bedrooms)"
   ]
  },
  {
   "cell_type": "markdown",
   "id": "df483153",
   "metadata": {
    "slideshow": {
     "slide_type": "slide"
    }
   },
   "source": [
    "But... in real world renovations, we usually add one bedroom at a time."
   ]
  },
  {
   "cell_type": "code",
   "execution_count": null,
   "id": "bfe761db",
   "metadata": {},
   "outputs": [],
   "source": [
    "class House:\n",
    "    def __init__(self, bedrooms):\n",
    "        self.bedrooms = bedrooms\n",
    "    \n",
    "    def add_bedroom(self, bedrooms):\n",
    "        self.bedrooms += bedrooms\n",
    "\n",
    "home = House(3)\n",
    "home.add_bedroom(1)\n",
    "print(home.bedrooms)\n",
    "vacation_home = House(4)\n",
    "vacation_home.add_bedroom(1)\n",
    "vacation_home.add_bedroom(3) # Rare"
   ]
  },
  {
   "cell_type": "markdown",
   "id": "b0171cfd",
   "metadata": {},
   "source": [
    "Only in rare instances do we want the ability to specify the number of bedrooms to add."
   ]
  },
  {
   "cell_type": "markdown",
   "id": "35f25f9c",
   "metadata": {
    "slideshow": {
     "slide_type": "slide"
    }
   },
   "source": [
    "When writing methods/functions, the most common use case should be the path of least resistance (i.e. effort).\n",
    "\n",
    "```python\n",
    "home.add_bedroom(1) # Some effort\n",
    "home.add_bedroom() # Least effort\n",
    "```"
   ]
  },
  {
   "cell_type": "code",
   "execution_count": null,
   "id": "620e1980",
   "metadata": {
    "slideshow": {
     "slide_type": "subslide"
    }
   },
   "outputs": [],
   "source": [
    "class House:\n",
    "    def __init__(self, bedrooms):\n",
    "        self.bedrooms = bedrooms\n",
    "    \n",
    "    def add_bedroom(self, bedrooms):\n",
    "        self.bedrooms += bedrooms\n",
    "\n",
    "home = House(3)\n",
    "home.add_bedroom() # What's going to happen?"
   ]
  },
  {
   "cell_type": "markdown",
   "id": "2357272a",
   "metadata": {
    "slideshow": {
     "slide_type": "slide"
    }
   },
   "source": [
    "We want to be able to do two things:\n",
    "\n",
    "1. Pass in the number of bedrooms to add\n",
    "2. Pass in *nothing* to add just one bedroom\n",
    "\n",
    "```python\n",
    "def add_bedroom(self, bedrooms):\n",
    "    self.bedrooms += bedrooms\n",
    "```\n",
    "\n",
    "**1, but not 2**\n",
    "\n",
    "```python\n",
    "def add_bedroom(self):\n",
    "    self.bedrooms += 1\n",
    "```\n",
    "\n",
    "**2, but not 1**"
   ]
  },
  {
   "cell_type": "markdown",
   "id": "66dc0184",
   "metadata": {
    "slideshow": {
     "slide_type": "slide"
    }
   },
   "source": [
    "We can specify a **default value** for the `bedrooms` parameter.\n",
    "\n",
    "```python\n",
    "def add_bedroom(self, bedrooms=1):\n",
    "    self.bedrooms += bedrooms\n",
    "```\n",
    "1. When an argument is given, `bedrooms` is the value of the argument.\n",
    "2. When no argument is given, `bedrooms` defaults to the value `1`."
   ]
  },
  {
   "cell_type": "code",
   "execution_count": null,
   "id": "4606c3e4",
   "metadata": {
    "slideshow": {
     "slide_type": "subslide"
    }
   },
   "outputs": [],
   "source": [
    "class House:\n",
    "    def __init__(self, bedrooms):\n",
    "        self.bedrooms = bedrooms\n",
    "    \n",
    "    def add_bedroom(self, bedrooms=1):\n",
    "        self.bedrooms += bedrooms\n",
    "\n",
    "home = House(3)\n",
    "home.add_bedroom()\n",
    "print(home.bedrooms)\n",
    "home.add_bedroom(2)\n",
    "print(home.bedrooms)"
   ]
  },
  {
   "cell_type": "markdown",
   "id": "1328fca7",
   "metadata": {
    "slideshow": {
     "slide_type": "slide"
    }
   },
   "source": [
    "To generalize, we can specify a default value for a parameter by writing `=<DEFAULT-VALUE>` after the parameter:"
   ]
  },
  {
   "cell_type": "code",
   "execution_count": null,
   "id": "44d1567a",
   "metadata": {},
   "outputs": [],
   "source": [
    "def print_bullet_list(list, bullet='-'):\n",
    "    for item in list:\n",
    "        print(f'{bullet} {item}')\n",
    "\n",
    "elves = ['Snap', 'Crackle', 'Pop']\n",
    "print_bullet_list(elves, '*')\n",
    "print_bullet_list(elves)"
   ]
  },
  {
   "cell_type": "markdown",
   "id": "4d24d279",
   "metadata": {},
   "source": [
    "Parameters with default values become optional arguments: we're not required to pass in an argument for `bullet`."
   ]
  },
  {
   "cell_type": "markdown",
   "id": "ffe35847",
   "metadata": {
    "slideshow": {
     "slide_type": "slide"
    }
   },
   "source": [
    "**Can we write parameters with default values before parameters without default values?**\n",
    "\n",
    "```python\n",
    "def print_bullet_list(bullet='-', list):\n",
    "    for item in list:\n",
    "        print(f'{bullet} {item}')\n",
    "```\n",
    "\n",
    "**Why or why not?**"
   ]
  },
  {
   "cell_type": "code",
   "execution_count": null,
   "id": "e18477c3",
   "metadata": {
    "slideshow": {
     "slide_type": "subslide"
    }
   },
   "outputs": [],
   "source": [
    "def print_bullet_list(bullet='-', list):\n",
    "    for item in list:\n",
    "        print(f'{bullet} {item}')\n",
    "\n",
    "elves = ['Snap', 'Crackle', 'Pop']\n",
    "print_bullet_list(elves)\n",
    "print_bullet_list(elves, '*')"
   ]
  },
  {
   "cell_type": "markdown",
   "id": "c20a4842",
   "metadata": {},
   "source": [
    "Is `elves` supposed to be the `bullet` or `list`? Python has no way of knowing.\n",
    "\n",
    "All parameters with default values must come after those without.\n",
    "\n",
    "Otherwise, it would be impossible for Python to decide which argument maps to which parameter."
   ]
  },
  {
   "cell_type": "code",
   "execution_count": null,
   "id": "1cdaefa8",
   "metadata": {
    "slideshow": {
     "slide_type": "subslide"
    }
   },
   "outputs": [],
   "source": [
    "# Multiple parameters with default values\n",
    "def print_bullet_list(list, bullet='-', space_between=False):\n",
    "    for item in list:\n",
    "        print(f'{bullet} {item}')\n",
    "        if space_between:\n",
    "            print()\n",
    "print_bullet_list(elves, '*', True)"
   ]
  },
  {
   "cell_type": "markdown",
   "id": "4b43ba04",
   "metadata": {
    "slideshow": {
     "slide_type": "slide"
    }
   },
   "source": [
    "## Passing in method arguments by name"
   ]
  },
  {
   "cell_type": "markdown",
   "id": "d1be3d49",
   "metadata": {
    "slideshow": {
     "slide_type": "slide"
    }
   },
   "source": [
    "`player.py`\n",
    "```python\n",
    "class Player:\n",
    "    def __init__(self, name, initial_destination):\n",
    "        self.name = name\n",
    "        self.destination = initial_destination\n",
    "```\n",
    "\n",
    "`animal_crossing.py`\n",
    "```python\n",
    "island = Island()\n",
    "name = input('Enter your name: ')\n",
    "player = Player(name, initial_destination=island)\n",
    "```\n",
    "\n",
    "1. From your lab: **What does `initial_destination=island` do?**\n",
    "2. **Can we just write `player = Player(name, island)`?**"
   ]
  },
  {
   "cell_type": "markdown",
   "id": "238e6d29",
   "metadata": {
    "slideshow": {
     "slide_type": "subslide"
    }
   },
   "source": [
    "`initial_destination=island` is a **keyword argument**.\n",
    "\n",
    "Keyword arguments tell Python specifically what parameter an argument should map to.\n",
    "\n",
    "`initial_destination=island` = \"The `initial_destination` parameter of the method/function being called should be set to `island`.\"\n",
    "\n",
    "You don't *need* to use keyword arguments--but you often *want* to!"
   ]
  },
  {
   "cell_type": "markdown",
   "id": "8f871463",
   "metadata": {
    "slideshow": {
     "slide_type": "slide"
    }
   },
   "source": [
    "Compare:\n",
    "\n",
    "```python\n",
    "player = Player(name, island)\n",
    "```\n",
    "\n",
    "```python\n",
    "player = Player(name, initial_destination=island)\n",
    "```\n",
    "\n",
    "**What is the advantage of using a keyword argument for `initial_destination`?**"
   ]
  },
  {
   "cell_type": "markdown",
   "id": "420675a3",
   "metadata": {
    "slideshow": {
     "slide_type": "slide"
    }
   },
   "source": [
    "When to use keyword arguments:\n",
    "\n",
    "1. To clarify arguments\n",
    "\n",
    "```python\n",
    "player = Player(name, island)\n",
    "```\n",
    "\n",
    "- Island is player's property?\n",
    "- Island is player's hometown?\n",
    "- Island is player's favorite (default) destination?\n",
    "\n",
    "```python\n",
    "player = Player(name, initial_destination=island)\n",
    "```\n",
    "\n",
    "Ah, purpose of `island` is immediately clear!"
   ]
  },
  {
   "cell_type": "markdown",
   "id": "24d8ead9",
   "metadata": {
    "slideshow": {
     "slide_type": "subslide"
    }
   },
   "source": [
    "2. To distinguish between similar arguments"
   ]
  },
  {
   "cell_type": "code",
   "execution_count": null,
   "id": "883c6532",
   "metadata": {},
   "outputs": [],
   "source": [
    "def trapezoid_area(base_a, base_b, height):\n",
    "    return ((base_a + base_b) / 2) * height\n",
    "\n",
    "print(trapezoid_area(2, 4, 6))\n",
    "print(trapezoid_area(6, 2, 4)) # Easy mix up\n",
    "\n",
    "print(trapezoid_area(base_a=2, base_b=4, height=6))\n",
    "print(trapezoid_area(base_b=4, height=6, base_a=2)) # Order doesn't matter among keyword arguments"
   ]
  },
  {
   "cell_type": "markdown",
   "id": "7459ebd9",
   "metadata": {
    "slideshow": {
     "slide_type": "subslide"
    }
   },
   "source": [
    "3. To skip over other optional arguments"
   ]
  },
  {
   "cell_type": "code",
   "execution_count": null,
   "id": "d519645b",
   "metadata": {
    "scrolled": true
   },
   "outputs": [],
   "source": [
    "def print_bullet_list(list, bullet='-', space_between=False):\n",
    "    for item in list:\n",
    "        print(f'{bullet} {item}')\n",
    "        if space_between:\n",
    "            print()\n",
    "print_bullet_list(elves, '*', True)\n",
    "print_bullet_list(elves, True)"
   ]
  },
  {
   "cell_type": "markdown",
   "id": "1e9d5d43",
   "metadata": {},
   "source": [
    "**What's going to happen when `print_bullet_list(elves, True)` is run?**"
   ]
  },
  {
   "cell_type": "code",
   "execution_count": null,
   "id": "d82d796a",
   "metadata": {
    "slideshow": {
     "slide_type": "subslide"
    }
   },
   "outputs": [],
   "source": [
    "print_bullet_list(elves, space_between=True) # Skip over bullet parameter"
   ]
  },
  {
   "cell_type": "markdown",
   "id": "da88218d",
   "metadata": {
    "slideshow": {
     "slide_type": "slide"
    }
   },
   "source": [
    "Practical time!"
   ]
  }
 ],
 "metadata": {
  "celltoolbar": "Slideshow",
  "kernelspec": {
   "display_name": "Python 3 (ipykernel)",
   "language": "python",
   "name": "python3"
  },
  "language_info": {
   "codemirror_mode": {
    "name": "ipython",
    "version": 3
   },
   "file_extension": ".py",
   "mimetype": "text/x-python",
   "name": "python",
   "nbconvert_exporter": "python",
   "pygments_lexer": "ipython3",
   "version": "3.9.7"
  },
  "rise": {
   "autolaunch": true,
   "enable_chalkboard": true
  }
 },
 "nbformat": 4,
 "nbformat_minor": 5
}
