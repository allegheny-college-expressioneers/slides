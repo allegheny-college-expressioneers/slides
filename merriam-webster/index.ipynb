{
 "cells": [
  {
   "cell_type": "markdown",
   "id": "a16528c9",
   "metadata": {
    "slideshow": {
     "slide_type": "slide"
    }
   },
   "source": [
    "# Merriam-Webster (Dictionaries)\n",
    "\n",
    "Hit **Space** to move forward and **Shift + Space** to move backward"
   ]
  },
  {
   "cell_type": "markdown",
   "id": "de7f79c8",
   "metadata": {
    "slideshow": {
     "slide_type": "slide"
    }
   },
   "source": [
    "# What are dictionaries?"
   ]
  },
  {
   "cell_type": "markdown",
   "id": "1fdd067e",
   "metadata": {
    "slideshow": {
     "slide_type": "subslide"
    }
   },
   "source": [
    "A **dictionary** is a data structure, or collection of values."
   ]
  },
  {
   "cell_type": "markdown",
   "id": "202b73b9",
   "metadata": {
    "slideshow": {
     "slide_type": "subslide"
    }
   },
   "source": [
    "We've seen another type of data structure in the past before..."
   ]
  },
  {
   "cell_type": "markdown",
   "id": "8754e627",
   "metadata": {
    "slideshow": {
     "slide_type": "subslide"
    }
   },
   "source": [
    "Lists!"
   ]
  },
  {
   "cell_type": "code",
   "execution_count": 15,
   "id": "07a1c943",
   "metadata": {},
   "outputs": [
    {
     "name": "stdout",
     "output_type": "stream",
     "text": [
      "Name: George Merriam\n",
      "Birthday: January 20, 1803\n",
      "Birthplace: Worcester, Massachusetts\n"
     ]
    }
   ],
   "source": [
    "person = ['George Merriam', 'January 20, 1803', 'Worcester, Massachusetts']\n",
    "\n",
    "print(f'Name: {person[0]}')\n",
    "print(f'Birthday: {person[1]}')\n",
    "print(f'Birthplace: {person[2]}')"
   ]
  },
  {
   "cell_type": "code",
   "execution_count": 14,
   "id": "91d7627d",
   "metadata": {
    "scrolled": true,
    "slideshow": {
     "slide_type": "subslide"
    }
   },
   "outputs": [
    {
     "name": "stdout",
     "output_type": "stream",
     "text": [
      "Name: George Merriam\n",
      "Birthday: January 20, 1803\n",
      "Birthplace: Worcester, Massachusetts\n"
     ]
    }
   ],
   "source": [
    "person = ['George Merriam', 'January 20, 1803', 'Worcester, Massachusetts']\n",
    "\n",
    "print(f'Name: {person[0]}')\n",
    "print(f'Birthday: {person[1]}')\n",
    "print(f'Birthplace: {person[2]}')\n",
    "\n",
    "person.insert(0, 'publisher') # What would happen?"
   ]
  },
  {
   "cell_type": "markdown",
   "id": "d18eff3a",
   "metadata": {
    "slideshow": {
     "slide_type": "subslide"
    }
   },
   "source": [
    "When values are better organized by keys, rather than order (i.e. indices), use a dictionary.\n",
    "\n",
    "And when are values better organized by keys? When each value has a specific *meaning* within a collection of values."
   ]
  },
  {
   "cell_type": "code",
   "execution_count": null,
   "id": "baacef3a",
   "metadata": {
    "slideshow": {
     "slide_type": "subslide"
    }
   },
   "outputs": [],
   "source": [
    "person = {\n",
    "    'name': 'George Merriam',\n",
    "    'birthday': 'January 20, 1803',\n",
    "    'birthplace': 'Worcester, Massachusetts'\n",
    "}\n",
    "\n",
    "print(f'Name: {person['name']}')\n",
    "print(f'Birthday: {person['birthday']}')\n",
    "print(f'Birthplace: {person['birthplace']}')"
   ]
  },
  {
   "cell_type": "markdown",
   "id": "7b40e6a0",
   "metadata": {
    "slideshow": {
     "slide_type": "slide"
    }
   },
   "source": [
    "## While values in a list are indexed by integers, values in a dictionary are indexed by keys."
   ]
  },
  {
   "cell_type": "code",
   "execution_count": null,
   "id": "6e4cf40e",
   "metadata": {
    "slideshow": {
     "slide_type": "subslide"
    }
   },
   "outputs": [],
   "source": [
    "sea_creatures = ['shark', 'cuttlefish', 'squid']\n",
    "fruit = {\n",
    "    'type': 'banana',\n",
    "    'color': 'yellow',\n",
    "    'genus': 'Musa'\n",
    "}"
   ]
  },
  {
   "cell_type": "markdown",
   "id": "367b4a05",
   "metadata": {
    "slideshow": {
     "slide_type": "subslide"
    }
   },
   "source": [
    "![Lists vs. Dictionaries](lists_dictionaries.png)"
   ]
  },
  {
   "cell_type": "markdown",
   "id": "b928ae80",
   "metadata": {
    "slideshow": {
     "slide_type": "slide"
    }
   },
   "source": [
    "# What can dictionaries be used for?\n",
    "\n",
    "(So many things...)"
   ]
  },
  {
   "cell_type": "markdown",
   "id": "34d057b5",
   "metadata": {
    "slideshow": {
     "slide_type": "subslide"
    }
   },
   "source": [
    "Web applications"
   ]
  },
  {
   "cell_type": "code",
   "execution_count": null,
   "id": "cfe9055a",
   "metadata": {},
   "outputs": [],
   "source": [
    "user = {\n",
    "    'email': 'ykim@allegheny.edu',\n",
    "    'first_name': 'Maria',\n",
    "    'last_name': 'Heinert',\n",
    "    'age': 25\n",
    "}"
   ]
  },
  {
   "cell_type": "markdown",
   "id": "1f205aa8",
   "metadata": {
    "slideshow": {
     "slide_type": "subslide"
    }
   },
   "source": [
    "Text prediction"
   ]
  },
  {
   "cell_type": "code",
   "execution_count": null,
   "id": "cb440835",
   "metadata": {},
   "outputs": [],
   "source": [
    "after_i = {\n",
    "    'am': 34,\n",
    "    'like': 68,\n",
    "    'use': 20,\n",
    "    'think': 90\n",
    "}"
   ]
  },
  {
   "cell_type": "markdown",
   "id": "508b413e",
   "metadata": {
    "slideshow": {
     "slide_type": "slide"
    }
   },
   "source": [
    "# Creating dictionaries"
   ]
  },
  {
   "cell_type": "markdown",
   "id": "84cd1679",
   "metadata": {
    "slideshow": {
     "slide_type": "slide"
    }
   },
   "source": [
    "## Creating an empty dictionary\n",
    "\n",
    "Use `dict()`."
   ]
  },
  {
   "cell_type": "code",
   "execution_count": 17,
   "id": "1bd25bb8",
   "metadata": {},
   "outputs": [
    {
     "name": "stdout",
     "output_type": "stream",
     "text": [
      "<class 'dict'>\n"
     ]
    }
   ],
   "source": [
    "fruit = dict()\n",
    "print(type(fruit))"
   ]
  },
  {
   "cell_type": "markdown",
   "id": "8998de10",
   "metadata": {
    "slideshow": {
     "slide_type": "slide"
    }
   },
   "source": [
    "## Creating a dictionary with items\n",
    "\n",
    "Enclose **items**, or key-value pairs, in curly braces `{}`. A key and its value should be separated by a colon `:`."
   ]
  },
  {
   "cell_type": "code",
   "execution_count": null,
   "id": "54f0cb2b",
   "metadata": {},
   "outputs": [],
   "source": [
    "fruit = {\n",
    "    'name': 'banana',\n",
    "    'color': 'yellow',\n",
    "    'genus': 'Musa'\n",
    "}"
   ]
  },
  {
   "cell_type": "markdown",
   "id": "3d182d60",
   "metadata": {
    "slideshow": {
     "slide_type": "slide"
    }
   },
   "source": [
    "# Looking up a value by its key in a dictionary"
   ]
  },
  {
   "cell_type": "markdown",
   "id": "d16b3284",
   "metadata": {
    "slideshow": {
     "slide_type": "slide"
    }
   },
   "source": [
    "Use square brackets `[]`."
   ]
  },
  {
   "cell_type": "code",
   "execution_count": 19,
   "id": "333607bb",
   "metadata": {},
   "outputs": [
    {
     "name": "stdout",
     "output_type": "stream",
     "text": [
      "banana\n",
      "yellow\n",
      "Musa\n"
     ]
    }
   ],
   "source": [
    "fruit = {\n",
    "    'name': 'banana',\n",
    "    'color': 'yellow',\n",
    "    'genus': 'Musa'\n",
    "}\n",
    "print(fruit['name'])\n",
    "print(fruit['color'])\n",
    "print(fruit['genus'])"
   ]
  },
  {
   "cell_type": "markdown",
   "id": "f10f1e90",
   "metadata": {
    "slideshow": {
     "slide_type": "slide"
    }
   },
   "source": [
    "## What if the key is not in the dictionary?"
   ]
  },
  {
   "cell_type": "code",
   "execution_count": 20,
   "id": "cb22f8a6",
   "metadata": {},
   "outputs": [
    {
     "ename": "KeyError",
     "evalue": "'price'",
     "output_type": "error",
     "traceback": [
      "\u001b[0;31m---------------------------------------------------------------------------\u001b[0m",
      "\u001b[0;31mKeyError\u001b[0m                                  Traceback (most recent call last)",
      "\u001b[0;32m/var/folders/bj/bw1mwdzj6vsbs4zf676n7rw80000gq/T/ipykernel_29636/3279043574.py\u001b[0m in \u001b[0;36m<module>\u001b[0;34m\u001b[0m\n\u001b[1;32m      4\u001b[0m     \u001b[0;34m'genus'\u001b[0m\u001b[0;34m:\u001b[0m \u001b[0;34m'Musa'\u001b[0m\u001b[0;34m,\u001b[0m\u001b[0;34m\u001b[0m\u001b[0;34m\u001b[0m\u001b[0m\n\u001b[1;32m      5\u001b[0m }\n\u001b[0;32m----> 6\u001b[0;31m \u001b[0mprint\u001b[0m\u001b[0;34m(\u001b[0m\u001b[0mfruit\u001b[0m\u001b[0;34m[\u001b[0m\u001b[0;34m'price'\u001b[0m\u001b[0;34m]\u001b[0m\u001b[0;34m)\u001b[0m\u001b[0;34m\u001b[0m\u001b[0;34m\u001b[0m\u001b[0m\n\u001b[0m",
      "\u001b[0;31mKeyError\u001b[0m: 'price'"
     ]
    }
   ],
   "source": [
    "fruit = {\n",
    "    'name': 'banana',\n",
    "    'color': 'yellow',\n",
    "    'genus': 'Musa'\n",
    "}\n",
    "print(fruit['price'])"
   ]
  },
  {
   "cell_type": "markdown",
   "id": "b0df205a",
   "metadata": {
    "slideshow": {
     "slide_type": "slide"
    }
   },
   "source": [
    "# Getting the number of items in a dictionary"
   ]
  },
  {
   "cell_type": "markdown",
   "id": "8ea13dec",
   "metadata": {},
   "source": [
    "Use the `len` function!"
   ]
  },
  {
   "cell_type": "code",
   "execution_count": 21,
   "id": "8292a9b0",
   "metadata": {},
   "outputs": [
    {
     "name": "stdout",
     "output_type": "stream",
     "text": [
      "3\n"
     ]
    }
   ],
   "source": [
    "fruit = {\n",
    "    'name': 'banana',\n",
    "    'color': 'yellow',\n",
    "    'genus': 'Musa'\n",
    "}\n",
    "print(len(fruit)) # Why not 6?"
   ]
  },
  {
   "cell_type": "markdown",
   "id": "446b8437",
   "metadata": {
    "slideshow": {
     "slide_type": "slide"
    }
   },
   "source": [
    "# Checking if a key is in a dictionary"
   ]
  },
  {
   "cell_type": "markdown",
   "id": "9f13404b",
   "metadata": {
    "slideshow": {
     "slide_type": "subslide"
    }
   },
   "source": [
    "Use the `in` operator."
   ]
  },
  {
   "cell_type": "code",
   "execution_count": 23,
   "id": "9d5e9ae3",
   "metadata": {},
   "outputs": [
    {
     "name": "stdout",
     "output_type": "stream",
     "text": [
      "True\n",
      "False\n"
     ]
    }
   ],
   "source": [
    "fruit = {\n",
    "    'name': 'banana',\n",
    "    'color': 'yellow',\n",
    "    'genus': 'Musa'\n",
    "}\n",
    "print('name' in fruit)\n",
    "print('price' in fruit)"
   ]
  },
  {
   "cell_type": "markdown",
   "id": "b01331ad",
   "metadata": {
    "slideshow": {
     "slide_type": "slide"
    }
   },
   "source": [
    "# Checking if a value is in a dictionary"
   ]
  },
  {
   "cell_type": "markdown",
   "id": "1048d9ba",
   "metadata": {},
   "source": [
    "Get the values using the `values` method and then use the `in` operator."
   ]
  },
  {
   "cell_type": "code",
   "execution_count": 24,
   "id": "2f2fe3b8",
   "metadata": {},
   "outputs": [
    {
     "name": "stdout",
     "output_type": "stream",
     "text": [
      "True\n",
      "False\n"
     ]
    }
   ],
   "source": [
    "fruit = {\n",
    "    'name': 'banana',\n",
    "    'color': 'yellow',\n",
    "    'genus': 'Musa'\n",
    "}\n",
    "print('banana' in fruit.values())\n",
    "print('genus' in fruit.values())"
   ]
  },
  {
   "cell_type": "markdown",
   "id": "f2417cb0",
   "metadata": {
    "slideshow": {
     "slide_type": "slide"
    }
   },
   "source": [
    "# Using a dictionary as a collection of counters"
   ]
  },
  {
   "cell_type": "markdown",
   "id": "e1ae5c39",
   "metadata": {
    "slideshow": {
     "slide_type": "slide"
    }
   },
   "source": [
    "Let's create a program that will help us visualize height distribution..."
   ]
  },
  {
   "cell_type": "code",
   "execution_count": 37,
   "id": "e0238f3a",
   "metadata": {
    "slideshow": {
     "slide_type": "subslide"
    }
   },
   "outputs": [
    {
     "name": "stdout",
     "output_type": "stream",
     "text": [
      "{12: 2}\n"
     ]
    }
   ],
   "source": [
    "heights = [12, 12]\n",
    "\n",
    "def histogram(data):\n",
    "    counts = dict()\n",
    "    for item in data:\n",
    "        if item not in counts:\n",
    "            counts[item] = 1\n",
    "        else:\n",
    "            counts[item] += 1\n",
    "    return counts\n",
    "\n",
    "print(histogram(heights))"
   ]
  },
  {
   "cell_type": "markdown",
   "id": "42f60c49",
   "metadata": {
    "slideshow": {
     "slide_type": "slide"
    }
   },
   "source": [
    "The dictionary's `get` method takes a key and a default value. If the key exists, `get` returns the corresponding value. Otherwise, it returns the default value.\n",
    "\n",
    "How can we use the `get` method to simplify `histogram`?"
   ]
  },
  {
   "cell_type": "code",
   "execution_count": 40,
   "id": "813ea566",
   "metadata": {
    "slideshow": {
     "slide_type": "subslide"
    }
   },
   "outputs": [
    {
     "name": "stdout",
     "output_type": "stream",
     "text": [
      "{23: 1, 54: 1}\n"
     ]
    }
   ],
   "source": [
    "heights = []\n",
    "\n",
    "# TODO: Simplify histogram\n",
    "def histogram(data):\n",
    "    counts = dict()\n",
    "    for item in data:\n",
    "        if item not in counts:\n",
    "            counts[item] = 1\n",
    "        else:\n",
    "            counts[item] += 1\n",
    "    return counts\n",
    "\n",
    "print(histogram(heights))"
   ]
  },
  {
   "cell_type": "markdown",
   "id": "d198f2d1",
   "metadata": {
    "slideshow": {
     "slide_type": "slide"
    }
   },
   "source": [
    "Let's see the histogram in action..."
   ]
  },
  {
   "cell_type": "code",
   "execution_count": 44,
   "id": "ab5ed998",
   "metadata": {
    "slideshow": {
     "slide_type": "subslide"
    }
   },
   "outputs": [
    {
     "name": "stdout",
     "output_type": "stream",
     "text": [
      "12 ****\n",
      "23 **\n",
      "45 *\n"
     ]
    }
   ],
   "source": [
    "heights = [12, 12, 12, 12, 45, 23, 23]\n",
    "\n",
    "def histogram(data):\n",
    "    counts = dict()\n",
    "    for item in data:\n",
    "        counts[item] = counts.get(item, 0) + 1\n",
    "    return counts\n",
    "\n",
    "distribution = histogram(heights)\n",
    "for height in sorted(distribution):\n",
    "    stars = '*' * distribution[height]\n",
    "    print(f'{height} {stars}')"
   ]
  },
  {
   "cell_type": "markdown",
   "id": "565f950c",
   "metadata": {},
   "source": [
    "# Office Hours\n",
    "\n",
    "**M** 11:30 AM - 12:30 PM; 2:00 - 4:00 PM\n",
    "\n",
    "**Tu** 10:00 AM - 1:00 PM\n",
    "\n",
    "**W** 11:30 AM - 12:30 PM\n",
    "\n",
    "**F** 11:30 AM - 12:30 PM; 3:00 - 4:00 PM"
   ]
  }
 ],
 "metadata": {
  "celltoolbar": "Slideshow",
  "kernelspec": {
   "display_name": "Python 3 (ipykernel)",
   "language": "python",
   "name": "python3"
  },
  "language_info": {
   "codemirror_mode": {
    "name": "ipython",
    "version": 3
   },
   "file_extension": ".py",
   "mimetype": "text/x-python",
   "name": "python",
   "nbconvert_exporter": "python",
   "pygments_lexer": "ipython3",
   "version": "3.9.7"
  }
 },
 "nbformat": 4,
 "nbformat_minor": 5
}
