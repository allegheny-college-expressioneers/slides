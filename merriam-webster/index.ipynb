{
 "cells": [
  {
   "cell_type": "markdown",
   "id": "2281084a",
   "metadata": {
    "slideshow": {
     "slide_type": "slide"
    }
   },
   "source": [
    "# Merriam-Webster (Dictionaries)\n",
    "\n",
    "Hit **Space** to move forward and **Shift + Space** to move backward"
   ]
  },
  {
   "cell_type": "markdown",
   "id": "0cb4903c",
   "metadata": {
    "slideshow": {
     "slide_type": "slide"
    }
   },
   "source": [
    "# What are dictionaries?"
   ]
  },
  {
   "cell_type": "markdown",
   "id": "bee17c1e",
   "metadata": {
    "slideshow": {
     "slide_type": "subslide"
    }
   },
   "source": [
    "A **dictionary** is a data structure, or collection of values."
   ]
  },
  {
   "cell_type": "markdown",
   "id": "c78a2444",
   "metadata": {
    "slideshow": {
     "slide_type": "subslide"
    }
   },
   "source": [
    "We've seen another type of data structure in the past before..."
   ]
  },
  {
   "cell_type": "markdown",
   "id": "ccb592bc",
   "metadata": {
    "slideshow": {
     "slide_type": "subslide"
    }
   },
   "source": [
    "Lists!"
   ]
  },
  {
   "cell_type": "code",
   "execution_count": 1,
   "id": "599ffd35",
   "metadata": {},
   "outputs": [
    {
     "name": "stdout",
     "output_type": "stream",
     "text": [
      "Name: George Merriam\n",
      "Birthday: January 20, 1803\n",
      "Birthplace: Worcester, Massachusetts\n"
     ]
    }
   ],
   "source": [
    "person = ['George Merriam',\n",
    "    'January 20, 1803',\n",
    "    'Worcester, Massachusetts'\n",
    "]\n",
    "\n",
    "print(f'Name: {person[0]}')\n",
    "print(f'Birthday: {person[1]}')\n",
    "print(f'Birthplace: {person[2]}')"
   ]
  },
  {
   "cell_type": "code",
   "execution_count": 2,
   "id": "265f7736",
   "metadata": {
    "scrolled": true,
    "slideshow": {
     "slide_type": "subslide"
    }
   },
   "outputs": [
    {
     "name": "stdout",
     "output_type": "stream",
     "text": [
      "Name: George Merriam\n",
      "Birthday: January 20, 1803\n",
      "Birthplace: Worcester, Massachusetts\n"
     ]
    }
   ],
   "source": [
    "person = ['George Merriam',\n",
    "    'January 20, 1803',\n",
    "    'Worcester, Massachusetts'\n",
    "]\n",
    "\n",
    "print(f'Name: {person[0]}')\n",
    "print(f'Birthday: {person[1]}')\n",
    "print(f'Birthplace: {person[2]}')\n",
    "\n",
    "person.insert(0, 'publisher') # What would happen?"
   ]
  },
  {
   "cell_type": "markdown",
   "id": "352c0467",
   "metadata": {
    "slideshow": {
     "slide_type": "subslide"
    }
   },
   "source": [
    "When values are better organized by keys, rather than order (i.e. indices), use a dictionary.\n",
    "\n",
    "And when are values better organized by keys? When each value has a specific *meaning* within a collection of values."
   ]
  },
  {
   "cell_type": "code",
   "execution_count": 3,
   "id": "7f780d6b",
   "metadata": {
    "slideshow": {
     "slide_type": "subslide"
    }
   },
   "outputs": [
    {
     "name": "stdout",
     "output_type": "stream",
     "text": [
      "Name: George Merriam\n",
      "Birthday: January 20, 1803\n",
      "Birthplace: Worcester, Massachusetts\n"
     ]
    }
   ],
   "source": [
    "person = {\n",
    "    'name': 'George Merriam',\n",
    "    'birthday': 'January 20, 1803',\n",
    "    'birthplace': 'Worcester, Massachusetts'\n",
    "}\n",
    "\n",
    "print(f'Name: {person[\"name\"]}')\n",
    "print(f'Birthday: {person[\"birthday\"]}')\n",
    "print(f'Birthplace: {person[\"birthplace\"]}')"
   ]
  },
  {
   "cell_type": "markdown",
   "id": "5e050869",
   "metadata": {
    "slideshow": {
     "slide_type": "slide"
    }
   },
   "source": [
    "## While values in a list are indexed by integers, values in a dictionary are indexed by keys."
   ]
  },
  {
   "cell_type": "code",
   "execution_count": 4,
   "id": "94801861",
   "metadata": {
    "slideshow": {
     "slide_type": "subslide"
    }
   },
   "outputs": [],
   "source": [
    "sea_creatures = ['shark', 'cuttlefish', 'squid']\n",
    "fruit = {\n",
    "    'type': 'banana',\n",
    "    'color': 'yellow',\n",
    "    'genus': 'Musa'\n",
    "}"
   ]
  },
  {
   "cell_type": "markdown",
   "id": "9ae25900",
   "metadata": {
    "slideshow": {
     "slide_type": "subslide"
    }
   },
   "source": [
    "![Lists vs. dictionaries](lists-dictionaries.png)"
   ]
  },
  {
   "cell_type": "markdown",
   "id": "a55196b7",
   "metadata": {
    "slideshow": {
     "slide_type": "slide"
    }
   },
   "source": [
    "# What can dictionaries be used for?\n",
    "\n",
    "(So many things...)"
   ]
  },
  {
   "cell_type": "markdown",
   "id": "8b5a834d",
   "metadata": {
    "slideshow": {
     "slide_type": "subslide"
    }
   },
   "source": [
    "Web applications"
   ]
  },
  {
   "cell_type": "code",
   "execution_count": 5,
   "id": "11dfc49f",
   "metadata": {},
   "outputs": [],
   "source": [
    "user = {\n",
    "    'email': 'ykim@allegheny.edu',\n",
    "    'first_name': 'Maria',\n",
    "    'last_name': 'Heinert',\n",
    "    'age': 25\n",
    "}"
   ]
  },
  {
   "cell_type": "markdown",
   "id": "318af419",
   "metadata": {
    "slideshow": {
     "slide_type": "subslide"
    }
   },
   "source": [
    "Text prediction"
   ]
  },
  {
   "cell_type": "code",
   "execution_count": 6,
   "id": "dfe532ec",
   "metadata": {},
   "outputs": [],
   "source": [
    "after_i = {\n",
    "    'am': 34,\n",
    "    'like': 68,\n",
    "    'use': 20,\n",
    "    'think': 90\n",
    "}"
   ]
  },
  {
   "cell_type": "markdown",
   "id": "8a611e79",
   "metadata": {
    "slideshow": {
     "slide_type": "slide"
    }
   },
   "source": [
    "# Creating dictionaries"
   ]
  },
  {
   "cell_type": "markdown",
   "id": "531a2627",
   "metadata": {
    "slideshow": {
     "slide_type": "slide"
    }
   },
   "source": [
    "## Creating an empty dictionary\n",
    "\n",
    "Use `dict()`."
   ]
  },
  {
   "cell_type": "code",
   "execution_count": 7,
   "id": "01d4c69f",
   "metadata": {},
   "outputs": [
    {
     "name": "stdout",
     "output_type": "stream",
     "text": [
      "<class 'dict'>\n"
     ]
    }
   ],
   "source": [
    "fruit = dict()\n",
    "print(type(fruit))"
   ]
  },
  {
   "cell_type": "markdown",
   "id": "49ec7eea",
   "metadata": {
    "slideshow": {
     "slide_type": "slide"
    }
   },
   "source": [
    "## Creating a dictionary with items\n",
    "\n",
    "Enclose **items**, or key-value pairs, in curly braces `{}`. A key and its value should be separated by a colon `:`."
   ]
  },
  {
   "cell_type": "code",
   "execution_count": 8,
   "id": "d7231101",
   "metadata": {},
   "outputs": [],
   "source": [
    "fruit = {\n",
    "    'name': 'banana',\n",
    "    'color': 'yellow',\n",
    "    'genus': 'Musa'\n",
    "}"
   ]
  },
  {
   "cell_type": "markdown",
   "id": "c369bbc3",
   "metadata": {
    "slideshow": {
     "slide_type": "slide"
    }
   },
   "source": [
    "# Are dictionaries ordered?"
   ]
  },
  {
   "cell_type": "code",
   "execution_count": 9,
   "id": "ada1c9bf",
   "metadata": {
    "slideshow": {
     "slide_type": "subslide"
    }
   },
   "outputs": [
    {
     "name": "stdout",
     "output_type": "stream",
     "text": [
      "{'name': 'banana', 'color': 'yellow', 'genus': 'Musa'}\n",
      "{'name': 'banana', 'color': 'yellow', 'genus': 'Musa'}\n",
      "{'name': 'banana', 'color': 'yellow', 'genus': 'Musa'}\n"
     ]
    }
   ],
   "source": [
    "fruit = {\n",
    "    'name': 'banana',\n",
    "    'color': 'yellow',\n",
    "    'genus': 'Musa'\n",
    "}\n",
    "print(fruit)\n",
    "print(fruit)\n",
    "print(fruit)"
   ]
  },
  {
   "cell_type": "markdown",
   "id": "b0ece7a8",
   "metadata": {
    "slideshow": {
     "slide_type": "subslide"
    }
   },
   "source": [
    "Think Python 2e: **2015**\n",
    "\n",
    "Python v.3.7: **2018**\n",
    "\n",
    "Software is always changing!"
   ]
  },
  {
   "cell_type": "markdown",
   "id": "f3793f1c",
   "metadata": {
    "slideshow": {
     "slide_type": "slide"
    }
   },
   "source": [
    "# Looking up a value by its key in a dictionary"
   ]
  },
  {
   "cell_type": "markdown",
   "id": "8d38ded3",
   "metadata": {
    "slideshow": {
     "slide_type": "slide"
    }
   },
   "source": [
    "Use square brackets `[]`."
   ]
  },
  {
   "cell_type": "code",
   "execution_count": 10,
   "id": "137504b6",
   "metadata": {},
   "outputs": [
    {
     "name": "stdout",
     "output_type": "stream",
     "text": [
      "banana\n",
      "yellow\n",
      "Musa\n"
     ]
    }
   ],
   "source": [
    "fruit = {\n",
    "    'name': 'banana',\n",
    "    'color': 'yellow',\n",
    "    'genus': 'Musa'\n",
    "}\n",
    "print(fruit['name'])\n",
    "print(fruit['color'])\n",
    "print(fruit['genus'])"
   ]
  },
  {
   "cell_type": "markdown",
   "id": "5460ed09",
   "metadata": {
    "slideshow": {
     "slide_type": "slide"
    }
   },
   "source": [
    "## What if the key is not in the dictionary?"
   ]
  },
  {
   "cell_type": "code",
   "execution_count": 11,
   "id": "4e1f298c",
   "metadata": {},
   "outputs": [
    {
     "ename": "KeyError",
     "evalue": "'price'",
     "output_type": "error",
     "traceback": [
      "\u001b[0;31m---------------------------------------------------------------------------\u001b[0m",
      "\u001b[0;31mKeyError\u001b[0m                                  Traceback (most recent call last)",
      "\u001b[0;32m/var/folders/bj/bw1mwdzj6vsbs4zf676n7rw80000gq/T/ipykernel_73978/3782377772.py\u001b[0m in \u001b[0;36m<module>\u001b[0;34m\u001b[0m\n\u001b[1;32m      4\u001b[0m     \u001b[0;34m'genus'\u001b[0m\u001b[0;34m:\u001b[0m \u001b[0;34m'Musa'\u001b[0m\u001b[0;34m\u001b[0m\u001b[0;34m\u001b[0m\u001b[0m\n\u001b[1;32m      5\u001b[0m }\n\u001b[0;32m----> 6\u001b[0;31m \u001b[0mprint\u001b[0m\u001b[0;34m(\u001b[0m\u001b[0mfruit\u001b[0m\u001b[0;34m[\u001b[0m\u001b[0;34m'price'\u001b[0m\u001b[0;34m]\u001b[0m\u001b[0;34m)\u001b[0m\u001b[0;34m\u001b[0m\u001b[0;34m\u001b[0m\u001b[0m\n\u001b[0m",
      "\u001b[0;31mKeyError\u001b[0m: 'price'"
     ]
    }
   ],
   "source": [
    "fruit = {\n",
    "    'name': 'banana',\n",
    "    'color': 'yellow',\n",
    "    'genus': 'Musa'\n",
    "}\n",
    "print(fruit['price'])"
   ]
  },
  {
   "cell_type": "markdown",
   "id": "a435f65a",
   "metadata": {
    "slideshow": {
     "slide_type": "slide"
    }
   },
   "source": [
    "# Getting the number of items in a dictionary"
   ]
  },
  {
   "cell_type": "markdown",
   "id": "7521ce50",
   "metadata": {},
   "source": [
    "Use the `len` function!"
   ]
  },
  {
   "cell_type": "code",
   "execution_count": 12,
   "id": "8d5a8ec1",
   "metadata": {},
   "outputs": [
    {
     "name": "stdout",
     "output_type": "stream",
     "text": [
      "3\n"
     ]
    }
   ],
   "source": [
    "fruit = {\n",
    "    'name': 'banana',\n",
    "    'color': 'yellow',\n",
    "    'genus': 'Musa'\n",
    "}\n",
    "print(len(fruit)) # Why not 6?"
   ]
  },
  {
   "cell_type": "markdown",
   "id": "bba87547",
   "metadata": {
    "slideshow": {
     "slide_type": "slide"
    }
   },
   "source": [
    "# Checking if a key is in a dictionary"
   ]
  },
  {
   "cell_type": "markdown",
   "id": "66237422",
   "metadata": {
    "slideshow": {
     "slide_type": "subslide"
    }
   },
   "source": [
    "Use the `in` operator."
   ]
  },
  {
   "cell_type": "code",
   "execution_count": 13,
   "id": "1b2dbeb5",
   "metadata": {},
   "outputs": [
    {
     "name": "stdout",
     "output_type": "stream",
     "text": [
      "True\n",
      "False\n"
     ]
    }
   ],
   "source": [
    "fruit = {\n",
    "    'name': 'banana',\n",
    "    'color': 'yellow',\n",
    "    'genus': 'Musa'\n",
    "}\n",
    "print('name' in fruit)\n",
    "print('price' in fruit)"
   ]
  },
  {
   "cell_type": "markdown",
   "id": "dba13b5b",
   "metadata": {
    "slideshow": {
     "slide_type": "slide"
    }
   },
   "source": [
    "# Checking if a value is in a dictionary"
   ]
  },
  {
   "cell_type": "markdown",
   "id": "55fb2fca",
   "metadata": {},
   "source": [
    "Get the values using the `values` method and then use the `in` operator."
   ]
  },
  {
   "cell_type": "code",
   "execution_count": 14,
   "id": "afd66632",
   "metadata": {},
   "outputs": [
    {
     "name": "stdout",
     "output_type": "stream",
     "text": [
      "True\n",
      "False\n"
     ]
    }
   ],
   "source": [
    "fruit = {\n",
    "    'name': 'banana',\n",
    "    'color': 'yellow',\n",
    "    'genus': 'Musa'\n",
    "}\n",
    "print('banana' in fruit.values())\n",
    "print('genus' in fruit.values())"
   ]
  },
  {
   "cell_type": "markdown",
   "id": "653b4bc9",
   "metadata": {
    "slideshow": {
     "slide_type": "slide"
    }
   },
   "source": [
    "# Quick review"
   ]
  },
  {
   "cell_type": "markdown",
   "id": "6da148c2",
   "metadata": {
    "slideshow": {
     "slide_type": "subslide"
    }
   },
   "source": [
    "A dictionary is a data structure whose values are indexed by keys, rather than by integers."
   ]
  },
  {
   "cell_type": "code",
   "execution_count": 15,
   "id": "afe9d973",
   "metadata": {},
   "outputs": [],
   "source": [
    "fruits = ['apple', 'banana', 'pineapple']\n",
    "fruit = {\n",
    "    'name': 'banana',\n",
    "    'color': 'yellow',\n",
    "    'genus': 'Musa'\n",
    "}"
   ]
  },
  {
   "cell_type": "markdown",
   "id": "81209b06",
   "metadata": {
    "slideshow": {
     "slide_type": "subslide"
    }
   },
   "source": [
    "Create an empty dictionary with `dict()`."
   ]
  },
  {
   "cell_type": "code",
   "execution_count": 16,
   "id": "5f5baa2a",
   "metadata": {},
   "outputs": [
    {
     "name": "stdout",
     "output_type": "stream",
     "text": [
      "{}\n"
     ]
    }
   ],
   "source": [
    "empty = dict()\n",
    "print(empty)"
   ]
  },
  {
   "cell_type": "markdown",
   "id": "3ff2d927",
   "metadata": {
    "slideshow": {
     "slide_type": "subslide"
    }
   },
   "source": [
    "Create a dictionary with items using curly braces `{}`.\n",
    "\n",
    "Each key should be separated from its value by a colon `:`."
   ]
  },
  {
   "cell_type": "code",
   "execution_count": 17,
   "id": "0d78070b",
   "metadata": {},
   "outputs": [],
   "source": [
    "user = {\n",
    "    'email': 'ykim@allegheny.edu',\n",
    "    'first_name': 'Maria',\n",
    "    'last_name': 'Heinert',\n",
    "    'age': 25\n",
    "}"
   ]
  },
  {
   "cell_type": "markdown",
   "id": "36224b1e",
   "metadata": {
    "slideshow": {
     "slide_type": "subslide"
    }
   },
   "source": [
    "Look up a value by key using square brackets `[]`."
   ]
  },
  {
   "cell_type": "code",
   "execution_count": 18,
   "id": "3fae7c78",
   "metadata": {},
   "outputs": [
    {
     "name": "stdout",
     "output_type": "stream",
     "text": [
      "yellow\n"
     ]
    }
   ],
   "source": [
    "fruit = {\n",
    "    'name': 'banana',\n",
    "    'color': 'yellow',\n",
    "    'genus': 'Musa'\n",
    "}\n",
    "print(fruit['color'])"
   ]
  },
  {
   "cell_type": "markdown",
   "id": "606bf299",
   "metadata": {
    "slideshow": {
     "slide_type": "slide"
    }
   },
   "source": [
    "# Adding items to a dictionary"
   ]
  },
  {
   "cell_type": "markdown",
   "id": "047c2e7b",
   "metadata": {
    "slideshow": {
     "slide_type": "subslide"
    }
   },
   "source": [
    "Use square brackets `[]`."
   ]
  },
  {
   "cell_type": "code",
   "execution_count": 19,
   "id": "41b8b5df",
   "metadata": {},
   "outputs": [
    {
     "name": "stdout",
     "output_type": "stream",
     "text": [
      "Musa\n",
      "{'name': 'banana', 'color': 'yellow', 'genus': 'Musa'}\n",
      "{'name': 'banana', 'color': 'yellow', 'genus': 'Musa', 'price': 0.1}\n"
     ]
    }
   ],
   "source": [
    "fruit = {\n",
    "    'name': 'banana',\n",
    "    'color': 'yellow',\n",
    "    'genus': 'Musa'\n",
    "}\n",
    "print(fruit['genus'])\n",
    "print(fruit)\n",
    "fruit['price'] = 0.10\n",
    "print(fruit)"
   ]
  },
  {
   "cell_type": "markdown",
   "id": "465e9048",
   "metadata": {
    "slideshow": {
     "slide_type": "slide"
    }
   },
   "source": [
    "# Using a dictionary as a collection of counters"
   ]
  },
  {
   "cell_type": "markdown",
   "id": "82a5f1e7",
   "metadata": {
    "slideshow": {
     "slide_type": "slide"
    }
   },
   "source": [
    "Let's create a program that will help us visualize height distribution..."
   ]
  },
  {
   "cell_type": "code",
   "execution_count": 20,
   "id": "f2077a9d",
   "metadata": {
    "slideshow": {
     "slide_type": "subslide"
    }
   },
   "outputs": [
    {
     "name": "stdout",
     "output_type": "stream",
     "text": [
      "{60: 1, 61: 2, 67: 1, 68: 1, 70: 3}\n"
     ]
    }
   ],
   "source": [
    "heights = [60, 61, 61, 67, 68, 70, 70, 70]\n",
    "\n",
    "def histogram(data):\n",
    "    frequencies = dict()\n",
    "    for observation in data:\n",
    "        if observation not in frequencies:\n",
    "            frequencies[observation] = 1\n",
    "        else:\n",
    "            frequencies[observation] += 1\n",
    "    return frequencies\n",
    "\n",
    "print(histogram(heights))"
   ]
  },
  {
   "cell_type": "markdown",
   "id": "2aaa348a",
   "metadata": {
    "slideshow": {
     "slide_type": "slide"
    }
   },
   "source": [
    "The dictionary's `get` method takes a key and a default value. If the key exists, `get` returns the corresponding value. Otherwise, it returns the default value.\n",
    "\n",
    "How can we use the `get` method to simplify `histogram`?"
   ]
  },
  {
   "cell_type": "code",
   "execution_count": 21,
   "id": "d0592791",
   "metadata": {
    "slideshow": {
     "slide_type": "subslide"
    }
   },
   "outputs": [
    {
     "name": "stdout",
     "output_type": "stream",
     "text": [
      "{60: 1, 61: 2, 67: 1, 68: 1, 70: 3}\n"
     ]
    }
   ],
   "source": [
    "heights = [60, 61, 61, 67, 68, 70, 70, 70]\n",
    "\n",
    "# TODO: Simplify histogram\n",
    "def histogram(data):\n",
    "    frequencies = dict()\n",
    "    for observation in data:\n",
    "        if observation not in frequencies:\n",
    "            frequencies[observation] = 1\n",
    "        else:\n",
    "            frequencies[observation] += 1\n",
    "    return frequencies\n",
    "\n",
    "print(histogram(heights))"
   ]
  },
  {
   "cell_type": "markdown",
   "id": "b8d84048",
   "metadata": {
    "slideshow": {
     "slide_type": "slide"
    }
   },
   "source": [
    "Let's see the histogram in action..."
   ]
  },
  {
   "cell_type": "code",
   "execution_count": 22,
   "id": "7394a655",
   "metadata": {
    "scrolled": true,
    "slideshow": {
     "slide_type": "subslide"
    }
   },
   "outputs": [],
   "source": [
    "heights = []\n",
    "\n",
    "def histogram(data):\n",
    "    frequencies = dict()\n",
    "    for observation in data:\n",
    "        frequencies[observation] = frequencies.get(observation, 0) + 1\n",
    "    return frequencies\n",
    "\n",
    "distribution = histogram(heights)\n",
    "for height in sorted(distribution):\n",
    "    stars = '*' * distribution[height]\n",
    "    print(f'{height} {stars}')"
   ]
  },
  {
   "cell_type": "markdown",
   "id": "7722b5be",
   "metadata": {
    "slideshow": {
     "slide_type": "slide"
    }
   },
   "source": [
    "# Traversing the keys of a dictionary"
   ]
  },
  {
   "cell_type": "markdown",
   "id": "946c87c8",
   "metadata": {
    "slideshow": {
     "slide_type": "subslide"
    }
   },
   "source": [
    "So far, we have looked at using a `for` loop to traverse the elements of a list..."
   ]
  },
  {
   "cell_type": "code",
   "execution_count": 23,
   "id": "49edaa18",
   "metadata": {},
   "outputs": [
    {
     "name": "stdout",
     "output_type": "stream",
     "text": [
      "apple\n",
      "banana\n",
      "pineapple\n"
     ]
    }
   ],
   "source": [
    "fruits = ['apple', 'banana', 'pineapple']\n",
    "for fruit in fruits:\n",
    "    print(fruit)"
   ]
  },
  {
   "cell_type": "markdown",
   "id": "47ae95d8",
   "metadata": {
    "slideshow": {
     "slide_type": "subslide"
    }
   },
   "source": [
    "... the indices of a list..."
   ]
  },
  {
   "cell_type": "code",
   "execution_count": 24,
   "id": "9ca415c7",
   "metadata": {},
   "outputs": [
    {
     "name": "stdout",
     "output_type": "stream",
     "text": [
      "0\n",
      "1\n",
      "2\n"
     ]
    }
   ],
   "source": [
    "fruits = ['apple', 'banana', 'pineapple']\n",
    "for index in range(len(fruits)):\n",
    "    print(index)"
   ]
  },
  {
   "cell_type": "markdown",
   "id": "f48e94ec",
   "metadata": {
    "slideshow": {
     "slide_type": "subslide"
    }
   },
   "source": [
    "... and the characters of a string."
   ]
  },
  {
   "cell_type": "code",
   "execution_count": 25,
   "id": "459318fa",
   "metadata": {},
   "outputs": [
    {
     "name": "stdout",
     "output_type": "stream",
     "text": [
      "a\n",
      "p\n",
      "p\n",
      "l\n",
      "e\n"
     ]
    }
   ],
   "source": [
    "fruit = 'apple'\n",
    "for letter in fruit:\n",
    "    print(letter)"
   ]
  },
  {
   "cell_type": "markdown",
   "id": "f97ae6b2",
   "metadata": {
    "slideshow": {
     "slide_type": "slide"
    }
   },
   "source": [
    "We can also use a `for` loop to traverse the keys of a dictionary."
   ]
  },
  {
   "cell_type": "code",
   "execution_count": 26,
   "id": "0c136cd8",
   "metadata": {},
   "outputs": [
    {
     "name": "stdout",
     "output_type": "stream",
     "text": [
      "name\n",
      "color\n",
      "genus\n"
     ]
    }
   ],
   "source": [
    "fruit = {\n",
    "    'name': 'banana',\n",
    "    'color': 'yellow',\n",
    "    'genus': 'Musa'\n",
    "}\n",
    "for key in fruit:\n",
    "    print(key)"
   ]
  },
  {
   "cell_type": "markdown",
   "id": "5db1ddfd",
   "metadata": {
    "slideshow": {
     "slide_type": "slide"
    }
   },
   "source": [
    "Let's modify the `for` loop so that it prints the values, too."
   ]
  },
  {
   "cell_type": "code",
   "execution_count": 27,
   "id": "b6e1d5e8",
   "metadata": {},
   "outputs": [
    {
     "name": "stdout",
     "output_type": "stream",
     "text": [
      "name\n",
      "color\n",
      "genus\n"
     ]
    }
   ],
   "source": [
    "fruit = {\n",
    "    'name': 'banana',\n",
    "    'color': 'yellow',\n",
    "    'genus': 'Musa'\n",
    "}\n",
    "for key in fruit:\n",
    "    print(key)"
   ]
  },
  {
   "cell_type": "markdown",
   "id": "2ac9e68d",
   "metadata": {
    "slideshow": {
     "slide_type": "slide"
    }
   },
   "source": [
    "# Sorting the keys in a dictionary"
   ]
  },
  {
   "cell_type": "markdown",
   "id": "7de29f1e",
   "metadata": {
    "slideshow": {
     "slide_type": "subslide"
    }
   },
   "source": [
    "Consider a dictionary that maps students to grades..."
   ]
  },
  {
   "cell_type": "code",
   "execution_count": 28,
   "id": "1766b173",
   "metadata": {},
   "outputs": [],
   "source": [
    "grades = {\n",
    "    'lenny': 78,\n",
    "    'barbara': 90,\n",
    "    'george': 91,\n",
    "    'amy': 94,\n",
    "    'zack': 96\n",
    "}"
   ]
  },
  {
   "cell_type": "markdown",
   "id": "685074d9",
   "metadata": {
    "slideshow": {
     "slide_type": "subslide"
    }
   },
   "source": [
    "How can we print the key-value pairs in `grades` with the student names in alphabetical order?"
   ]
  },
  {
   "cell_type": "markdown",
   "id": "743068c0",
   "metadata": {
    "slideshow": {
     "slide_type": "slide"
    }
   },
   "source": [
    "You can sort the keys in a dictionary using the `sorted` function.\n",
    "\n",
    "The `sorted` function takes a dictionary and returns the sorted keys."
   ]
  },
  {
   "cell_type": "code",
   "execution_count": 30,
   "id": "67acedb8",
   "metadata": {
    "scrolled": true
   },
   "outputs": [
    {
     "name": "stdout",
     "output_type": "stream",
     "text": [
      "['amy', 'barbara', 'george', 'lenny', 'zack']\n",
      "amy has a grade of 94%.\n",
      "barbara has a grade of 90%.\n",
      "george has a grade of 91%.\n",
      "lenny has a grade of 78%.\n",
      "zack has a grade of 96%.\n"
     ]
    }
   ],
   "source": [
    "grades = {\n",
    "    'lenny': 78,\n",
    "    'barbara': 90,\n",
    "    'george': 91,\n",
    "    'amy': 94,\n",
    "    'zack': 96\n",
    "}\n",
    "print(sorted(grades))\n",
    "for student in sorted(grades):\n",
    "    print(f'{student} has a grade of {grades[student]}%.')"
   ]
  },
  {
   "cell_type": "markdown",
   "id": "9435ca58",
   "metadata": {
    "slideshow": {
     "slide_type": "slide"
    }
   },
   "source": [
    "# Looking up a key by its value (reverse lookup)"
   ]
  },
  {
   "cell_type": "markdown",
   "id": "c4649cf9",
   "metadata": {
    "slideshow": {
     "slide_type": "subslide"
    }
   },
   "source": [
    "We have seen that it is easy to look up a *value* by its *key*."
   ]
  },
  {
   "cell_type": "code",
   "execution_count": 31,
   "id": "c1e1caeb",
   "metadata": {},
   "outputs": [
    {
     "name": "stdout",
     "output_type": "stream",
     "text": [
      "banana\n"
     ]
    }
   ],
   "source": [
    "fruit = {\n",
    "    'name': 'banana',\n",
    "    'color': 'yellow',\n",
    "    'genus': 'Musa'\n",
    "}\n",
    "print(fruit['name'])"
   ]
  },
  {
   "cell_type": "markdown",
   "id": "8efb39de",
   "metadata": {},
   "source": [
    "But, how can we look up a *key* by its *value*?\n",
    "\n",
    "E.g. How can we look up what key corresponds to the value `banana`?"
   ]
  },
  {
   "cell_type": "markdown",
   "id": "2829159d",
   "metadata": {
    "slideshow": {
     "slide_type": "slide"
    }
   },
   "source": [
    "Looking up a key by its value is a more complicated process, called a **reverse lookup**."
   ]
  },
  {
   "cell_type": "markdown",
   "id": "f4688ef4",
   "metadata": {
    "slideshow": {
     "slide_type": "subslide"
    }
   },
   "source": [
    "The high-level procedure for a reverse lookup is\n",
    "\n",
    "- For each key in a dictionary\n",
    "    - Check the key's value\n",
    "        - If the value matches the value you are looking for, return the key\n",
    "- If you have checked the value of every key and none have matched the value you are looking for, raise a `LookupError`."
   ]
  },
  {
   "cell_type": "code",
   "execution_count": 32,
   "id": "9b3181c2",
   "metadata": {
    "scrolled": true,
    "slideshow": {
     "slide_type": "subslide"
    }
   },
   "outputs": [
    {
     "name": "stdout",
     "output_type": "stream",
     "text": [
      "name\n"
     ]
    }
   ],
   "source": [
    "def reverse_lookup(d, value):\n",
    "    for key in d:\n",
    "        if d[key] == value:\n",
    "            return key\n",
    "    raise LookupError()\n",
    "fruit = {\n",
    "    'name': 'banana',\n",
    "    'color': 'yellow',\n",
    "    'genus': 'Musa'\n",
    "}\n",
    "print(reverse_lookup(fruit, 'banana'))"
   ]
  },
  {
   "cell_type": "markdown",
   "id": "6620bdac",
   "metadata": {
    "slideshow": {
     "slide_type": "slide"
    }
   },
   "source": [
    "# The `raise ` statement"
   ]
  },
  {
   "cell_type": "markdown",
   "id": "cb2c6e46",
   "metadata": {
    "slideshow": {
     "slide_type": "subslide"
    }
   },
   "source": [
    "Exceptions occur when something \"exceptionally\" bad happens."
   ]
  },
  {
   "cell_type": "markdown",
   "id": "b0abce95",
   "metadata": {
    "slideshow": {
     "slide_type": "slide"
    }
   },
   "source": [
    "## Types of exceptions we have encountered before"
   ]
  },
  {
   "cell_type": "markdown",
   "id": "695fa0dd",
   "metadata": {
    "slideshow": {
     "slide_type": "subslide"
    }
   },
   "source": [
    "`KeyError`"
   ]
  },
  {
   "cell_type": "code",
   "execution_count": 33,
   "id": "4db2cb7f",
   "metadata": {},
   "outputs": [
    {
     "ename": "KeyError",
     "evalue": "'price'",
     "output_type": "error",
     "traceback": [
      "\u001b[0;31m---------------------------------------------------------------------------\u001b[0m",
      "\u001b[0;31mKeyError\u001b[0m                                  Traceback (most recent call last)",
      "\u001b[0;32m/var/folders/bj/bw1mwdzj6vsbs4zf676n7rw80000gq/T/ipykernel_73978/3782377772.py\u001b[0m in \u001b[0;36m<module>\u001b[0;34m\u001b[0m\n\u001b[1;32m      4\u001b[0m     \u001b[0;34m'genus'\u001b[0m\u001b[0;34m:\u001b[0m \u001b[0;34m'Musa'\u001b[0m\u001b[0;34m\u001b[0m\u001b[0;34m\u001b[0m\u001b[0m\n\u001b[1;32m      5\u001b[0m }\n\u001b[0;32m----> 6\u001b[0;31m \u001b[0mprint\u001b[0m\u001b[0;34m(\u001b[0m\u001b[0mfruit\u001b[0m\u001b[0;34m[\u001b[0m\u001b[0;34m'price'\u001b[0m\u001b[0;34m]\u001b[0m\u001b[0;34m)\u001b[0m\u001b[0;34m\u001b[0m\u001b[0;34m\u001b[0m\u001b[0m\n\u001b[0m",
      "\u001b[0;31mKeyError\u001b[0m: 'price'"
     ]
    }
   ],
   "source": [
    "fruit = {\n",
    "    'name': 'banana',\n",
    "    'color': 'yellow',\n",
    "    'genus': 'Musa'\n",
    "}\n",
    "print(fruit['price'])"
   ]
  },
  {
   "cell_type": "markdown",
   "id": "5dc9cfad",
   "metadata": {
    "slideshow": {
     "slide_type": "subslide"
    }
   },
   "source": [
    "`IndexError`"
   ]
  },
  {
   "cell_type": "code",
   "execution_count": 34,
   "id": "88685bb3",
   "metadata": {},
   "outputs": [
    {
     "ename": "IndexError",
     "evalue": "list index out of range",
     "output_type": "error",
     "traceback": [
      "\u001b[0;31m---------------------------------------------------------------------------\u001b[0m",
      "\u001b[0;31mIndexError\u001b[0m                                Traceback (most recent call last)",
      "\u001b[0;32m/var/folders/bj/bw1mwdzj6vsbs4zf676n7rw80000gq/T/ipykernel_73978/1540587109.py\u001b[0m in \u001b[0;36m<module>\u001b[0;34m\u001b[0m\n\u001b[1;32m      1\u001b[0m \u001b[0mfruits\u001b[0m \u001b[0;34m=\u001b[0m \u001b[0;34m[\u001b[0m\u001b[0;34m'apple'\u001b[0m\u001b[0;34m,\u001b[0m \u001b[0;34m'banana'\u001b[0m\u001b[0;34m,\u001b[0m \u001b[0;34m'pineapple'\u001b[0m\u001b[0;34m]\u001b[0m\u001b[0;34m\u001b[0m\u001b[0;34m\u001b[0m\u001b[0m\n\u001b[0;32m----> 2\u001b[0;31m \u001b[0mprint\u001b[0m\u001b[0;34m(\u001b[0m\u001b[0mfruits\u001b[0m\u001b[0;34m[\u001b[0m\u001b[0;36m3\u001b[0m\u001b[0;34m]\u001b[0m\u001b[0;34m)\u001b[0m\u001b[0;34m\u001b[0m\u001b[0;34m\u001b[0m\u001b[0m\n\u001b[0m",
      "\u001b[0;31mIndexError\u001b[0m: list index out of range"
     ]
    }
   ],
   "source": [
    "fruits = ['apple', 'banana', 'pineapple']\n",
    "print(fruits[3])"
   ]
  },
  {
   "cell_type": "markdown",
   "id": "dd1da816",
   "metadata": {
    "slideshow": {
     "slide_type": "subslide"
    }
   },
   "source": [
    "`FileNotFoundError`"
   ]
  },
  {
   "cell_type": "code",
   "execution_count": 35,
   "id": "2fc878da",
   "metadata": {},
   "outputs": [
    {
     "ename": "FileNotFoundError",
     "evalue": "[Errno 2] No such file or directory: 'does-not-exist.txt'",
     "output_type": "error",
     "traceback": [
      "\u001b[0;31m---------------------------------------------------------------------------\u001b[0m",
      "\u001b[0;31mFileNotFoundError\u001b[0m                         Traceback (most recent call last)",
      "\u001b[0;32m/var/folders/bj/bw1mwdzj6vsbs4zf676n7rw80000gq/T/ipykernel_73978/38292061.py\u001b[0m in \u001b[0;36m<module>\u001b[0;34m\u001b[0m\n\u001b[0;32m----> 1\u001b[0;31m \u001b[0mfin\u001b[0m \u001b[0;34m=\u001b[0m \u001b[0mopen\u001b[0m\u001b[0;34m(\u001b[0m\u001b[0;34m'does-not-exist.txt'\u001b[0m\u001b[0;34m)\u001b[0m\u001b[0;34m\u001b[0m\u001b[0;34m\u001b[0m\u001b[0m\n\u001b[0m",
      "\u001b[0;31mFileNotFoundError\u001b[0m: [Errno 2] No such file or directory: 'does-not-exist.txt'"
     ]
    }
   ],
   "source": [
    "fin = open('does-not-exist.txt')"
   ]
  },
  {
   "cell_type": "markdown",
   "id": "4a4036c5",
   "metadata": {
    "slideshow": {
     "slide_type": "slide"
    }
   },
   "source": [
    "These `KeyError`, `IndexError`, and `FileNotFoundError` exceptions are raised internally by Python. We can raise our own exceptions by using the `raise` statement.\n",
    "\n",
    "Use the keyword `raise` followed by the name of the exception you want to raise."
   ]
  },
  {
   "cell_type": "code",
   "execution_count": 36,
   "id": "651eb0ca",
   "metadata": {},
   "outputs": [],
   "source": [
    "def reverse_lookup(d, value):\n",
    "    for key in d:\n",
    "        if d[key] == value:\n",
    "            return key\n",
    "    raise LookupError()"
   ]
  },
  {
   "cell_type": "markdown",
   "id": "32bd6e54",
   "metadata": {
    "slideshow": {
     "slide_type": "subslide"
    }
   },
   "source": [
    "You should raise an exception when you want to let the user of your program or code know that something went wrong."
   ]
  },
  {
   "cell_type": "markdown",
   "id": "ea54934e",
   "metadata": {
    "slideshow": {
     "slide_type": "slide"
    }
   },
   "source": [
    "Other exceptions you could raise include:\n",
    "\n",
    "- `Exception`\n",
    "- `NotImplementedError`\n",
    "\n",
    "You can find more exceptions that you can raise in the [Python documentation](https://docs.python.org/3/library/exceptions.html)."
   ]
  },
  {
   "cell_type": "markdown",
   "id": "5df9f870",
   "metadata": {
    "slideshow": {
     "slide_type": "slide"
    }
   },
   "source": [
    "## Catching a raised exception"
   ]
  },
  {
   "cell_type": "markdown",
   "id": "cfeccf19",
   "metadata": {
    "slideshow": {
     "slide_type": "subslide"
    }
   },
   "source": [
    "Remember that you should place risky code in a `try` statement. Risky code is any code that has a reasonable chance of causing an exception."
   ]
  },
  {
   "cell_type": "code",
   "execution_count": 37,
   "id": "02a35940",
   "metadata": {
    "slideshow": {
     "slide_type": "subslide"
    }
   },
   "outputs": [
    {
     "name": "stdout",
     "output_type": "stream",
     "text": [
      "Before line that causes exception. Runs!\n",
      "There was an exception.\n"
     ]
    }
   ],
   "source": [
    "try:\n",
    "    print('Before line that causes exception. Runs!')\n",
    "    fin = open('does-not-exist.txt')\n",
    "    print('After line that causes exception. Never runs!')\n",
    "except:\n",
    "    print('There was an exception.')"
   ]
  },
  {
   "cell_type": "markdown",
   "id": "abc666d4",
   "metadata": {},
   "source": [
    "Notice that as soon as the risky code causes an exception, the flow of execution jumps down to the `except` block. None of the code after the line that causes the exception is run."
   ]
  },
  {
   "cell_type": "code",
   "execution_count": 38,
   "id": "7ff0ac43",
   "metadata": {
    "slideshow": {
     "slide_type": "subslide"
    }
   },
   "outputs": [
    {
     "name": "stdout",
     "output_type": "stream",
     "text": [
      "Before line that causes exception. Runs!\n",
      "There was an exception.\n"
     ]
    }
   ],
   "source": [
    "try:\n",
    "    print('Before line that causes exception. Runs!')\n",
    "    raise Exception()\n",
    "    print('After line that causes exception. Never runs!')\n",
    "except:\n",
    "    print('There was an exception.')"
   ]
  },
  {
   "cell_type": "markdown",
   "id": "b7b00f74",
   "metadata": {
    "slideshow": {
     "slide_type": "slide"
    }
   },
   "source": [
    "# Keys of a dictionary must be immutable"
   ]
  },
  {
   "cell_type": "markdown",
   "id": "0943bc0d",
   "metadata": {
    "slideshow": {
     "slide_type": "subslide"
    }
   },
   "source": [
    "Keys can be strings, integers, floats, and even booleans! This is because they are immutable."
   ]
  },
  {
   "cell_type": "code",
   "execution_count": 40,
   "id": "f74b3b90",
   "metadata": {
    "slideshow": {
     "slide_type": "-"
    }
   },
   "outputs": [],
   "source": [
    "random = {\n",
    "    'name': 'foobar',\n",
    "    0: True,\n",
    "    3.14: 'pie',\n",
    "    False: 12345\n",
    "}"
   ]
  },
  {
   "cell_type": "markdown",
   "id": "213087d1",
   "metadata": {
    "slideshow": {
     "slide_type": "subslide"
    }
   },
   "source": [
    "Keys cannot be lists because they are mutable."
   ]
  },
  {
   "cell_type": "code",
   "execution_count": 39,
   "id": "a66098b8",
   "metadata": {},
   "outputs": [
    {
     "ename": "NameError",
     "evalue": "name 'random' is not defined",
     "output_type": "error",
     "traceback": [
      "\u001b[0;31m---------------------------------------------------------------------------\u001b[0m",
      "\u001b[0;31mNameError\u001b[0m                                 Traceback (most recent call last)",
      "\u001b[0;32m/var/folders/bj/bw1mwdzj6vsbs4zf676n7rw80000gq/T/ipykernel_73978/3650687410.py\u001b[0m in \u001b[0;36m<module>\u001b[0;34m\u001b[0m\n\u001b[1;32m      1\u001b[0m \u001b[0mt\u001b[0m \u001b[0;34m=\u001b[0m \u001b[0;34m[\u001b[0m\u001b[0;36m1\u001b[0m\u001b[0;34m,\u001b[0m \u001b[0;36m2\u001b[0m\u001b[0;34m,\u001b[0m \u001b[0;36m3\u001b[0m\u001b[0;34m]\u001b[0m\u001b[0;34m\u001b[0m\u001b[0;34m\u001b[0m\u001b[0m\n\u001b[0;32m----> 2\u001b[0;31m \u001b[0mrandom\u001b[0m\u001b[0;34m[\u001b[0m\u001b[0mt\u001b[0m\u001b[0;34m]\u001b[0m \u001b[0;34m=\u001b[0m \u001b[0;34m'list'\u001b[0m \u001b[0;31m# Causes an exception\u001b[0m\u001b[0;34m\u001b[0m\u001b[0;34m\u001b[0m\u001b[0m\n\u001b[0m",
      "\u001b[0;31mNameError\u001b[0m: name 'random' is not defined"
     ]
    }
   ],
   "source": [
    "t = [1, 2, 3]\n",
    "random[t] = 'list' # Causes an exception"
   ]
  },
  {
   "cell_type": "markdown",
   "id": "454a5ba6",
   "metadata": {
    "slideshow": {
     "slide_type": "slide"
    }
   },
   "source": [
    "# Summary"
   ]
  },
  {
   "cell_type": "markdown",
   "id": "373a8cb6",
   "metadata": {
    "slideshow": {
     "slide_type": "subslide"
    }
   },
   "source": [
    "- What dictionaries are and how to create them\n",
    "- How to look up values by key\n",
    "- How to add items to a dictionary\n",
    "- How to check if something is a key or value in a dictionary\n",
    "- How to use dictionaries to store counters\n",
    "- How to traverse the keys of a dictionary\n",
    "- How to sort the keys of a dictionary\n",
    "- How to look up keys by value\n",
    "- How to raise an exception\n",
    "- What types keys can and cannot be"
   ]
  },
  {
   "cell_type": "markdown",
   "id": "3e06c14d",
   "metadata": {
    "slideshow": {
     "slide_type": "slide"
    }
   },
   "source": [
    "# Office Hours\n",
    "\n",
    "**M** 11:30 AM - 12:30 PM; 2:00 - 4:00 PM\n",
    "\n",
    "**Tu** 10:00 AM - 1:00 PM\n",
    "\n",
    "**W** 11:30 AM - 12:30 PM\n",
    "\n",
    "**F** 11:30 AM - 12:30 PM; 3:00 - 4:00 PM"
   ]
  }
 ],
 "metadata": {
  "celltoolbar": "Slideshow",
  "kernelspec": {
   "display_name": "Python 3 (ipykernel)",
   "language": "python",
   "name": "python3"
  },
  "language_info": {
   "codemirror_mode": {
    "name": "ipython",
    "version": 3
   },
   "file_extension": ".py",
   "mimetype": "text/x-python",
   "name": "python",
   "nbconvert_exporter": "python",
   "pygments_lexer": "ipython3",
   "version": "3.9.7"
  },
  "rise": {
   "autolaunch": true,
   "enable_chalkboard": true
  }
 },
 "nbformat": 4,
 "nbformat_minor": 5
}
