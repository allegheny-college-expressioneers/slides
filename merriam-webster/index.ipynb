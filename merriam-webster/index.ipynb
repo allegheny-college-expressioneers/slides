{
 "cells": [
  {
   "cell_type": "markdown",
   "id": "a16528c9",
   "metadata": {
    "slideshow": {
     "slide_type": "slide"
    }
   },
   "source": [
    "# Merriam-Webster (Dictionaries)\n",
    "\n",
    "Hit **Space** to move forward and **Shift + Space** to move backward"
   ]
  },
  {
   "cell_type": "markdown",
   "id": "de7f79c8",
   "metadata": {
    "slideshow": {
     "slide_type": "slide"
    }
   },
   "source": [
    "# What are dictionaries?"
   ]
  },
  {
   "cell_type": "markdown",
   "id": "1fdd067e",
   "metadata": {
    "slideshow": {
     "slide_type": "subslide"
    }
   },
   "source": [
    "A **dictionary** is a data structure, or collection of values."
   ]
  },
  {
   "cell_type": "markdown",
   "id": "202b73b9",
   "metadata": {
    "slideshow": {
     "slide_type": "subslide"
    }
   },
   "source": [
    "We've seen another type of data structure in the past before..."
   ]
  },
  {
   "cell_type": "markdown",
   "id": "8754e627",
   "metadata": {
    "slideshow": {
     "slide_type": "subslide"
    }
   },
   "source": [
    "Lists!"
   ]
  },
  {
   "cell_type": "code",
   "execution_count": 23,
   "id": "07a1c943",
   "metadata": {},
   "outputs": [
    {
     "name": "stdout",
     "output_type": "stream",
     "text": [
      "Name: George Merriam\n",
      "Birthday: January 20, 1803\n",
      "Birthplace: Worcester, Massachusetts\n"
     ]
    }
   ],
   "source": [
    "person = ['George Merriam',\n",
    "    'January 20, 1803',\n",
    "    'Worcester, Massachusetts'\n",
    "]\n",
    "\n",
    "print(f'Name: {person[0]}')\n",
    "print(f'Birthday: {person[1]}')\n",
    "print(f'Birthplace: {person[2]}')"
   ]
  },
  {
   "cell_type": "code",
   "execution_count": 24,
   "id": "91d7627d",
   "metadata": {
    "scrolled": true,
    "slideshow": {
     "slide_type": "subslide"
    }
   },
   "outputs": [
    {
     "name": "stdout",
     "output_type": "stream",
     "text": [
      "Name: George Merriam\n",
      "Birthday: January 20, 1803\n",
      "Birthplace: Worcester, Massachusetts\n"
     ]
    }
   ],
   "source": [
    "person = ['George Merriam',\n",
    "    'January 20, 1803',\n",
    "    'Worcester, Massachusetts'\n",
    "]\n",
    "\n",
    "print(f'Name: {person[0]}')\n",
    "print(f'Birthday: {person[1]}')\n",
    "print(f'Birthplace: {person[2]}')\n",
    "\n",
    "person.insert(0, 'publisher') # What would happen?"
   ]
  },
  {
   "cell_type": "markdown",
   "id": "d18eff3a",
   "metadata": {
    "slideshow": {
     "slide_type": "subslide"
    }
   },
   "source": [
    "When values are better organized by keys, rather than order (i.e. indices), use a dictionary.\n",
    "\n",
    "And when are values better organized by keys? When each value has a specific *meaning* within a collection of values."
   ]
  },
  {
   "cell_type": "code",
   "execution_count": 25,
   "id": "baacef3a",
   "metadata": {
    "slideshow": {
     "slide_type": "subslide"
    }
   },
   "outputs": [
    {
     "name": "stdout",
     "output_type": "stream",
     "text": [
      "Name: George Merriam\n",
      "Birthday: January 20, 1803\n",
      "Birthplace: Worcester, Massachusetts\n"
     ]
    }
   ],
   "source": [
    "person = {\n",
    "    'name': 'George Merriam',\n",
    "    'birthday': 'January 20, 1803',\n",
    "    'birthplace': 'Worcester, Massachusetts'\n",
    "}\n",
    "\n",
    "print(f'Name: {person[\"name\"]}')\n",
    "print(f'Birthday: {person[\"birthday\"]}')\n",
    "print(f'Birthplace: {person[\"birthplace\"]}')"
   ]
  },
  {
   "cell_type": "markdown",
   "id": "7b40e6a0",
   "metadata": {
    "slideshow": {
     "slide_type": "slide"
    }
   },
   "source": [
    "## While values in a list are indexed by integers, values in a dictionary are indexed by keys."
   ]
  },
  {
   "cell_type": "code",
   "execution_count": 26,
   "id": "6e4cf40e",
   "metadata": {
    "slideshow": {
     "slide_type": "subslide"
    }
   },
   "outputs": [],
   "source": [
    "sea_creatures = ['shark', 'cuttlefish', 'squid']\n",
    "fruit = {\n",
    "    'type': 'banana',\n",
    "    'color': 'yellow',\n",
    "    'genus': 'Musa'\n",
    "}"
   ]
  },
  {
   "cell_type": "markdown",
   "id": "cafab51f",
   "metadata": {
    "slideshow": {
     "slide_type": "subslide"
    }
   },
   "source": [
    "![Lists vs. dictionaries](lists-dictionaries.png)"
   ]
  },
  {
   "cell_type": "markdown",
   "id": "b928ae80",
   "metadata": {
    "slideshow": {
     "slide_type": "slide"
    }
   },
   "source": [
    "# What can dictionaries be used for?\n",
    "\n",
    "(So many things...)"
   ]
  },
  {
   "cell_type": "markdown",
   "id": "34d057b5",
   "metadata": {
    "slideshow": {
     "slide_type": "subslide"
    }
   },
   "source": [
    "Web applications"
   ]
  },
  {
   "cell_type": "code",
   "execution_count": 27,
   "id": "cfe9055a",
   "metadata": {},
   "outputs": [],
   "source": [
    "user = {\n",
    "    'email': 'ykim@allegheny.edu',\n",
    "    'first_name': 'Maria',\n",
    "    'last_name': 'Heinert',\n",
    "    'age': 25\n",
    "}"
   ]
  },
  {
   "cell_type": "markdown",
   "id": "1f205aa8",
   "metadata": {
    "slideshow": {
     "slide_type": "subslide"
    }
   },
   "source": [
    "Text prediction"
   ]
  },
  {
   "cell_type": "code",
   "execution_count": 28,
   "id": "cb440835",
   "metadata": {},
   "outputs": [],
   "source": [
    "after_i = {\n",
    "    'am': 34,\n",
    "    'like': 68,\n",
    "    'use': 20,\n",
    "    'think': 90\n",
    "}"
   ]
  },
  {
   "cell_type": "markdown",
   "id": "508b413e",
   "metadata": {
    "slideshow": {
     "slide_type": "slide"
    }
   },
   "source": [
    "# Creating dictionaries"
   ]
  },
  {
   "cell_type": "markdown",
   "id": "84cd1679",
   "metadata": {
    "slideshow": {
     "slide_type": "slide"
    }
   },
   "source": [
    "## Creating an empty dictionary\n",
    "\n",
    "Use `dict()`."
   ]
  },
  {
   "cell_type": "code",
   "execution_count": 29,
   "id": "1bd25bb8",
   "metadata": {},
   "outputs": [
    {
     "name": "stdout",
     "output_type": "stream",
     "text": [
      "<class 'dict'>\n"
     ]
    }
   ],
   "source": [
    "fruit = dict()\n",
    "print(type(fruit))"
   ]
  },
  {
   "cell_type": "markdown",
   "id": "8998de10",
   "metadata": {
    "slideshow": {
     "slide_type": "slide"
    }
   },
   "source": [
    "## Creating a dictionary with items\n",
    "\n",
    "Enclose **items**, or key-value pairs, in curly braces `{}`. A key and its value should be separated by a colon `:`."
   ]
  },
  {
   "cell_type": "code",
   "execution_count": 30,
   "id": "54f0cb2b",
   "metadata": {},
   "outputs": [],
   "source": [
    "fruit = {\n",
    "    'name': 'banana',\n",
    "    'color': 'yellow',\n",
    "    'genus': 'Musa'\n",
    "}"
   ]
  },
  {
   "cell_type": "markdown",
   "id": "2ff0ce29",
   "metadata": {
    "slideshow": {
     "slide_type": "slide"
    }
   },
   "source": [
    "# Are dictionaries ordered?"
   ]
  },
  {
   "cell_type": "code",
   "execution_count": 31,
   "id": "c9e18c81",
   "metadata": {
    "slideshow": {
     "slide_type": "subslide"
    }
   },
   "outputs": [
    {
     "name": "stdout",
     "output_type": "stream",
     "text": [
      "{'name': 'banana', 'color': 'yellow', 'genus': 'Musa'}\n",
      "{'name': 'banana', 'color': 'yellow', 'genus': 'Musa'}\n",
      "{'name': 'banana', 'color': 'yellow', 'genus': 'Musa'}\n"
     ]
    }
   ],
   "source": [
    "fruit = {\n",
    "    'name': 'banana',\n",
    "    'color': 'yellow',\n",
    "    'genus': 'Musa'\n",
    "}\n",
    "print(fruit)\n",
    "print(fruit)\n",
    "print(fruit)"
   ]
  },
  {
   "cell_type": "markdown",
   "id": "3916ac11",
   "metadata": {
    "slideshow": {
     "slide_type": "subslide"
    }
   },
   "source": [
    "Think Python 2e: **2015**\n",
    "\n",
    "Python v.3.7: **2018**\n",
    "\n",
    "Things are always changing!"
   ]
  },
  {
   "cell_type": "markdown",
   "id": "3d182d60",
   "metadata": {
    "slideshow": {
     "slide_type": "slide"
    }
   },
   "source": [
    "# Looking up a value by its key in a dictionary"
   ]
  },
  {
   "cell_type": "markdown",
   "id": "d16b3284",
   "metadata": {
    "slideshow": {
     "slide_type": "slide"
    }
   },
   "source": [
    "Use square brackets `[]`."
   ]
  },
  {
   "cell_type": "code",
   "execution_count": 32,
   "id": "333607bb",
   "metadata": {},
   "outputs": [
    {
     "name": "stdout",
     "output_type": "stream",
     "text": [
      "banana\n",
      "yellow\n",
      "Musa\n"
     ]
    }
   ],
   "source": [
    "fruit = {\n",
    "    'name': 'banana',\n",
    "    'color': 'yellow',\n",
    "    'genus': 'Musa'\n",
    "}\n",
    "print(fruit['name'])\n",
    "print(fruit['color'])\n",
    "print(fruit['genus'])"
   ]
  },
  {
   "cell_type": "markdown",
   "id": "f10f1e90",
   "metadata": {
    "slideshow": {
     "slide_type": "slide"
    }
   },
   "source": [
    "## What if the key is not in the dictionary?"
   ]
  },
  {
   "cell_type": "code",
   "execution_count": 33,
   "id": "cb22f8a6",
   "metadata": {},
   "outputs": [
    {
     "ename": "KeyError",
     "evalue": "'price'",
     "output_type": "error",
     "traceback": [
      "\u001b[0;31m---------------------------------------------------------------------------\u001b[0m",
      "\u001b[0;31mKeyError\u001b[0m                                  Traceback (most recent call last)",
      "\u001b[0;32m/var/folders/bj/bw1mwdzj6vsbs4zf676n7rw80000gq/T/ipykernel_38538/3782377772.py\u001b[0m in \u001b[0;36m<module>\u001b[0;34m\u001b[0m\n\u001b[1;32m      4\u001b[0m     \u001b[0;34m'genus'\u001b[0m\u001b[0;34m:\u001b[0m \u001b[0;34m'Musa'\u001b[0m\u001b[0;34m\u001b[0m\u001b[0;34m\u001b[0m\u001b[0m\n\u001b[1;32m      5\u001b[0m }\n\u001b[0;32m----> 6\u001b[0;31m \u001b[0mprint\u001b[0m\u001b[0;34m(\u001b[0m\u001b[0mfruit\u001b[0m\u001b[0;34m[\u001b[0m\u001b[0;34m'price'\u001b[0m\u001b[0;34m]\u001b[0m\u001b[0;34m)\u001b[0m\u001b[0;34m\u001b[0m\u001b[0;34m\u001b[0m\u001b[0m\n\u001b[0m",
      "\u001b[0;31mKeyError\u001b[0m: 'price'"
     ]
    }
   ],
   "source": [
    "fruit = {\n",
    "    'name': 'banana',\n",
    "    'color': 'yellow',\n",
    "    'genus': 'Musa'\n",
    "}\n",
    "print(fruit['price'])"
   ]
  },
  {
   "cell_type": "markdown",
   "id": "b0df205a",
   "metadata": {
    "slideshow": {
     "slide_type": "slide"
    }
   },
   "source": [
    "# Getting the number of items in a dictionary"
   ]
  },
  {
   "cell_type": "markdown",
   "id": "8ea13dec",
   "metadata": {},
   "source": [
    "Use the `len` function!"
   ]
  },
  {
   "cell_type": "code",
   "execution_count": 34,
   "id": "8292a9b0",
   "metadata": {},
   "outputs": [
    {
     "name": "stdout",
     "output_type": "stream",
     "text": [
      "3\n"
     ]
    }
   ],
   "source": [
    "fruit = {\n",
    "    'name': 'banana',\n",
    "    'color': 'yellow',\n",
    "    'genus': 'Musa'\n",
    "}\n",
    "print(len(fruit)) # Why not 6?"
   ]
  },
  {
   "cell_type": "markdown",
   "id": "446b8437",
   "metadata": {
    "slideshow": {
     "slide_type": "slide"
    }
   },
   "source": [
    "# Checking if a key is in a dictionary"
   ]
  },
  {
   "cell_type": "markdown",
   "id": "9f13404b",
   "metadata": {
    "slideshow": {
     "slide_type": "subslide"
    }
   },
   "source": [
    "Use the `in` operator."
   ]
  },
  {
   "cell_type": "code",
   "execution_count": 35,
   "id": "9d5e9ae3",
   "metadata": {},
   "outputs": [
    {
     "name": "stdout",
     "output_type": "stream",
     "text": [
      "True\n",
      "False\n"
     ]
    }
   ],
   "source": [
    "fruit = {\n",
    "    'name': 'banana',\n",
    "    'color': 'yellow',\n",
    "    'genus': 'Musa'\n",
    "}\n",
    "print('name' in fruit)\n",
    "print('price' in fruit)"
   ]
  },
  {
   "cell_type": "markdown",
   "id": "b01331ad",
   "metadata": {
    "slideshow": {
     "slide_type": "slide"
    }
   },
   "source": [
    "# Checking if a value is in a dictionary"
   ]
  },
  {
   "cell_type": "markdown",
   "id": "1048d9ba",
   "metadata": {},
   "source": [
    "Get the values using the `values` method and then use the `in` operator."
   ]
  },
  {
   "cell_type": "code",
   "execution_count": 36,
   "id": "2f2fe3b8",
   "metadata": {},
   "outputs": [
    {
     "name": "stdout",
     "output_type": "stream",
     "text": [
      "True\n",
      "False\n"
     ]
    }
   ],
   "source": [
    "fruit = {\n",
    "    'name': 'banana',\n",
    "    'color': 'yellow',\n",
    "    'genus': 'Musa'\n",
    "}\n",
    "print('banana' in fruit.values())\n",
    "print('genus' in fruit.values())"
   ]
  },
  {
   "cell_type": "markdown",
   "id": "7016cafd",
   "metadata": {
    "slideshow": {
     "slide_type": "slide"
    }
   },
   "source": [
    "# Quick review"
   ]
  },
  {
   "cell_type": "markdown",
   "id": "ec41a803",
   "metadata": {
    "slideshow": {
     "slide_type": "subslide"
    }
   },
   "source": [
    "A dictionary is a data structure whose elements are indexed by keys, rather than by integers."
   ]
  },
  {
   "cell_type": "code",
   "execution_count": 38,
   "id": "2168697f",
   "metadata": {},
   "outputs": [],
   "source": [
    "fruit = {\n",
    "    'name': 'banana',\n",
    "    'color': 'yellow',\n",
    "    'genus': 'Musa'\n",
    "}"
   ]
  },
  {
   "cell_type": "markdown",
   "id": "1854050a",
   "metadata": {
    "slideshow": {
     "slide_type": "subslide"
    }
   },
   "source": [
    "Create an empty dictionary with `dict()`."
   ]
  },
  {
   "cell_type": "code",
   "execution_count": 39,
   "id": "74fb5931",
   "metadata": {},
   "outputs": [
    {
     "name": "stdout",
     "output_type": "stream",
     "text": [
      "{}\n"
     ]
    }
   ],
   "source": [
    "empty = dict()\n",
    "print(empty)"
   ]
  },
  {
   "cell_type": "markdown",
   "id": "05f63657",
   "metadata": {
    "slideshow": {
     "slide_type": "subslide"
    }
   },
   "source": [
    "Create a dictionary with items using curly braces `{}`.\n",
    "\n",
    "Each key should be separated from its value by a colon `:`."
   ]
  },
  {
   "cell_type": "code",
   "execution_count": null,
   "id": "acbc5774",
   "metadata": {},
   "outputs": [],
   "source": [
    "user = {\n",
    "    'email': 'ykim@allegheny.edu',\n",
    "    'first_name': 'Maria',\n",
    "    'last_name': 'Heinert',\n",
    "    'age': 25\n",
    "}"
   ]
  },
  {
   "cell_type": "markdown",
   "id": "e81a643c",
   "metadata": {
    "slideshow": {
     "slide_type": "subslide"
    }
   },
   "source": [
    "Look up a value by key using square brackets `[]`."
   ]
  },
  {
   "cell_type": "code",
   "execution_count": 40,
   "id": "e601405f",
   "metadata": {},
   "outputs": [
    {
     "name": "stdout",
     "output_type": "stream",
     "text": [
      "yellow\n"
     ]
    }
   ],
   "source": [
    "fruit = {\n",
    "    'name': 'banana',\n",
    "    'color': 'yellow',\n",
    "    'genus': 'Musa'\n",
    "}\n",
    "print(fruit['color'])"
   ]
  },
  {
   "cell_type": "markdown",
   "id": "1dffd571",
   "metadata": {
    "slideshow": {
     "slide_type": "slide"
    }
   },
   "source": [
    "# Adding items to a dictionary"
   ]
  },
  {
   "cell_type": "markdown",
   "id": "7fd39542",
   "metadata": {
    "slideshow": {
     "slide_type": "subslide"
    }
   },
   "source": [
    "Use square brackets `[]`."
   ]
  },
  {
   "cell_type": "code",
   "execution_count": 41,
   "id": "b5e98533",
   "metadata": {},
   "outputs": [
    {
     "name": "stdout",
     "output_type": "stream",
     "text": [
      "Musa\n",
      "{'name': 'banana', 'color': 'yellow', 'genus': 'Musa'}\n",
      "{'name': 'banana', 'color': 'yellow', 'genus': 'Musa', 'price': 0.1}\n"
     ]
    }
   ],
   "source": [
    "fruit = {\n",
    "    'name': 'banana',\n",
    "    'color': 'yellow',\n",
    "    'genus': 'Musa'\n",
    "}\n",
    "print(fruit['genus'])\n",
    "print(fruit)\n",
    "fruit['price'] = 0.10\n",
    "print(fruit)"
   ]
  },
  {
   "cell_type": "markdown",
   "id": "f2417cb0",
   "metadata": {
    "slideshow": {
     "slide_type": "slide"
    }
   },
   "source": [
    "# Using a dictionary as a collection of counters"
   ]
  },
  {
   "cell_type": "markdown",
   "id": "e1ae5c39",
   "metadata": {
    "slideshow": {
     "slide_type": "slide"
    }
   },
   "source": [
    "Let's create a program that will help us visualize height distribution..."
   ]
  },
  {
   "cell_type": "code",
   "execution_count": 42,
   "id": "e0238f3a",
   "metadata": {
    "slideshow": {
     "slide_type": "subslide"
    }
   },
   "outputs": [
    {
     "name": "stdout",
     "output_type": "stream",
     "text": [
      "{60: 1, 61: 2, 67: 1, 68: 1, 70: 3}\n"
     ]
    }
   ],
   "source": [
    "heights = [60, 61, 61, 67, 68, 70, 70, 70]\n",
    "\n",
    "def histogram(data):\n",
    "    frequencies = dict()\n",
    "    for observation in data:\n",
    "        if observation not in frequencies:\n",
    "            frequencies[observation] = 1\n",
    "        else:\n",
    "            frequencies[observation] += 1\n",
    "    return frequencies\n",
    "\n",
    "print(histogram(heights))"
   ]
  },
  {
   "cell_type": "markdown",
   "id": "42f60c49",
   "metadata": {
    "slideshow": {
     "slide_type": "slide"
    }
   },
   "source": [
    "The dictionary's `get` method takes a key and a default value. If the key exists, `get` returns the corresponding value. Otherwise, it returns the default value.\n",
    "\n",
    "How can we use the `get` method to simplify `histogram`?"
   ]
  },
  {
   "cell_type": "code",
   "execution_count": 43,
   "id": "813ea566",
   "metadata": {
    "slideshow": {
     "slide_type": "subslide"
    }
   },
   "outputs": [
    {
     "name": "stdout",
     "output_type": "stream",
     "text": [
      "{60: 1, 61: 2, 67: 1, 68: 1, 70: 3}\n"
     ]
    }
   ],
   "source": [
    "heights = [60, 61, 61, 67, 68, 70, 70, 70]\n",
    "\n",
    "# TODO: Simplify histogram\n",
    "def histogram(data):\n",
    "    frequencies = dict()\n",
    "    for observation in data:\n",
    "        if observation not in frequencies:\n",
    "            frequencies[observation] = 1\n",
    "        else:\n",
    "            frequencies[observation] += 1\n",
    "    return frequencies\n",
    "\n",
    "print(histogram(heights))"
   ]
  },
  {
   "cell_type": "markdown",
   "id": "d198f2d1",
   "metadata": {
    "slideshow": {
     "slide_type": "slide"
    }
   },
   "source": [
    "Let's see the histogram in action..."
   ]
  },
  {
   "cell_type": "code",
   "execution_count": 44,
   "id": "ab5ed998",
   "metadata": {
    "scrolled": true,
    "slideshow": {
     "slide_type": "subslide"
    }
   },
   "outputs": [],
   "source": [
    "heights = []\n",
    "\n",
    "def histogram(data):\n",
    "    frequencies = dict()\n",
    "    for observation in data:\n",
    "        frequencies[observation] = frequencies.get(observation, 0) + 1\n",
    "    return frequencies\n",
    "\n",
    "distribution = histogram(heights)\n",
    "for height in sorted(distribution):\n",
    "    stars = '*' * distribution[height]\n",
    "    print(f'{height} {stars}')"
   ]
  },
  {
   "cell_type": "markdown",
   "id": "2a3611ac",
   "metadata": {
    "slideshow": {
     "slide_type": "slide"
    }
   },
   "source": [
    "# Traversing the keys of a dictionary"
   ]
  },
  {
   "cell_type": "markdown",
   "id": "52194a8f",
   "metadata": {
    "slideshow": {
     "slide_type": "subslide"
    }
   },
   "source": [
    "So far, we have looked at using a `for` loop to traverse the elements of a list..."
   ]
  },
  {
   "cell_type": "code",
   "execution_count": 45,
   "id": "e224c3b5",
   "metadata": {},
   "outputs": [
    {
     "name": "stdout",
     "output_type": "stream",
     "text": [
      "apple\n",
      "banana\n",
      "pineapple\n"
     ]
    }
   ],
   "source": [
    "fruits = ['apple', 'banana', 'pineapple']\n",
    "for fruit in fruits:\n",
    "    print(fruit)"
   ]
  },
  {
   "cell_type": "markdown",
   "id": "bb6a6d90",
   "metadata": {
    "slideshow": {
     "slide_type": "subslide"
    }
   },
   "source": [
    "... the indices of a list..."
   ]
  },
  {
   "cell_type": "code",
   "execution_count": 46,
   "id": "77bc39d1",
   "metadata": {},
   "outputs": [
    {
     "name": "stdout",
     "output_type": "stream",
     "text": [
      "0\n",
      "1\n",
      "2\n"
     ]
    }
   ],
   "source": [
    "fruits = ['apple', 'banana', 'pineapple']\n",
    "for index in range(len(fruits)):\n",
    "    print(index)"
   ]
  },
  {
   "cell_type": "markdown",
   "id": "99380e35",
   "metadata": {
    "slideshow": {
     "slide_type": "subslide"
    }
   },
   "source": [
    "... and the characters of a string."
   ]
  },
  {
   "cell_type": "code",
   "execution_count": 47,
   "id": "fe6e739a",
   "metadata": {},
   "outputs": [
    {
     "name": "stdout",
     "output_type": "stream",
     "text": [
      "a\n",
      "p\n",
      "p\n",
      "l\n",
      "e\n"
     ]
    }
   ],
   "source": [
    "fruit = 'apple'\n",
    "for letter in fruit:\n",
    "    print(letter)"
   ]
  },
  {
   "cell_type": "markdown",
   "id": "69f197d9",
   "metadata": {
    "slideshow": {
     "slide_type": "slide"
    }
   },
   "source": [
    "We can also use a `for` loop to traverse the keys of a dictionary."
   ]
  },
  {
   "cell_type": "code",
   "execution_count": 48,
   "id": "9836e7ab",
   "metadata": {},
   "outputs": [
    {
     "name": "stdout",
     "output_type": "stream",
     "text": [
      "name\n",
      "color\n",
      "genus\n"
     ]
    }
   ],
   "source": [
    "fruit = {\n",
    "    'name': 'banana',\n",
    "    'color': 'yellow',\n",
    "    'genus': 'Musa'\n",
    "}\n",
    "for key in fruit:\n",
    "    print(key)"
   ]
  },
  {
   "cell_type": "markdown",
   "id": "c8f6dd11",
   "metadata": {
    "slideshow": {
     "slide_type": "slide"
    }
   },
   "source": [
    "Let's modify the `for` loop so that it prints the values, too."
   ]
  },
  {
   "cell_type": "code",
   "execution_count": 49,
   "id": "3a2ff5de",
   "metadata": {},
   "outputs": [
    {
     "name": "stdout",
     "output_type": "stream",
     "text": [
      "name\n",
      "color\n",
      "genus\n"
     ]
    }
   ],
   "source": [
    "fruit = {\n",
    "    'name': 'banana',\n",
    "    'color': 'yellow',\n",
    "    'genus': 'Musa'\n",
    "}\n",
    "for key in fruit:\n",
    "    print(key)"
   ]
  },
  {
   "cell_type": "markdown",
   "id": "41899f76",
   "metadata": {
    "slideshow": {
     "slide_type": "slide"
    }
   },
   "source": [
    "# Sorting the keys in a dictionary"
   ]
  },
  {
   "cell_type": "markdown",
   "id": "b032b242",
   "metadata": {
    "slideshow": {
     "slide_type": "subslide"
    }
   },
   "source": [
    "Consider a dictionary that maps students to grades..."
   ]
  },
  {
   "cell_type": "code",
   "execution_count": 50,
   "id": "fa6d236a",
   "metadata": {},
   "outputs": [],
   "source": [
    "grades = {\n",
    "    'lenny': 78,\n",
    "    'barbara': 90,\n",
    "    'george': 91,\n",
    "    'amy': 94,\n",
    "    'zack': 96\n",
    "}"
   ]
  },
  {
   "cell_type": "markdown",
   "id": "f6edf298",
   "metadata": {
    "slideshow": {
     "slide_type": "subslide"
    }
   },
   "source": [
    "How can we print the key-value pairs in `grades` with the student names in alphabetical order?"
   ]
  },
  {
   "cell_type": "markdown",
   "id": "6db67f76",
   "metadata": {
    "slideshow": {
     "slide_type": "slide"
    }
   },
   "source": [
    "You can sort the keys in a dictionary using the `sorted` function.\n",
    "\n",
    "The `sorted` function takes a dictionary and returns the sorted keys."
   ]
  },
  {
   "cell_type": "code",
   "execution_count": 51,
   "id": "922fe676",
   "metadata": {
    "scrolled": true
   },
   "outputs": [
    {
     "name": "stdout",
     "output_type": "stream",
     "text": [
      "['amy', 'barbara', 'george', 'lenny', 'zack']\n"
     ]
    }
   ],
   "source": [
    "grades = {\n",
    "    'lenny': 78,\n",
    "    'barbara': 90,\n",
    "    'george': 91,\n",
    "    'amy': 94,\n",
    "    'zack': 96\n",
    "}\n",
    "print(sorted(grades))\n",
    "#for student in sorted(grades):\n",
    "    #print(f'{student} has a grade of {grades[student]}%.')"
   ]
  },
  {
   "cell_type": "markdown",
   "id": "61f372cd",
   "metadata": {
    "slideshow": {
     "slide_type": "slide"
    }
   },
   "source": [
    "# Looking up a key by its value (reverse lookup)"
   ]
  },
  {
   "cell_type": "markdown",
   "id": "c1b5e0d9",
   "metadata": {
    "slideshow": {
     "slide_type": "subslide"
    }
   },
   "source": [
    "We have seen that it is easy to look up a *value* by its *key*."
   ]
  },
  {
   "cell_type": "code",
   "execution_count": 52,
   "id": "7174296e",
   "metadata": {},
   "outputs": [
    {
     "name": "stdout",
     "output_type": "stream",
     "text": [
      "banana\n"
     ]
    }
   ],
   "source": [
    "fruit = {\n",
    "    'name': 'banana',\n",
    "    'color': 'yellow',\n",
    "    'genus': 'Musa'\n",
    "}\n",
    "print(fruit['name'])"
   ]
  },
  {
   "cell_type": "markdown",
   "id": "8dd9375a",
   "metadata": {},
   "source": [
    "But, how can we look up a *key* by its *value*?\n",
    "\n",
    "E.g. How can we look up what key corresponds to the value `banana`?"
   ]
  },
  {
   "cell_type": "markdown",
   "id": "ed80871e",
   "metadata": {
    "slideshow": {
     "slide_type": "slide"
    }
   },
   "source": [
    "Looking up a key by its value is a more complicated process, called a **reverse lookup**."
   ]
  },
  {
   "cell_type": "markdown",
   "id": "732c3040",
   "metadata": {
    "slideshow": {
     "slide_type": "subslide"
    }
   },
   "source": [
    "The high-level procedure for a reverse lookup is\n",
    "\n",
    "- For each key in a dictionary\n",
    "    - Check the key's value\n",
    "        - If the value matches the value you are looking for, return the key\n",
    "- If you have checked the value of every key and none have matched the value you are looking for, raise a `LookupError`."
   ]
  },
  {
   "cell_type": "code",
   "execution_count": 53,
   "id": "fd792b2c",
   "metadata": {
    "scrolled": true,
    "slideshow": {
     "slide_type": "subslide"
    }
   },
   "outputs": [
    {
     "name": "stdout",
     "output_type": "stream",
     "text": [
      "name\n"
     ]
    }
   ],
   "source": [
    "def reverse_lookup(d, value):\n",
    "    for key in d:\n",
    "        if d[key] == value:\n",
    "            return key\n",
    "    raise LookupError()\n",
    "fruit = {\n",
    "    'name': 'banana',\n",
    "    'color': 'yellow',\n",
    "    'genus': 'Musa'\n",
    "}\n",
    "print(reverse_lookup(fruit, 'banana'))"
   ]
  },
  {
   "cell_type": "markdown",
   "id": "ffd8d1bf",
   "metadata": {
    "slideshow": {
     "slide_type": "slide"
    }
   },
   "source": [
    "# The `raise ` statement"
   ]
  },
  {
   "cell_type": "markdown",
   "id": "78b34a30",
   "metadata": {
    "slideshow": {
     "slide_type": "subslide"
    }
   },
   "source": [
    "Exceptions occur when something \"exceptionally\" bad happens."
   ]
  },
  {
   "cell_type": "markdown",
   "id": "34382b8f",
   "metadata": {
    "slideshow": {
     "slide_type": "slide"
    }
   },
   "source": [
    "## Types of exceptions we have encountered before"
   ]
  },
  {
   "cell_type": "markdown",
   "id": "ce11c0bd",
   "metadata": {
    "slideshow": {
     "slide_type": "subslide"
    }
   },
   "source": [
    "`KeyError`"
   ]
  },
  {
   "cell_type": "code",
   "execution_count": 54,
   "id": "39a8f18c",
   "metadata": {},
   "outputs": [
    {
     "ename": "KeyError",
     "evalue": "'price'",
     "output_type": "error",
     "traceback": [
      "\u001b[0;31m---------------------------------------------------------------------------\u001b[0m",
      "\u001b[0;31mKeyError\u001b[0m                                  Traceback (most recent call last)",
      "\u001b[0;32m/var/folders/bj/bw1mwdzj6vsbs4zf676n7rw80000gq/T/ipykernel_38538/3782377772.py\u001b[0m in \u001b[0;36m<module>\u001b[0;34m\u001b[0m\n\u001b[1;32m      4\u001b[0m     \u001b[0;34m'genus'\u001b[0m\u001b[0;34m:\u001b[0m \u001b[0;34m'Musa'\u001b[0m\u001b[0;34m\u001b[0m\u001b[0;34m\u001b[0m\u001b[0m\n\u001b[1;32m      5\u001b[0m }\n\u001b[0;32m----> 6\u001b[0;31m \u001b[0mprint\u001b[0m\u001b[0;34m(\u001b[0m\u001b[0mfruit\u001b[0m\u001b[0;34m[\u001b[0m\u001b[0;34m'price'\u001b[0m\u001b[0;34m]\u001b[0m\u001b[0;34m)\u001b[0m\u001b[0;34m\u001b[0m\u001b[0;34m\u001b[0m\u001b[0m\n\u001b[0m",
      "\u001b[0;31mKeyError\u001b[0m: 'price'"
     ]
    }
   ],
   "source": [
    "fruit = {\n",
    "    'name': 'banana',\n",
    "    'color': 'yellow',\n",
    "    'genus': 'Musa'\n",
    "}\n",
    "print(fruit['price'])"
   ]
  },
  {
   "cell_type": "markdown",
   "id": "0fbcca9c",
   "metadata": {
    "slideshow": {
     "slide_type": "subslide"
    }
   },
   "source": [
    "`IndexError`"
   ]
  },
  {
   "cell_type": "code",
   "execution_count": 55,
   "id": "70c40c44",
   "metadata": {},
   "outputs": [
    {
     "ename": "IndexError",
     "evalue": "list index out of range",
     "output_type": "error",
     "traceback": [
      "\u001b[0;31m---------------------------------------------------------------------------\u001b[0m",
      "\u001b[0;31mIndexError\u001b[0m                                Traceback (most recent call last)",
      "\u001b[0;32m/var/folders/bj/bw1mwdzj6vsbs4zf676n7rw80000gq/T/ipykernel_38538/1540587109.py\u001b[0m in \u001b[0;36m<module>\u001b[0;34m\u001b[0m\n\u001b[1;32m      1\u001b[0m \u001b[0mfruits\u001b[0m \u001b[0;34m=\u001b[0m \u001b[0;34m[\u001b[0m\u001b[0;34m'apple'\u001b[0m\u001b[0;34m,\u001b[0m \u001b[0;34m'banana'\u001b[0m\u001b[0;34m,\u001b[0m \u001b[0;34m'pineapple'\u001b[0m\u001b[0;34m]\u001b[0m\u001b[0;34m\u001b[0m\u001b[0;34m\u001b[0m\u001b[0m\n\u001b[0;32m----> 2\u001b[0;31m \u001b[0mprint\u001b[0m\u001b[0;34m(\u001b[0m\u001b[0mfruits\u001b[0m\u001b[0;34m[\u001b[0m\u001b[0;36m3\u001b[0m\u001b[0;34m]\u001b[0m\u001b[0;34m)\u001b[0m\u001b[0;34m\u001b[0m\u001b[0;34m\u001b[0m\u001b[0m\n\u001b[0m",
      "\u001b[0;31mIndexError\u001b[0m: list index out of range"
     ]
    }
   ],
   "source": [
    "fruits = ['apple', 'banana', 'pineapple']\n",
    "print(fruits[3])"
   ]
  },
  {
   "cell_type": "markdown",
   "id": "6a91afe1",
   "metadata": {
    "slideshow": {
     "slide_type": "subslide"
    }
   },
   "source": [
    "`FileNotFoundError`"
   ]
  },
  {
   "cell_type": "code",
   "execution_count": 56,
   "id": "845cfd3a",
   "metadata": {},
   "outputs": [
    {
     "ename": "FileNotFoundError",
     "evalue": "[Errno 2] No such file or directory: 'does-not-exist.txt'",
     "output_type": "error",
     "traceback": [
      "\u001b[0;31m---------------------------------------------------------------------------\u001b[0m",
      "\u001b[0;31mFileNotFoundError\u001b[0m                         Traceback (most recent call last)",
      "\u001b[0;32m/var/folders/bj/bw1mwdzj6vsbs4zf676n7rw80000gq/T/ipykernel_38538/38292061.py\u001b[0m in \u001b[0;36m<module>\u001b[0;34m\u001b[0m\n\u001b[0;32m----> 1\u001b[0;31m \u001b[0mfin\u001b[0m \u001b[0;34m=\u001b[0m \u001b[0mopen\u001b[0m\u001b[0;34m(\u001b[0m\u001b[0;34m'does-not-exist.txt'\u001b[0m\u001b[0;34m)\u001b[0m\u001b[0;34m\u001b[0m\u001b[0;34m\u001b[0m\u001b[0m\n\u001b[0m",
      "\u001b[0;31mFileNotFoundError\u001b[0m: [Errno 2] No such file or directory: 'does-not-exist.txt'"
     ]
    }
   ],
   "source": [
    "fin = open('does-not-exist.txt')"
   ]
  },
  {
   "cell_type": "markdown",
   "id": "8fad4e05",
   "metadata": {
    "slideshow": {
     "slide_type": "slide"
    }
   },
   "source": [
    "These `KeyError`, `IndexError`, and `FileNotFoundError` exceptions are raised internally by Python. We can raise our own exceptions by using the `raise` statement.\n",
    "\n",
    "Use the keyword `raise` followed by the name of the exception you want to raise."
   ]
  },
  {
   "cell_type": "code",
   "execution_count": 57,
   "id": "fa7891b2",
   "metadata": {},
   "outputs": [],
   "source": [
    "def reverse_lookup(d, value):\n",
    "    for key in d:\n",
    "        if d[key] == value:\n",
    "            return key\n",
    "    raise LookupError()"
   ]
  },
  {
   "cell_type": "markdown",
   "id": "d0dc0fe6",
   "metadata": {
    "slideshow": {
     "slide_type": "subslide"
    }
   },
   "source": [
    "You should raise an exception when you want to let the user of your program or code know that something went wrong."
   ]
  },
  {
   "cell_type": "markdown",
   "id": "348b6d7a",
   "metadata": {
    "slideshow": {
     "slide_type": "slide"
    }
   },
   "source": [
    "Other exceptions you could raise include:\n",
    "\n",
    "- `Exception`\n",
    "- `NotImplementedError`\n",
    "\n",
    "You can find more exceptions that you can raise in the [Python documentation](https://docs.python.org/3/library/exceptions.html)."
   ]
  },
  {
   "cell_type": "markdown",
   "id": "21b934d9",
   "metadata": {
    "slideshow": {
     "slide_type": "slide"
    }
   },
   "source": [
    "## Catching a raised exception"
   ]
  },
  {
   "cell_type": "markdown",
   "id": "0817caa5",
   "metadata": {
    "slideshow": {
     "slide_type": "subslide"
    }
   },
   "source": [
    "Remember that you should place risky code in a `try` statement. Risky code is any code that has a reasonable chance of causing an exception."
   ]
  },
  {
   "cell_type": "code",
   "execution_count": 58,
   "id": "d4dbaac6",
   "metadata": {
    "slideshow": {
     "slide_type": "subslide"
    }
   },
   "outputs": [
    {
     "name": "stdout",
     "output_type": "stream",
     "text": [
      "Before line that causes exception. Runs!\n",
      "There was an exception.\n"
     ]
    }
   ],
   "source": [
    "try:\n",
    "    print('Before line that causes exception. Runs!')\n",
    "    fin = open('does-not-exist.txt')\n",
    "    print('After line that causes exception. Never runs!')\n",
    "except:\n",
    "    print('There was an exception.')"
   ]
  },
  {
   "cell_type": "markdown",
   "id": "fa8ff36b",
   "metadata": {},
   "source": [
    "Notice that as soon as the risky code causes an exception, the flow of execution jumps down to the `except` block. None of the code after the line that causes the exception is run."
   ]
  },
  {
   "cell_type": "code",
   "execution_count": 59,
   "id": "c71e2c5b",
   "metadata": {
    "slideshow": {
     "slide_type": "subslide"
    }
   },
   "outputs": [
    {
     "name": "stdout",
     "output_type": "stream",
     "text": [
      "Before line that causes exception. Runs!\n",
      "There was an exception.\n"
     ]
    }
   ],
   "source": [
    "try:\n",
    "    print('Before line that causes exception. Runs!')\n",
    "    raise Exception()\n",
    "    print('After line that causes exception. Never runs!')\n",
    "except:\n",
    "    print('There was an exception.')"
   ]
  },
  {
   "cell_type": "markdown",
   "id": "9604b6d4",
   "metadata": {
    "slideshow": {
     "slide_type": "slide"
    }
   },
   "source": [
    "# Keys of a dictionary must be immutable"
   ]
  },
  {
   "cell_type": "markdown",
   "id": "01c9b57e",
   "metadata": {
    "slideshow": {
     "slide_type": "subslide"
    }
   },
   "source": [
    "Keys can be strings, integers, floats, and even booleans! This is because they are immutable."
   ]
  },
  {
   "cell_type": "code",
   "execution_count": 60,
   "id": "8d33c92a",
   "metadata": {
    "slideshow": {
     "slide_type": "-"
    }
   },
   "outputs": [],
   "source": [
    "random = {\n",
    "    'name': 'foobar',\n",
    "    0: True,\n",
    "    3.14: 'pie',\n",
    "    False: 12345\n",
    "}"
   ]
  },
  {
   "cell_type": "markdown",
   "id": "261bdc2b",
   "metadata": {
    "slideshow": {
     "slide_type": "subslide"
    }
   },
   "source": [
    "Keys cannot be lists because they are mutable."
   ]
  },
  {
   "cell_type": "code",
   "execution_count": 61,
   "id": "0c7e7d50",
   "metadata": {},
   "outputs": [
    {
     "ename": "TypeError",
     "evalue": "unhashable type: 'list'",
     "output_type": "error",
     "traceback": [
      "\u001b[0;31m---------------------------------------------------------------------------\u001b[0m",
      "\u001b[0;31mTypeError\u001b[0m                                 Traceback (most recent call last)",
      "\u001b[0;32m/var/folders/bj/bw1mwdzj6vsbs4zf676n7rw80000gq/T/ipykernel_38538/3650687410.py\u001b[0m in \u001b[0;36m<module>\u001b[0;34m\u001b[0m\n\u001b[1;32m      1\u001b[0m \u001b[0mt\u001b[0m \u001b[0;34m=\u001b[0m \u001b[0;34m[\u001b[0m\u001b[0;36m1\u001b[0m\u001b[0;34m,\u001b[0m \u001b[0;36m2\u001b[0m\u001b[0;34m,\u001b[0m \u001b[0;36m3\u001b[0m\u001b[0;34m]\u001b[0m\u001b[0;34m\u001b[0m\u001b[0;34m\u001b[0m\u001b[0m\n\u001b[0;32m----> 2\u001b[0;31m \u001b[0mrandom\u001b[0m\u001b[0;34m[\u001b[0m\u001b[0mt\u001b[0m\u001b[0;34m]\u001b[0m \u001b[0;34m=\u001b[0m \u001b[0;34m'list'\u001b[0m \u001b[0;31m# Causes an exception\u001b[0m\u001b[0;34m\u001b[0m\u001b[0;34m\u001b[0m\u001b[0m\n\u001b[0m",
      "\u001b[0;31mTypeError\u001b[0m: unhashable type: 'list'"
     ]
    }
   ],
   "source": [
    "t = [1, 2, 3]\n",
    "random[t] = 'list' # Causes an exception"
   ]
  },
  {
   "cell_type": "markdown",
   "id": "9b18b13e",
   "metadata": {
    "slideshow": {
     "slide_type": "slide"
    }
   },
   "source": [
    "# Summary"
   ]
  },
  {
   "cell_type": "markdown",
   "id": "a6dbe88a",
   "metadata": {
    "slideshow": {
     "slide_type": "subslide"
    }
   },
   "source": [
    "- What dictionaries are and how to create them\n",
    "- How to look up values by key\n",
    "- How to add items to a dictionary\n",
    "- How to check if something is a key or value in a dictionary\n",
    "- How to use dictionaries to store counters\n",
    "- How to traverse the keys of a dictionary\n",
    "- How to sort the keys of a dictionary\n",
    "- How to look up keys by value\n",
    "- How to raise an exception\n",
    "- What types keys can and cannot be"
   ]
  },
  {
   "cell_type": "markdown",
   "id": "565f950c",
   "metadata": {
    "slideshow": {
     "slide_type": "slide"
    }
   },
   "source": [
    "# Office Hours\n",
    "\n",
    "**M** 11:30 AM - 12:30 PM; 2:00 - 4:00 PM\n",
    "\n",
    "**Tu** 10:00 AM - 1:00 PM\n",
    "\n",
    "**W** 11:30 AM - 12:30 PM\n",
    "\n",
    "**F** 11:30 AM - 12:30 PM; 3:00 - 4:00 PM"
   ]
  }
 ],
 "metadata": {
  "celltoolbar": "Slideshow",
  "kernelspec": {
   "display_name": "Python 3 (ipykernel)",
   "language": "python",
   "name": "python3"
  },
  "language_info": {
   "codemirror_mode": {
    "name": "ipython",
    "version": 3
   },
   "file_extension": ".py",
   "mimetype": "text/x-python",
   "name": "python",
   "nbconvert_exporter": "python",
   "pygments_lexer": "ipython3",
   "version": "3.9.7"
  },
  "rise": {
   "autolaunch": true,
   "enable_chalkboard": true
  }
 },
 "nbformat": 4,
 "nbformat_minor": 5
}
