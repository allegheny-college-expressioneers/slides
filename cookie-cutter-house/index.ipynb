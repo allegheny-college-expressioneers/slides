{
 "cells": [
  {
   "cell_type": "markdown",
   "id": "5550657c",
   "metadata": {
    "slideshow": {
     "slide_type": "slide"
    }
   },
   "source": [
    "# Cookie Cutter House\n",
    "\n",
    "(Introduction to object-oriented programming)"
   ]
  },
  {
   "cell_type": "markdown",
   "id": "eb0c2a48",
   "metadata": {
    "slideshow": {
     "slide_type": "slide"
    }
   },
   "source": [
    "We have looked at many values so far...\n",
    "\n",
    "```python\n",
    "numbers = [1, 2, 3]\n",
    "person = {\n",
    "    'name': 'Bee',\n",
    "    'age': 22\n",
    "}\n",
    "color = 'blue'\n",
    "height = 50\n",
    "pi = 3.14\n",
    "is_valid = True\n",
    "```"
   ]
  },
  {
   "cell_type": "markdown",
   "id": "8a79c85d",
   "metadata": {
    "slideshow": {
     "slide_type": "slide"
    }
   },
   "source": [
    "How does Python know what to show when we write\n",
    "\n",
    "```python\n",
    "color = 'blue'\n",
    "print(color)\n",
    "```\n",
    "\n",
    "?\n",
    "\n",
    "The value `'blue'` is stored somewhere in the computer's memory... "
   ]
  },
  {
   "cell_type": "markdown",
   "id": "bd94afe9",
   "metadata": {
    "slideshow": {
     "slide_type": "subslide"
    }
   },
   "source": [
    "![Values in memory](values-in-memory.png)"
   ]
  },
  {
   "cell_type": "markdown",
   "id": "f3f5f1bf",
   "metadata": {
    "slideshow": {
     "slide_type": "slide"
    }
   },
   "source": [
    "**How do *you* know that you can call the following methods on `color`?**\n",
    "\n",
    "```python\n",
    "color = 'blue'\n",
    "print(color.strip())\n",
    "print(color.startswith('b'))\n",
    "print(color.isupper())\n",
    "```"
   ]
  },
  {
   "cell_type": "markdown",
   "id": "e165021d",
   "metadata": {
    "slideshow": {
     "slide_type": "subslide"
    }
   },
   "source": [
    "Because the value of `color` (`'blue'`) is of type `str`, or string!\n",
    "\n",
    "There is a set of methods that we can call on any value of type `str`.\n",
    "\n",
    "Go to: https://docs.python.org/3/library/stdtypes.html#string-methods\n",
    "\n",
    "**What is another method we can call on any value of type `str`?**"
   ]
  },
  {
   "cell_type": "markdown",
   "id": "2c66470a",
   "metadata": {
    "slideshow": {
     "slide_type": "slide"
    }
   },
   "source": [
    "Python *also* needs to keep track of what we can do to each value in our programs, such as `'blue'`.\n",
    "\n",
    "When we write `color = 'blue'`, Python knows that `'blue'` is a string because of the quotes. Python then stores\n",
    "\n",
    "1. The value: `'blue'`\n",
    "2. All of the things we can *do* to any string: `strip`, `startswith`, `isupper`, etc...\n",
    "\n",
    "in the computer's memory. What is stored is determined by the type of the value (string).\n",
    "\n",
    "This \"thing\" in memory that represents the value `'blue'` is called an **object**."
   ]
  },
  {
   "cell_type": "markdown",
   "id": "b3d8663f",
   "metadata": {
    "slideshow": {
     "slide_type": "subslide"
    }
   },
   "source": [
    "![Objects in memory](objects-in-memory.png)"
   ]
  },
  {
   "cell_type": "markdown",
   "id": "58979f99",
   "metadata": {
    "slideshow": {
     "slide_type": "slide"
    }
   },
   "source": [
    "We can think of variables, like `color`, as addresses to objects in the computer's memory--they allow us to continue using these objects throughout our programs."
   ]
  },
  {
   "cell_type": "markdown",
   "id": "c099b787",
   "metadata": {
    "slideshow": {
     "slide_type": "subslide"
    }
   },
   "source": [
    "```python\n",
    "numbers = [1, 2, 3] # numbers is an address to [1, 2, 3] list object\n",
    "# Can use numbers to interact with [1, 2, 3] list object\n",
    "numbers.append(7)\n",
    "numbers.pop()\n",
    "numbers.remove(2)\n",
    "```\n",
    "\n",
    "What about objects that are *not* mapped to a variable?\n",
    "\n",
    "```python\n",
    "print([4, 5, 6])\n",
    "```\n",
    "\n",
    "**Can we call `list` methods, such as `append`, `pop`, and `remove`, on the value `[4, 5, 6]`? Explain why or why not.**"
   ]
  },
  {
   "cell_type": "markdown",
   "id": "a87e4caa",
   "metadata": {
    "slideshow": {
     "slide_type": "subslide"
    }
   },
   "source": [
    "![Garbage collection](garbage-collection.png)"
   ]
  },
  {
   "cell_type": "markdown",
   "id": "34671473",
   "metadata": {
    "slideshow": {
     "slide_type": "slide"
    }
   },
   "source": [
    "If we want to continue using the `[4, 5, 6]` `list` object, we have to map it to a variable."
   ]
  },
  {
   "cell_type": "code",
   "execution_count": 8,
   "id": "79b5d6dd",
   "metadata": {
    "slideshow": {
     "slide_type": "-"
    }
   },
   "outputs": [
    {
     "name": "stdout",
     "output_type": "stream",
     "text": [
      "[4, 6]\n"
     ]
    }
   ],
   "source": [
    "more_numbers = [4, 5, 6]\n",
    "more_numbers.append(10)\n",
    "more_numbers.pop()\n",
    "more_numbers.remove(5)\n",
    "print(more_numbers)"
   ]
  },
  {
   "cell_type": "markdown",
   "id": "62391b11",
   "metadata": {
    "slideshow": {
     "slide_type": "slide"
    }
   },
   "source": [
    "Using a search engine, find a resource that shows all of the methods we can call on a value of type `list`.\n",
    "\n",
    "**Write down your search query, the link to the resource you found, and one method you can call on any `list` object.**"
   ]
  },
  {
   "cell_type": "markdown",
   "id": "ee0837d1",
   "metadata": {
    "slideshow": {
     "slide_type": "slide"
    }
   },
   "source": [
    "What is **object-oriented programming (OOP)**?\n",
    "\n",
    "A way of programming where each value is represented by an object that contains the value *and* what we can do to that value in the computer's memory."
   ]
  },
  {
   "cell_type": "markdown",
   "id": "b86aeae7",
   "metadata": {
    "slideshow": {
     "slide_type": "subslide"
    }
   },
   "source": [
    "Python is an OOP *language* because of the way it represents values as objects."
   ]
  },
  {
   "cell_type": "markdown",
   "id": "89379f05",
   "metadata": {
    "slideshow": {
     "slide_type": "slide"
    }
   },
   "source": [
    "In OOP, objects (value and things we can do to the value) often reflect the real world."
   ]
  },
  {
   "cell_type": "markdown",
   "id": "1388fa3b",
   "metadata": {
    "slideshow": {
     "slide_type": "subslide"
    }
   },
   "source": [
    "In the real world, we refer to collections of items as \"lists\":\n",
    "\n",
    "- Grocery list\n",
    "- Todo list\n",
    "- Bucket list\n",
    "\n",
    "`list` objects are named as such because they too are collections of items.\n",
    "\n",
    "Because we add items and remove items from real world lists, the `list` type has methods that allow us to add items and remove items as well."
   ]
  },
  {
   "cell_type": "markdown",
   "id": "7de5f94b",
   "metadata": {
    "slideshow": {
     "slide_type": "slide"
    }
   },
   "source": [
    "Python allows us to define our own types and create objects of that type to represent real world things in our programs.\n",
    "\n",
    "To know what types we need to define, we need to think about what *values* we want to store.\n",
    "\n",
    "- Historical car catalog? `Car` type.\n",
    "- Doggy day care management system? `Dog` type.\n",
    "- Animal Crossing clone? `House` type.\n",
    "\n",
    "**Imagine you want to build a new social media platform. What are three types that you might want to define?**"
   ]
  },
  {
   "cell_type": "markdown",
   "id": "9b7f45ce",
   "metadata": {
    "slideshow": {
     "slide_type": "slide"
    }
   },
   "source": [
    "To define a new type, we use the `class` keyword.\n",
    "\n",
    "```python\n",
    "class Car:\n",
    "    \"\"\"Represent a car.\"\"\"\n",
    "\n",
    "class Dog:\n",
    "    \"\"\"Represent a dog.\"\"\"\n",
    "```\n",
    "\n",
    "These are examples of class definition headers."
   ]
  },
  {
   "cell_type": "markdown",
   "id": "9f088cd5",
   "metadata": {
    "slideshow": {
     "slide_type": "subslide"
    }
   },
   "source": [
    "The word \"class\" is interchangeable with \"type\"."
   ]
  },
  {
   "cell_type": "code",
   "execution_count": 9,
   "id": "c52fa1c4",
   "metadata": {
    "scrolled": true
   },
   "outputs": [
    {
     "name": "stdout",
     "output_type": "stream",
     "text": [
      "<class 'str'>\n"
     ]
    }
   ],
   "source": [
    "print(type('blue'))"
   ]
  },
  {
   "cell_type": "markdown",
   "id": "0374e053",
   "metadata": {
    "slideshow": {
     "slide_type": "subslide"
    }
   },
   "source": [
    "**Define a House type.**"
   ]
  },
  {
   "cell_type": "markdown",
   "id": "c5dc7336",
   "metadata": {
    "slideshow": {
     "slide_type": "slide"
    }
   },
   "source": [
    "We have not yet created any objects of type `House`--we just defined the `House` type.\n",
    "\n",
    "Let's create some `House` objects."
   ]
  },
  {
   "cell_type": "markdown",
   "id": "3cd9ab90",
   "metadata": {
    "slideshow": {
     "slide_type": "slide"
    }
   },
   "source": [
    "We can create objects of built-in types by using a syntax Python will recognize.\n",
    "\n",
    "```python\n",
    "numbers = [1, 2, 3] # Square brackets\n",
    "person = {\n",
    "    'name': 'Bee',\n",
    "    'age': 22\n",
    "} # Curly braces\n",
    "color = 'blue' # Quotes\n",
    "height = 50 # Number without decimal\n",
    "pi = 3.14 # Number with decimal\n",
    "is_valid = True # Either True or False\n",
    "```"
   ]
  },
  {
   "cell_type": "markdown",
   "id": "7e24685d",
   "metadata": {
    "slideshow": {
     "slide_type": "subslide"
    }
   },
   "source": [
    "To create objects of types *we* define, we need to explicitly state what type the object should be.\n",
    "\n",
    "```python\n",
    "herbie = Car()\n",
    "winston = Dog()\n",
    "```\n",
    "\n",
    "To create an object of any type, we write the type followed by parentheses."
   ]
  },
  {
   "cell_type": "markdown",
   "id": "3c444f80",
   "metadata": {
    "slideshow": {
     "slide_type": "subslide"
    }
   },
   "source": [
    "**Create two `House` objects, one named `home` and the other `vacation_home`. Print out their types. Then, check if `home` and `vacation_home` are the same object.**\n",
    "\n",
    "What is the output? Are `home` and `vacation_home` the same object?"
   ]
  },
  {
   "cell_type": "markdown",
   "id": "ac3638ae",
   "metadata": {
    "slideshow": {
     "slide_type": "slide"
    }
   },
   "source": [
    "Everytime we call `House()`, we create a new object.\n",
    "\n",
    "![Houses in memory](houses-in-mem.png)\n",
    "\n",
    "We need to define what will go in the white boxes (i.e. what House objects will look like)."
   ]
  },
  {
   "cell_type": "markdown",
   "id": "d15099e2",
   "metadata": {
    "slideshow": {
     "slide_type": "slide"
    }
   },
   "source": [
    "There are two things about each `House` object that we need to define:\n",
    "\n",
    "1. The value (this week)\n",
    "2. Things we can do to the value (next week)\n",
    "\n",
    "We define these things in the class definition."
   ]
  },
  {
   "cell_type": "markdown",
   "id": "cb6a363c",
   "metadata": {
    "slideshow": {
     "slide_type": "slide"
    }
   },
   "source": [
    "The value can be anything...\n",
    "\n",
    "- A string\n",
    "- A number (integer or float)\n",
    "- A boolean\n",
    "- A list\n",
    "- A dictionary\n",
    "- An object of a type *we* define"
   ]
  },
  {
   "cell_type": "markdown",
   "id": "ec1ba5d6",
   "metadata": {
    "slideshow": {
     "slide_type": "subslide"
    }
   },
   "source": [
    "And even...\n",
    "\n",
    "*Multiple* values.\n",
    "\n",
    "This is the beauty of defining our own types (and why we do it!)--they allow us to organize our values."
   ]
  },
  {
   "cell_type": "markdown",
   "id": "45bc35e0",
   "metadata": {
    "slideshow": {
     "slide_type": "slide"
    }
   },
   "source": [
    "**What are three values (i.e. information) you might want to store about a house?**"
   ]
  },
  {
   "cell_type": "markdown",
   "id": "03759f24",
   "metadata": {
    "slideshow": {
     "slide_type": "slide"
    }
   },
   "source": [
    "How do you define values that each object of a type will contain?\n",
    "\n",
    "```python\n",
    "class Car:\n",
    "    \"\"\"Represent a car.\"\"\"\n",
    "    def __init__(self, make, model, year):\n",
    "        self.make = make\n",
    "        self.model = model\n",
    "        self.year = year\n",
    "jurassic = Car('Ford', 'Explorer', 1992)\n",
    "```"
   ]
  },
  {
   "cell_type": "markdown",
   "id": "b5dedb6f",
   "metadata": {
    "slideshow": {
     "slide_type": "slide"
    }
   },
   "source": [
    "Let's unpack this...\n",
    "\n",
    "- What is the `__init__` method? What are methods that start and end with underscores called in Python?\n",
    "- When is the `__init__` method *called* in this code?\n",
    "- What is the `self` parameter and what does it store?\n",
    "- How do we *use* the `self` parameter to assign attributes on the object being created?\n",
    "- How are the arguments passed into `Car()` used? Where is `self`?\n",
    "- What are the values of `jurassic.make`, `jurassic.model`, and `jurassic.year`?"
   ]
  },
  {
   "cell_type": "markdown",
   "id": "3ec6a96b",
   "metadata": {
    "slideshow": {
     "slide_type": "subslide"
    }
   },
   "source": [
    "**What is the `__init__` method? What are methods that start and end with underscores called in Python?**\n",
    "\n",
    "`__init__` is referred to as the constructor method--called everytime a `Car` object is created, or constructed.\n",
    "\n",
    "`__init__` is an example of special method (https://docs.python.org/3/reference/datamodel.html#special-method-names)"
   ]
  },
  {
   "cell_type": "markdown",
   "id": "321a22fb",
   "metadata": {
    "slideshow": {
     "slide_type": "subslide"
    }
   },
   "source": [
    "**When is the `__init__` method *called* in this code?**\n",
    "\n",
    "When a `Car` object is created!\n",
    "\n",
    "```python\n",
    "jurassic = Car('Ford', 'Explorer', 1992)\n",
    "```"
   ]
  },
  {
   "cell_type": "markdown",
   "id": "b5d4cab0",
   "metadata": {
    "slideshow": {
     "slide_type": "subslide"
    }
   },
   "source": [
    "**What is the `self` parameter and what does it store?**\n",
    "\n",
    "A reference to the object being created.\n",
    "\n",
    "```python\n",
    "jurassic = Car('Ford', 'Explorer', 1992)\n",
    "```\n",
    "\n",
    "`self` refers to object stored in `jurassic`."
   ]
  },
  {
   "cell_type": "markdown",
   "id": "08b27918",
   "metadata": {
    "slideshow": {
     "slide_type": "subslide"
    }
   },
   "source": [
    "**How do we *use* the `self` parameter to assign attributes on the object being created?**\n",
    "\n",
    "Dot notation!\n",
    "\n",
    "```python\n",
    "self.make = make\n",
    "self.model = model\n",
    "self.year = year\n",
    "```"
   ]
  },
  {
   "cell_type": "markdown",
   "id": "0b736af8",
   "metadata": {
    "slideshow": {
     "slide_type": "subslide"
    }
   },
   "source": [
    "**How are the arguments passed into `Car()` used? Where is `self`?**\n",
    "\n",
    "Arguments are passed to `__init__`.\n",
    "\n",
    "`self` is automatically passed by Python."
   ]
  },
  {
   "cell_type": "markdown",
   "id": "1a8a6ca3",
   "metadata": {
    "slideshow": {
     "slide_type": "subslide"
    }
   },
   "source": [
    "**What are the values of `jurassic.make`, `jurassic.model`, and `jurassic.year`?**"
   ]
  },
  {
   "cell_type": "code",
   "execution_count": 10,
   "id": "eee98a4a",
   "metadata": {
    "scrolled": true
   },
   "outputs": [
    {
     "name": "stdout",
     "output_type": "stream",
     "text": [
      "Make: Ford\n",
      "Model: Explorer\n",
      "Year: 1992\n"
     ]
    }
   ],
   "source": [
    "class Car:\n",
    "    \"\"\"Represent a car.\"\"\"\n",
    "    def __init__(self, make, model, year):\n",
    "        self.make = make\n",
    "        self.model = model\n",
    "        self.year = year\n",
    "jurassic = Car('Ford', 'Explorer', 1992)\n",
    "print(f'Make: {jurassic.make}')\n",
    "print(f'Model: {jurassic.model}')\n",
    "print(f'Year: {jurassic.year}')"
   ]
  },
  {
   "cell_type": "markdown",
   "id": "fa84ac31",
   "metadata": {},
   "source": [
    "We can access an object's **attributes** (those set on `self`) with dot notation."
   ]
  },
  {
   "cell_type": "markdown",
   "id": "64450e19",
   "metadata": {
    "slideshow": {
     "slide_type": "slide"
    }
   },
   "source": [
    "**Define the `__init__`, or constructor, method of the `House` class such that objects of type `House` will have values `bedrooms` (number), `bathrooms` (number), and three other values of your choosing.**\n",
    "\n",
    "**Then, create two `House` objects (`home` and `vacation_home`) that each have different values.**\n",
    "\n",
    "**Finally, print their bedrooms and bathrooms.**"
   ]
  },
  {
   "cell_type": "markdown",
   "id": "5632196f",
   "metadata": {
    "slideshow": {
     "slide_type": "slide"
    }
   },
   "source": [
    "```python\n",
    "class House:\n",
    "    \"\"\"Represent a house.\"\"\"\n",
    "    def __init__(self, bedrooms, bathrooms):\n",
    "        self.bedrooms = bedrooms\n",
    "        self.bathrooms = bathrooms\n",
    "        \n",
    "home = House(3, 2)\n",
    "vacation_home = House(4, 1)\n",
    "```"
   ]
  },
  {
   "cell_type": "markdown",
   "id": "78498aa5",
   "metadata": {
    "slideshow": {
     "slide_type": "slide"
    }
   },
   "source": [
    "![Houses in memory with values](houses-with-values.png)"
   ]
  },
  {
   "cell_type": "markdown",
   "id": "32f5ee01",
   "metadata": {
    "slideshow": {
     "slide_type": "slide"
    }
   },
   "source": [
    "**Combine your ELI5 descriptions of the difference between a class and an object (of that class).**"
   ]
  },
  {
   "cell_type": "markdown",
   "id": "8ffdd105",
   "metadata": {
    "slideshow": {
     "slide_type": "subslide"
    }
   },
   "source": [
    "**Then, merge with another group and combine your ELI5s to produce an even *better* ELI5.**"
   ]
  },
  {
   "cell_type": "markdown",
   "id": "f3c27f08",
   "metadata": {
    "slideshow": {
     "slide_type": "subslide"
    }
   },
   "source": [
    "**Merge again with another group. Combine your ELI5s *again*.**"
   ]
  },
  {
   "cell_type": "markdown",
   "id": "c762cd2b",
   "metadata": {
    "slideshow": {
     "slide_type": "subslide"
    }
   },
   "source": [
    "**Let's come up with our best ELI5 as a class.**"
   ]
  }
 ],
 "metadata": {
  "celltoolbar": "Slideshow",
  "kernelspec": {
   "display_name": "Python 3 (ipykernel)",
   "language": "python",
   "name": "python3"
  },
  "language_info": {
   "codemirror_mode": {
    "name": "ipython",
    "version": 3
   },
   "file_extension": ".py",
   "mimetype": "text/x-python",
   "name": "python",
   "nbconvert_exporter": "python",
   "pygments_lexer": "ipython3",
   "version": "3.9.7"
  },
  "rise": {
   "autolaunch": true,
   "enable_chalkboard": true
  }
 },
 "nbformat": 4,
 "nbformat_minor": 5
}
